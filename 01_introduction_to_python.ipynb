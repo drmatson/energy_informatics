{
 "cells": [
  {
   "cell_type": "markdown",
   "id": "da7ea8fa",
   "metadata": {},
   "source": [
    "# 🐍 Introduction to Python\n",
    "\n",
    "Python is the most widely used programming language in **data science 📊** and **machine learning 🤖** because of its **simplicity ✨**, **flexibility 🔧**, and rich ecosystem of libraries like **NumPy ➕**, **Pandas 🐼**, **scikit-learn 📘**, **TensorFlow 🔗**, and **PyTorch 🔥**. It enables efficient **data manipulation 🔄**, **visualization 📈**, and **model development 🧩**, making it the backbone for **building 🏗️**, **training 🏋️**, and **deploying 🚀** machine learning solutions."
   ]
  },
  {
   "cell_type": "markdown",
   "id": "c92e6a2c-6856-4377-98fb-c6b133fea542",
   "metadata": {},
   "source": [
    "---\n",
    "\n",
    "# 📦 Packages\n",
    "\n",
    "* **NumPy ➕** – The foundation for numerical computing in Python; great for working with arrays and performing mathematical operations.\n",
    "* **Pandas 🐼** – A library for data manipulation and analysis; makes it easy to handle tables, spreadsheets, and time-series data.\n",
    "* **Matplotlib 📊** – A plotting library for creating static, interactive, and animated visualizations in Python.\n",
    "* **Seaborn 🎨** – Built on top of Matplotlib; makes beautiful, statistical plots with simpler code.\n",
    "* **scikit-learn 🤖** – A machine learning library for tasks like classification, regression, clustering, and model evaluation.\n",
    "* **…** – Other useful packages include **TensorFlow 🔗** and **PyTorch 🔥** for deep learning, and **Statsmodels 📉** for statistical modeling."
   ]
  },
  {
   "cell_type": "markdown",
   "id": "74544239-4d91-417b-9808-73cc98f7229a",
   "metadata": {},
   "source": [
    "----\n",
    "# 🐍 Getting Python\n",
    "## 1️⃣ Install Anaconda 🐼\n",
    "\n",
    "Anaconda is a package that makes working with Python easier for **data science 📊**.\n",
    "\n",
    "* 🌐 Go to [Anaconda Distribution](https://www.anaconda.com/products/distribution)\n",
    "* 💻 Download the version for your operating system (**Windows 🪟, Mac 🍎, or Linux 🐧**)\n",
    "* ⚙️ Run the installer and follow the steps (on Windows, you may see “Add Anaconda to PATH”—you can leave it unchecked, Anaconda Prompt will still work)\n",
    "\n",
    "---\n",
    "\n",
    "## 2️⃣ Create a Virtual Environment 🧩\n",
    "\n",
    "Environments let you keep different projects separate, each with its own Python and libraries.\n",
    "\n",
    "* 🖥️ Open **Anaconda Prompt** (or terminal)\n",
    "* 🆕 Create a new environment called `myenv` with Python 3.9\n",
    "* ▶️ Activate your environment\n",
    "\n",
    "---\n",
    "\n",
    "## 3️⃣ Start Jupyter Notebook 📓\n",
    "\n",
    "Jupyter Notebook lets you write and run Python code in your browser, mixing **code 💻, notes 📝, and charts 📈**.\n",
    "\n",
    "* 📥 Install Jupyter (if not already included)\n",
    "* 🚀 Run Jupyter\n",
    "* 🌍 A browser window will open where you can create and run notebooks (`.ipynb` files)\n",
    "\n",
    "---"
   ]
  },
  {
   "cell_type": "markdown",
   "id": "ca8611d5-eedc-4bda-9162-fbd33179ecca",
   "metadata": {
    "jp-MarkdownHeadingCollapsed": true
   },
   "source": [
    "# ☁️💻 Google Colab\n",
    "\n",
    "Google Colab (short for *Colaboratory*) is a **free, cloud-based platform 🌐** from Google that lets you write and run **Python code 🐍** right in your web browser. It’s especially popular for **data science 📊, machine learning 🤖, and deep learning 🧠** because:\n",
    "\n",
    "* 🚫 You don’t need to install anything—just log in with your **Google account 🔑**\n",
    "* ⚡ It provides free access to **CPUs 🖥️, GPUs 🎮, and TPUs 🚀**, which are great for training ML models\n",
    "* 🤝 You can easily share notebooks with others, just like **Google Docs 📄**\n",
    "* 📚 It supports Python libraries like **NumPy ➕, Pandas 🐼, TensorFlow 🔗, PyTorch 🔥, and scikit-learn 📘**\n",
    "\n",
    "---\n",
    "\n",
    "## 🚀 To get started:\n",
    "\n",
    "1. 🌍 Go to [Google Colab](https://colab.research.google.com/)\n",
    "2. 🆕 Create a new notebook\n",
    "3. ✍️ Write and run Python code directly in cells\n",
    "4. 💾 Save your work to **Google Drive ☁️** for easy access later\n",
    "\n",
    "---\n"
   ]
  },
  {
   "cell_type": "markdown",
   "id": "6cd9e769-458a-4163-8d00-4bc8db6c8e29",
   "metadata": {},
   "source": [
    "# 🌱 Git\n",
    "\n",
    "**Git 🔧** is a **version control system** that helps developers track changes in their code, collaborate with others, and manage different versions of a project. It’s like a history tool for your code, making teamwork and rollbacks much easier.\n",
    "\n",
    "👉 [Learn Git at W3Schools](https://www.w3schools.com/git/)\n",
    "\n",
    "---\n",
    "\n",
    "* **Repos 📦** – Online platforms to store and share code:\n",
    "\n",
    "  * **GitHub 🐙** – The most popular platform for open-source and collaboration.\n",
    "  * **Bitbucket 🧩** – Often used in teams, with good integration for Jira/Atlassian tools.\n",
    "  * **GitLab 🦊** – Open-source option with built-in DevOps and CI/CD features.\n",
    "\n",
    "* **Apps 💻** – Tools that make Git easier to use with a graphical interface:\n",
    "\n",
    "  * **SourceTree 🌳** – A desktop app for managing Git repos visually.\n",
    "  * **GitHub Desktop 🖥️** – Simple app for working with GitHub projects.\n",
    "  * … and others like **GitKraken 🐙⚡**."
   ]
  },
  {
   "cell_type": "markdown",
   "id": "ba86bcd9",
   "metadata": {},
   "source": [
    "# 🔤 Types in Python\n",
    "\n",
    "In Python, **data types** tell us what kind of value we are working with. Python is a **dynamically typed language**, meaning you don’t need to declare types explicitly — Python figures it out for you.\n",
    "\n",
    "## Common Python Data Types:\n",
    "\n",
    "* **int 🔢** – Whole numbers (e.g., `5`, `-42`, `1000`)\n",
    "* **float ➗** – Decimal numbers (e.g., `3.14`, `-0.5`, `2.0`)\n",
    "* **str 📝** – Text strings (e.g., `\"Solar\"`, `'Energy'`)\n",
    "* **bool ✅/❌** – Boolean values: `True` or `False`\n",
    "* **list 📋** – Ordered, changeable collection (e.g., `[1, 2, 3]`)\n",
    "* **tuple 🔒** – Ordered, but unchangeable collection (e.g., `(1, 2, 3)`)\n",
    "* **dict 📖** – Key-value pairs (e.g., `{\"building\": \"1\", \"demand\": 25.0}`)\n",
    "* **set 🧩** – Unordered collection of unique items (e.g., `{1, 2, 3}`)"
   ]
  },
  {
   "cell_type": "markdown",
   "id": "7ce518fa",
   "metadata": {},
   "source": [
    "# 🔢 Operations on Numbers in Python\n",
    "\n",
    "Python can handle **arithmetic operations** easily with both **integers (int)** and **decimals (float)**.\n",
    "\n",
    "## ✨ Basic Arithmetic Operators\n",
    "\n",
    "* ➕ **Addition**: `5 + 3 = 8`\n",
    "* ➖ **Subtraction**: `5 - 3 = 2`\n",
    "* ✖️ **Multiplication**: `5 * 3 = 15`\n",
    "* ➗ **Division**: `5 / 2 = 2.5` (always gives a float)\n",
    "* 🧮 **Floor Division**: `5 // 2 = 2` (rounds down to whole number)\n",
    "* 🔑 **Modulus (Remainder)**: `5 % 2 = 1`\n",
    "* ⚡ **Exponentiation (Power)**: `2 ** 3 = 8`\n",
    "\n",
    "---"
   ]
  },
  {
   "cell_type": "code",
   "execution_count": 296,
   "id": "6951ddbb",
   "metadata": {},
   "outputs": [
    {
     "name": "stdout",
     "output_type": "stream",
     "text": [
      "Sum: 2 + 2 = 4\n",
      "Multiplication: 1 * 3 = 3\n",
      "Division: 0.5\n",
      "Power: 2 ** 3 = 8\n",
      "Mod: 8 % 4 = 0\n",
      "Mod: 7 % 2 = 1\n",
      "Integer division: 7 // 2 = 3\n",
      "Order of operations: (4 + 1) * (6 + 5) = 55\n"
     ]
    }
   ],
   "source": [
    "print(\"Sum: 2 + 2 = \", end=\"\")\n",
    "print(2 + 2)\n",
    "print(\"Multiplication: 1 * 3 = \", end=\"\")\n",
    "print(1 * 3)\n",
    "print(\"Division: \", end=\"\")\n",
    "print(1 / 2)\n",
    "print(\"Power: 2 ** 3 = \", end=\"\")\n",
    "print(2 ** 3)\n",
    "print(\"Mod: 8 % 4 = \", end=\"\")\n",
    "print(8 % 4)\n",
    "print(\"Mod: 7 % 2 = \", end=\"\")\n",
    "print(7 % 2)\n",
    "print(\"Integer division: 7 // 2 = \", end=\"\")\n",
    "print(7 // 2)\n",
    "print(\"Order of operations: (4 + 1) * (6 + 5) = \", end=\"\")\n",
    "print((4 + 1) * (6 + 5))"
   ]
  },
  {
   "cell_type": "markdown",
   "id": "a6353bd2",
   "metadata": {},
   "source": [
    "# 🏷️ Variables in Python\n",
    "\n",
    "A **variable** is like a container 🧺 that stores a value. In Python, you don’t need to declare the type — it’s assigned automatically when you store a value.\n",
    "\n",
    "## ✨ Examples\n",
    "\n",
    "```python\n",
    "capacity_mw = 120       # int\n",
    "plant_name = \"SolarOne\" # str\n",
    "efficiency = 19.5       # float (%)\n",
    "is_renewable = True     # bool\n",
    "```\n",
    "\n",
    "👉 You can change the value of a variable at any time:\n",
    "\n",
    "```python\n",
    "x = 10\n",
    "x = 20   # now x holds 20\n",
    "```\n",
    "\n",
    "---\n",
    "\n",
    "## 📝 Naming Conventions\n",
    "\n",
    "Python has some rules and best practices for naming variables.\n",
    "\n",
    "📖 Full guide here: [PEP 8 — Naming Conventions](https://peps.python.org/pep-0008/#naming-conventions)\n",
    "\n",
    "### ✅ Rules (must follow)\n",
    "\n",
    "* Names can include **letters, digits, and underscores** (`_`)\n",
    "* Must **start with a letter or underscore** (not a number)\n",
    "* **Case-sensitive** (`Name` and `name` are different)\n",
    "\n",
    "```python\n",
    "_valid = 5\n",
    "name1 = \"Elering\"\n",
    "```\n",
    "\n",
    "🚫 Invalid examples:\n",
    "\n",
    "```python\n",
    "1name = \"Alexela\"   # ❌ can’t start with a number\n",
    "my-name = \"Elering\"   # ❌ hyphens not allowed\n",
    "```\n",
    "\n",
    "---\n",
    "\n",
    "### 📌 Conventions (best practices)\n",
    "\n",
    "* Use **snake\\_case** for variables:\n",
    "\n",
    "  ```python\n",
    "  user_name = \"Alexela\"\n",
    "  total_price = 100\n",
    "  ```\n",
    "* Use **UPPERCASE** for constants:\n",
    "\n",
    "  ```python\n",
    "  PI = 3.14159\n",
    "  MAX_USERS = 100\n",
    "  ```\n",
    "* Choose **meaningful names** (avoid single letters unless for math loops):\n",
    "\n",
    "  ```python\n",
    "  score = 95    # ✅ clear\n",
    "  s = 95        # ⚠️ less clear\n",
    "  ```\n"
   ]
  },
  {
   "cell_type": "markdown",
   "id": "cc9d45fc",
   "metadata": {},
   "source": [
    "# 📝 Strings in Python\n",
    "\n",
    "A **string** is a sequence of characters (letters, numbers, symbols, spaces) enclosed in quotes. You can use **single (`'`), double (`\"`), or triple quotes (`'''` or `\"\"\"`)** for strings.\n",
    "\n",
    "👉 Strings in Python are **immutable** (you can’t change them directly, but you can create new ones).\n",
    "\n",
    "## ✨ Examples"
   ]
  },
  {
   "cell_type": "code",
   "execution_count": 297,
   "id": "b3a3101b",
   "metadata": {},
   "outputs": [
    {
     "data": {
      "text/plain": [
       "'string'"
      ]
     },
     "execution_count": 297,
     "metadata": {},
     "output_type": "execute_result"
    }
   ],
   "source": [
    "'string'"
   ]
  },
  {
   "cell_type": "code",
   "execution_count": 298,
   "id": "a4a95240",
   "metadata": {},
   "outputs": [
    {
     "data": {
      "text/plain": [
       "'string'"
      ]
     },
     "execution_count": 298,
     "metadata": {},
     "output_type": "execute_result"
    }
   ],
   "source": [
    "\"string\""
   ]
  },
  {
   "cell_type": "code",
   "execution_count": 299,
   "id": "5eed4f2a",
   "metadata": {},
   "outputs": [
    {
     "data": {
      "text/plain": [
       "\"It's string\""
      ]
     },
     "execution_count": 299,
     "metadata": {},
     "output_type": "execute_result"
    }
   ],
   "source": [
    "\"It's string\""
   ]
  },
  {
   "cell_type": "code",
   "execution_count": 300,
   "id": "62d27e89",
   "metadata": {},
   "outputs": [
    {
     "data": {
      "text/plain": [
       "\"it's string\""
      ]
     },
     "execution_count": 300,
     "metadata": {},
     "output_type": "execute_result"
    }
   ],
   "source": [
    "'it\\'s string'"
   ]
  },
  {
   "cell_type": "markdown",
   "id": "d3197803-91d5-41d3-863a-0ddd47133af3",
   "metadata": {},
   "source": [
    "---\n",
    "\n",
    "## 🔧 String Operations\n",
    "\n",
    "Strings are very flexible in Python.\n",
    "\n",
    "* ➕ **Concatenation**:"
   ]
  },
  {
   "cell_type": "code",
   "execution_count": 301,
   "id": "235fb6ec-861a-443d-9f2c-55542532defc",
   "metadata": {},
   "outputs": [
    {
     "data": {
      "text/plain": [
       "'Solar energy'"
      ]
     },
     "execution_count": 301,
     "metadata": {},
     "output_type": "execute_result"
    }
   ],
   "source": [
    "  \"Solar \" + \"energy\"   # \"Solar energy\""
   ]
  },
  {
   "cell_type": "markdown",
   "id": "39b899b4-70a9-4962-9c1d-bc4d87d20486",
   "metadata": {},
   "source": [
    "* ✖️ **Repetition**:"
   ]
  },
  {
   "cell_type": "code",
   "execution_count": 302,
   "id": "9efb4ad7-a3eb-4464-8c3e-76295a71fca7",
   "metadata": {},
   "outputs": [
    {
     "data": {
      "text/plain": [
       "'Hi! Hi! Hi! '"
      ]
     },
     "execution_count": 302,
     "metadata": {},
     "output_type": "execute_result"
    }
   ],
   "source": [
    "  \"Hi! \" * 3   # \"Hi! Hi! Hi! \""
   ]
  },
  {
   "cell_type": "markdown",
   "id": "11bbadc5-5e6c-415f-90fe-3489766d0d46",
   "metadata": {},
   "source": [
    "* 🔢 **Indexing & Slicing**:"
   ]
  },
  {
   "cell_type": "code",
   "execution_count": 303,
   "id": "1695c148-0d5a-4a72-af4e-22f40bc2b7da",
   "metadata": {},
   "outputs": [
    {
     "name": "stdout",
     "output_type": "stream",
     "text": [
      "S\n",
      "r\n",
      "Sol\n"
     ]
    }
   ],
   "source": [
    "energy = \"Solar\"\n",
    "\n",
    "print(energy[0])     # S (first char)\n",
    "print(energy[-1])    # r (last char)\n",
    "print(energy[0:3])   # Sol"
   ]
  },
  {
   "cell_type": "markdown",
   "id": "6df2e880-db01-443e-879b-512fe4d90777",
   "metadata": {},
   "source": [
    "* 📏 **Length**:"
   ]
  },
  {
   "cell_type": "code",
   "execution_count": 304,
   "id": "87dd7772-aacf-4479-967d-4d438b414098",
   "metadata": {},
   "outputs": [
    {
     "data": {
      "text/plain": [
       "5"
      ]
     },
     "execution_count": 304,
     "metadata": {},
     "output_type": "execute_result"
    }
   ],
   "source": [
    "  len(\"Solar\")   # 6"
   ]
  },
  {
   "cell_type": "markdown",
   "id": "6e78ae03-1182-4ed0-a288-8c96b21bd89c",
   "metadata": {},
   "source": [
    "---\n",
    "## 🎯 Useful String Methods\n",
    "\n",
    "Python has many built-in string functions:\n"
   ]
  },
  {
   "cell_type": "code",
   "execution_count": 305,
   "id": "47c71913-f85a-47c9-adbd-11588fb680fa",
   "metadata": {},
   "outputs": [
    {
     "name": "stdout",
     "output_type": "stream",
     "text": [
      "  CLEAN ENERGY  \n",
      "  clean energy  \n",
      "clean energy\n",
      "  clean power  \n",
      "['clean', 'energy']\n"
     ]
    }
   ],
   "source": [
    "energy = \"  clean energy  \"\n",
    "\n",
    "print(energy.upper())        # \"  CLEAN ENERGY  \"\n",
    "print(energy.lower())        # \"  clean energy  \"\n",
    "print(energy.strip())        # \"clean energy\"\n",
    "print(energy.replace(\"energy\", \"power\"))  # \"  clean power  \"\n",
    "print(energy.split())        # ['clean', 'energy']"
   ]
  },
  {
   "cell_type": "markdown",
   "id": "041f9314",
   "metadata": {},
   "source": [
    "---\n",
    "## 🖨️ Output / Printing in Python\n",
    "\n",
    "In Python, we use the **`print()` function** to display information on the screen. It can show text, numbers, variables, or even results of expressions.\n",
    "\n",
    "---\n",
    "\n",
    "### ✨ Basic Printing"
   ]
  },
  {
   "cell_type": "code",
   "execution_count": 306,
   "id": "4d92272c-46fb-4e4f-ab5a-39e7be99d10c",
   "metadata": {},
   "outputs": [
    {
     "name": "stdout",
     "output_type": "stream",
     "text": [
      "Renewable Energy Rocks!\n",
      "120\n"
     ]
    }
   ],
   "source": [
    "print(\"Renewable Energy Rocks!\")   # prints text\n",
    "print(120)                         # prints a number (e.g., MW capacity)\n"
   ]
  },
  {
   "cell_type": "markdown",
   "id": "335bda9e-2fa6-4280-b9bf-714fccd4f2a9",
   "metadata": {},
   "source": [
    "---\n",
    "\n",
    "### 🔗 Printing Variables"
   ]
  },
  {
   "cell_type": "code",
   "execution_count": 307,
   "id": "2a570a1f-694d-4a9b-a0d2-844d4533542d",
   "metadata": {},
   "outputs": [
    {
     "name": "stdout",
     "output_type": "stream",
     "text": [
      "Wind\n",
      "Capacity: 200\n"
     ]
    }
   ],
   "source": [
    "source = \"Wind\"\n",
    "capacity = 200\n",
    "\n",
    "print(source)             # Wind\n",
    "print(\"Capacity:\", capacity)  # Capacity: 200"
   ]
  },
  {
   "cell_type": "markdown",
   "id": "7a62620f-788f-4ece-b8cb-355c04e28be9",
   "metadata": {},
   "source": [
    "---\n",
    "\n",
    "### ➕ Concatenation\n",
    "\n",
    "You can join strings together:"
   ]
  },
  {
   "cell_type": "code",
   "execution_count": 308,
   "id": "edc302a6-0efd-4bb1-b0a7-cfb208175ab2",
   "metadata": {},
   "outputs": [
    {
     "name": "stdout",
     "output_type": "stream",
     "text": [
      "Solar Energy\n"
     ]
    }
   ],
   "source": [
    "print(\"Solar \" + \"Energy\") "
   ]
  },
  {
   "cell_type": "markdown",
   "id": "7e3d89e9-b847-4deb-ade8-0d757211826b",
   "metadata": {},
   "source": [
    "\n",
    "---\n",
    "### 🎯 f-Strings (modern & recommended)\n",
    "f-strings let you insert variables directly inside a string (Python 3.6+):"
   ]
  },
  {
   "cell_type": "code",
   "execution_count": 309,
   "id": "f05acddc-38bb-4007-a8b4-1e83fc17e8ee",
   "metadata": {},
   "outputs": [
    {
     "name": "stdout",
     "output_type": "stream",
     "text": [
      "The solar plant generates 120 MW of power.\n"
     ]
    }
   ],
   "source": [
    "source = \"solar\"\n",
    "capacity = 120\n",
    "print(f\"The {source} plant generates {capacity} MW of power.\")\n",
    "# The solar plant generates 120 MW of power."
   ]
  },
  {
   "cell_type": "code",
   "execution_count": 310,
   "id": "49488e33-5f28-44ef-b83b-ff53f138bb86",
   "metadata": {},
   "outputs": [
    {
     "name": "stdout",
     "output_type": "stream",
     "text": [
      "Send 'solar' power to the grid\n"
     ]
    }
   ],
   "source": [
    "energy1 = \"solar\"\n",
    "energy2 = \"grid\"\n",
    "\n",
    "print(\"Send '{}' power to the {}\".format(energy1, energy2))\n",
    "# Send 'solar' power to the grid"
   ]
  },
  {
   "cell_type": "markdown",
   "id": "5efbb007-9bc3-4b57-814d-3104ea991bef",
   "metadata": {},
   "source": [
    "\n",
    "---\n",
    "\n",
    "### 🧩 Formatting Numbers"
   ]
  },
  {
   "cell_type": "code",
   "execution_count": 311,
   "id": "71b4a2b3-f794-410e-b5b9-115702bffdbb",
   "metadata": {},
   "outputs": [
    {
     "name": "stdout",
     "output_type": "stream",
     "text": [
      "Pi rounded: 3.14\n"
     ]
    }
   ],
   "source": [
    "pi = 3.14159\n",
    "print(f\"Pi rounded: {pi:.2f}\")   # Pi rounded: 3.14"
   ]
  },
  {
   "cell_type": "code",
   "execution_count": 312,
   "id": "3e67f55d-a67b-4545-9da8-dad9da3b906a",
   "metadata": {},
   "outputs": [
    {
     "name": "stdout",
     "output_type": "stream",
     "text": [
      "Print number nicely 356.09\n"
     ]
    }
   ],
   "source": [
    "print(\"Print number nicely %.2f\"% (356.08977))"
   ]
  },
  {
   "cell_type": "markdown",
   "id": "d9a143a1",
   "metadata": {},
   "source": [
    "# ✅ Booleans in Python\n",
    "\n",
    "A **Boolean** represents one of two values:\n",
    "\n",
    "* `True` ✔️\n",
    "* `False` ❌\n",
    "\n",
    "They are often used for **conditions** and **logic** in programs.\n",
    "\n",
    "---\n",
    "\n",
    "## ✨ Examples"
   ]
  },
  {
   "cell_type": "code",
   "execution_count": 313,
   "id": "9055497c",
   "metadata": {},
   "outputs": [
    {
     "data": {
      "text/plain": [
       "False"
      ]
     },
     "execution_count": 313,
     "metadata": {},
     "output_type": "execute_result"
    }
   ],
   "source": [
    "False"
   ]
  },
  {
   "cell_type": "code",
   "execution_count": 314,
   "id": "b4e85c05",
   "metadata": {},
   "outputs": [
    {
     "data": {
      "text/plain": [
       "True"
      ]
     },
     "execution_count": 314,
     "metadata": {},
     "output_type": "execute_result"
    }
   ],
   "source": [
    "True"
   ]
  },
  {
   "cell_type": "code",
   "execution_count": 315,
   "id": "4dccee8b-0b70-4f6f-ac85-2274cde2c67a",
   "metadata": {},
   "outputs": [
    {
     "name": "stdout",
     "output_type": "stream",
     "text": [
      "True\n",
      "<class 'bool'>\n"
     ]
    }
   ],
   "source": [
    "is_renewable = True\n",
    "is_fossil = False\n",
    "\n",
    "print(is_renewable)        # True\n",
    "print(type(is_fossil))     # <class 'bool'>"
   ]
  },
  {
   "cell_type": "markdown",
   "id": "bdc5bf95-8a0b-4475-b200-ab63ef272267",
   "metadata": {},
   "source": [
    "---\n",
    "\n",
    "## 🔄 Comparison Operators (return Boolean)\n"
   ]
  },
  {
   "cell_type": "code",
   "execution_count": 316,
   "id": "312138de-a0ef-4c57-a89b-954059d6394d",
   "metadata": {},
   "outputs": [
    {
     "name": "stdout",
     "output_type": "stream",
     "text": [
      "True\n",
      "False\n",
      "True\n"
     ]
    }
   ],
   "source": [
    "print(5 > 3)   # True\n",
    "print(5 == 3)  # False\n",
    "print(5 != 3)  # True"
   ]
  },
  {
   "cell_type": "markdown",
   "id": "75d41707-e85b-4a38-84b5-67b9119127df",
   "metadata": {},
   "source": [
    "---\n",
    "\n",
    "## ⚡ Logical Operators\n",
    "\n",
    "Booleans can be combined with `and`, `or`, and `not`:"
   ]
  },
  {
   "cell_type": "code",
   "execution_count": 317,
   "id": "8b31aed7-10ba-4192-ab90-6971d56bdda2",
   "metadata": {},
   "outputs": [
    {
     "name": "stdout",
     "output_type": "stream",
     "text": [
      "False\n",
      "True\n",
      "False\n"
     ]
    }
   ],
   "source": [
    "x = True\n",
    "y = False\n",
    "\n",
    "print(x and y)  # False\n",
    "print(x or y)   # True\n",
    "print(not x)    # False"
   ]
  },
  {
   "cell_type": "code",
   "execution_count": 318,
   "id": "55a20aa0-37d2-47e2-8cac-916e6e6b3e0f",
   "metadata": {},
   "outputs": [
    {
     "data": {
      "text/plain": [
       "True"
      ]
     },
     "execution_count": 318,
     "metadata": {},
     "output_type": "execute_result"
    }
   ],
   "source": [
    "(1 > 2) or (1 < 2)"
   ]
  },
  {
   "cell_type": "code",
   "execution_count": 319,
   "id": "cb31ca01-90e0-4a96-9a4d-ef55c21705e8",
   "metadata": {},
   "outputs": [
    {
     "data": {
      "text/plain": [
       "False"
      ]
     },
     "execution_count": 319,
     "metadata": {},
     "output_type": "execute_result"
    }
   ],
   "source": [
    "(1 > 2) and (1 < 2)"
   ]
  },
  {
   "cell_type": "markdown",
   "id": "08f7d585-3999-4925-a4b3-6d55ecede600",
   "metadata": {},
   "source": [
    "# 🔀 if, elif, else in Python\n",
    "\n",
    "Python uses `if`, `elif`, and `else` statements to make **decisions** in code. These control the **flow of execution** depending on conditions (True/False).\n",
    "\n",
    "---\n",
    "\n",
    "## ✨ Syntax\n",
    "\n",
    "```python\n",
    "if condition1:\n",
    "    # code runs if condition1 is True\n",
    "elif condition2:\n",
    "    # code runs if condition2 is True\n",
    "else:\n",
    "    # code runs if none of the above are True\n",
    "```\n",
    "\n",
    "---\n",
    "\n",
    "## ⚡ Key Points\n",
    "\n",
    "* Use **`if`** for the first condition.\n",
    "* Use **`elif`** (else if) for more conditions.\n",
    "* Use **`else`** for a default/fallback action.\n",
    "* Indentation (spaces) is important in Python!\n"
   ]
  },
  {
   "cell_type": "markdown",
   "id": "eea8c500-c266-4f38-84ce-f80b688c3ce9",
   "metadata": {},
   "source": [
    "\n",
    "---\n",
    "\n",
    "## 📝 Example"
   ]
  },
  {
   "cell_type": "code",
   "execution_count": 320,
   "id": "3699940f-df49-4266-9621-a8394fff8cb2",
   "metadata": {},
   "outputs": [
    {
     "name": "stdout",
     "output_type": "stream",
     "text": [
      "Yes\n"
     ]
    }
   ],
   "source": [
    "if 1 < 2:\n",
    "    print('Yes')"
   ]
  },
  {
   "cell_type": "code",
   "execution_count": 321,
   "id": "9491e6f8-35f6-4f6b-978d-452e82ccffc7",
   "metadata": {},
   "outputs": [
    {
     "name": "stdout",
     "output_type": "stream",
     "text": [
      "Yes\n"
     ]
    }
   ],
   "source": [
    "if 1 < 2:\n",
    "    print('Yes')\n",
    "else:\n",
    "    print('No')"
   ]
  },
  {
   "cell_type": "code",
   "execution_count": 322,
   "id": "82c6aad7-702b-4270-b729-c989d6b20402",
   "metadata": {},
   "outputs": [
    {
     "name": "stdout",
     "output_type": "stream",
     "text": [
      "2\n"
     ]
    }
   ],
   "source": [
    "if 1 > 2:\n",
    "    print('1')\n",
    "elif 2 == 2:\n",
    "    print('2')\n",
    "else:\n",
    "    print('3')"
   ]
  },
  {
   "cell_type": "markdown",
   "id": "88c54e39",
   "metadata": {},
   "source": [
    "---\n",
    "# More complex data types"
   ]
  },
  {
   "cell_type": "markdown",
   "id": "1d6a39c0",
   "metadata": {},
   "source": [
    "# 📋 Lists in Python \n",
    "\n",
    "A **list** can store multiple energy-related values, like power readings, energy sources, or daily consumption.\n",
    "\n",
    "---\n",
    "\n",
    "## ✨ Creating a List\n"
   ]
  },
  {
   "cell_type": "code",
   "execution_count": 323,
   "id": "6eb12bcf-629d-4b43-a942-49738369f626",
   "metadata": {},
   "outputs": [],
   "source": [
    "energy_sources = [\"solar\", \"wind\", \"hydro\", \"nuclear\"]\n",
    "daily_consumption_kwh = [15.2, 18.5, 20.1, 16.7]"
   ]
  },
  {
   "cell_type": "markdown",
   "id": "a5647f61-6dff-4ea6-b387-0110bb553156",
   "metadata": {},
   "source": [
    "---\n",
    "\n",
    "## 🔄 Accessing Items"
   ]
  },
  {
   "cell_type": "code",
   "execution_count": 324,
   "id": "c56c16c8-68d6-4199-90eb-a61bb8605100",
   "metadata": {},
   "outputs": [
    {
     "name": "stdout",
     "output_type": "stream",
     "text": [
      "solar\n",
      "16.7\n"
     ]
    }
   ],
   "source": [
    "print(energy_sources[0])   # solar\n",
    "print(daily_consumption_kwh[-1])  # 16.7 (last day's usage)"
   ]
  },
  {
   "cell_type": "code",
   "execution_count": 325,
   "id": "4aaacc82",
   "metadata": {},
   "outputs": [
    {
     "name": "stdout",
     "output_type": "stream",
     "text": [
      "solar\n",
      "['wind', 'hydro', 'nuclear']\n",
      "['solar']\n",
      "nuclear\n"
     ]
    }
   ],
   "source": [
    "energy_sources = [\"solar\", \"wind\", \"hydro\", \"nuclear\"]\n",
    "\n",
    "print(energy_sources[0])     # solar\n",
    "print(energy_sources[1:])    # ['wind', 'hydro', 'nuclear']\n",
    "print(energy_sources[:1])    # ['solar']\n",
    "print(energy_sources[3])     # nuclear"
   ]
  },
  {
   "cell_type": "markdown",
   "id": "2646adff-e4f5-4176-9061-1b08f9b8a628",
   "metadata": {},
   "source": [
    "## ✨ Nested lists"
   ]
  },
  {
   "cell_type": "code",
   "execution_count": 326,
   "id": "61d43f7b-bb2f-4cf8-a912-e7c1966a1665",
   "metadata": {},
   "outputs": [
    {
     "name": "stdout",
     "output_type": "stream",
     "text": [
      "['solar', 'wind', ['hydro', ['nuclear']]]\n",
      "solar\n",
      "['hydro', ['nuclear']]\n",
      "hydro\n",
      "['nuclear']\n",
      "nuclear\n"
     ]
    }
   ],
   "source": [
    "energy_nested = [\"solar\", \"wind\", [\"hydro\", [\"nuclear\"]]]\n",
    "print(energy_nested)\n",
    "# ['solar', 'wind', ['hydro', ['nuclear']]]\n",
    "\n",
    "print(energy_nested[0])        # solar\n",
    "print(energy_nested[2])        # ['hydro', ['nuclear']]\n",
    "print(energy_nested[2][0])     # hydro\n",
    "print(energy_nested[2][1])     # ['nuclear']\n",
    "print(energy_nested[2][1][0])  # nuclear"
   ]
  },
  {
   "cell_type": "code",
   "execution_count": 327,
   "id": "0ec8b149-ea11-45a7-9229-ddbc902565b0",
   "metadata": {},
   "outputs": [
    {
     "name": "stdout",
     "output_type": "stream",
     "text": [
      "['hydro', ['nuclear']]\n",
      "['nuclear']\n",
      "nuclear\n"
     ]
    }
   ],
   "source": [
    "print(energy_nested[2])\n",
    "print(energy_nested[2][1])\n",
    "print(energy_nested[2][1][0])"
   ]
  },
  {
   "cell_type": "markdown",
   "id": "c8c21b18-e446-410d-8178-16c236086b13",
   "metadata": {},
   "source": [
    "\n",
    "---\n",
    "\n",
    "## 📝 Modifying a List"
   ]
  },
  {
   "cell_type": "code",
   "execution_count": 328,
   "id": "a7af17ac-d1fd-4892-9139-35395bc36d73",
   "metadata": {},
   "outputs": [
    {
     "name": "stdout",
     "output_type": "stream",
     "text": [
      "['solar', 'geothermal', 'hydro', 'nuclear']\n"
     ]
    }
   ],
   "source": [
    "energy_sources[1] = \"geothermal\"\n",
    "print(energy_sources)  \n",
    "# ['solar', 'geothermal', 'hydro', 'nuclear']"
   ]
  },
  {
   "cell_type": "markdown",
   "id": "73332115-c169-4967-86ec-8947ef1ae7d0",
   "metadata": {},
   "source": [
    "---\n",
    "\n",
    "## ➕ Adding Items"
   ]
  },
  {
   "cell_type": "code",
   "execution_count": 329,
   "id": "bc2a4a76-a03a-4b07-9080-ffdd92e4cc37",
   "metadata": {},
   "outputs": [],
   "source": [
    "energy_sources.append(\"biomass\")\n",
    "daily_consumption_kwh.insert(0, 14.8)  # add a new day at the start"
   ]
  },
  {
   "cell_type": "markdown",
   "id": "0a50ffa9-68e0-4fd3-ba3f-a598ee0d9def",
   "metadata": {},
   "source": [
    "---\n",
    "\n",
    "## ❌ Removing Items"
   ]
  },
  {
   "cell_type": "code",
   "execution_count": 330,
   "id": "9def8b8d-6939-4370-8452-4975dd6661cc",
   "metadata": {},
   "outputs": [
    {
     "data": {
      "text/plain": [
       "16.7"
      ]
     },
     "execution_count": 330,
     "metadata": {},
     "output_type": "execute_result"
    }
   ],
   "source": [
    "energy_sources.remove(\"nuclear\")\n",
    "daily_consumption_kwh.pop()   # remove last entry"
   ]
  },
  {
   "cell_type": "markdown",
   "id": "c38e489d-a143-4b16-b906-a8e5098fbd55",
   "metadata": {},
   "source": [
    "---\n",
    "\n",
    "## 🔁 Looping Through a List"
   ]
  },
  {
   "cell_type": "code",
   "execution_count": 331,
   "id": "b71c73f6-b4fc-456b-8d59-ffad222c9dab",
   "metadata": {},
   "outputs": [
    {
     "name": "stdout",
     "output_type": "stream",
     "text": [
      "Energy source: solar\n",
      "Energy source: geothermal\n",
      "Energy source: hydro\n",
      "Energy source: biomass\n"
     ]
    }
   ],
   "source": [
    "for source in energy_sources:\n",
    "    print(f\"Energy source: {source}\")"
   ]
  },
  {
   "cell_type": "markdown",
   "id": "8cdc47f4-f6bc-4a58-a0b0-f71f0af475d2",
   "metadata": {},
   "source": [
    "---\n",
    "\n",
    "## 📊 Useful Functions"
   ]
  },
  {
   "cell_type": "code",
   "execution_count": 332,
   "id": "aea1141d-bd4b-438e-b6a5-c4c631329cd5",
   "metadata": {},
   "outputs": [
    {
     "name": "stdout",
     "output_type": "stream",
     "text": [
      "4\n",
      "20.1\n",
      "14.8\n",
      "68.6\n"
     ]
    }
   ],
   "source": [
    "print(len(daily_consumption_kwh))   # number of days recorded\n",
    "print(max(daily_consumption_kwh))   # highest consumption\n",
    "print(min(daily_consumption_kwh))   # lowest consumption\n",
    "print(sum(daily_consumption_kwh))   # total consumption"
   ]
  },
  {
   "cell_type": "markdown",
   "id": "ca260de5-9f9a-4d84-9376-31d29e48a9cd",
   "metadata": {},
   "source": [
    "---\n",
    "\n",
    "## 👍 Membership test"
   ]
  },
  {
   "cell_type": "code",
   "execution_count": 333,
   "id": "5150b67c",
   "metadata": {},
   "outputs": [
    {
     "name": "stdout",
     "output_type": "stream",
     "text": [
      "False\n",
      "True\n"
     ]
    }
   ],
   "source": [
    "print(\"solar\" in [\"wind\", \"hydro\", \"nuclear\"])  \n",
    "# False\n",
    "\n",
    "print(\"wind\" in [\"wind\", \"hydro\", \"nuclear\"])  \n",
    "# True"
   ]
  },
  {
   "cell_type": "markdown",
   "id": "b90b695a",
   "metadata": {},
   "source": [
    "---\n",
    "\n",
    "# 📖 Dictionaries in Python\n",
    "\n",
    "A **dictionary** in Python stores data as **key–value pairs**.\n",
    "\n",
    "* Keys 🗝️ are unique identifiers.\n",
    "* Values 📦 are the data linked to those keys.\n",
    "* \n",
    "👉 Dictionaries are super useful for storing **structured data** like details of power plants, energy production, or sensor readings.\n",
    "---\n",
    "\n",
    "## ✨ Creating a Dictionary"
   ]
  },
  {
   "cell_type": "code",
   "execution_count": 334,
   "id": "934a29a6-5362-44ce-91bb-74fa76b787f8",
   "metadata": {},
   "outputs": [],
   "source": [
    "energy_plant = {\n",
    "    \"name\": \"SolarOne\",\n",
    "    \"capacity_mw\": 120,\n",
    "    \"is_renewable\": True}"
   ]
  },
  {
   "cell_type": "markdown",
   "id": "a1734a40-fa5f-465c-90b8-327a9da8d65a",
   "metadata": {},
   "source": [
    "---\n",
    "\n",
    "## 🔎 Accessing Values"
   ]
  },
  {
   "cell_type": "code",
   "execution_count": 335,
   "id": "df432e81-b610-4d68-b9ea-43fc8abf20be",
   "metadata": {},
   "outputs": [
    {
     "name": "stdout",
     "output_type": "stream",
     "text": [
      "SolarOne\n",
      "120\n"
     ]
    }
   ],
   "source": [
    "print(energy_plant[\"name\"])       # SolarOne\n",
    "print(energy_plant[\"capacity_mw\"])  # 120"
   ]
  },
  {
   "cell_type": "markdown",
   "id": "8477b28e-d9bb-42ef-b35c-c760585e04cc",
   "metadata": {},
   "source": [
    "---\n",
    "\n",
    "## 📝 Modifying a Dictionary"
   ]
  },
  {
   "cell_type": "code",
   "execution_count": 336,
   "id": "0b0bd1fe-9e07-46d1-951b-b8c49290e6a5",
   "metadata": {},
   "outputs": [
    {
     "name": "stdout",
     "output_type": "stream",
     "text": [
      "{'name': 'SolarOne', 'capacity_mw': 150, 'is_renewable': True}\n"
     ]
    }
   ],
   "source": [
    "energy_plant[\"capacity_mw\"] = 150\n",
    "print(energy_plant)\n",
    "# {'name': 'SolarOne', 'capacity_mw': 150, 'is_renewable': True}"
   ]
  },
  {
   "cell_type": "markdown",
   "id": "73b627eb-02ef-4123-8d31-930e838fbeb0",
   "metadata": {},
   "source": [
    "---\n",
    "\n",
    "## ➕ Adding New Key–Value Pairs"
   ]
  },
  {
   "cell_type": "code",
   "execution_count": 337,
   "id": "b5585a3f-f428-42a6-92a0-693e895503cf",
   "metadata": {},
   "outputs": [
    {
     "name": "stdout",
     "output_type": "stream",
     "text": [
      "{'name': 'SolarOne', 'capacity_mw': 150, 'is_renewable': True, 'location': 'Estonia'}\n"
     ]
    }
   ],
   "source": [
    "energy_plant[\"location\"] = \"Estonia\"\n",
    "print(energy_plant)\n",
    "# {'name': 'SolarOne', 'capacity_mw': 150, 'is_renewable': True, 'location': 'Estonia'}"
   ]
  },
  {
   "cell_type": "markdown",
   "id": "3f5876f3-077e-4f0c-8d89-9f026fac75e5",
   "metadata": {},
   "source": [
    "\n",
    "---\n",
    "\n",
    "## ❌ Removing Items"
   ]
  },
  {
   "cell_type": "code",
   "execution_count": 338,
   "id": "d366bb5c-4fe5-4190-89cc-46bd4f9c0081",
   "metadata": {},
   "outputs": [
    {
     "name": "stdout",
     "output_type": "stream",
     "text": [
      "{'name': 'SolarOne', 'capacity_mw': 150, 'location': 'Estonia'}\n"
     ]
    }
   ],
   "source": [
    "energy_plant.pop(\"is_renewable\")\n",
    "print(energy_plant)\n",
    "# {'name': 'SolarOne', 'capacity_mw': 150, 'location': 'Estonia'}"
   ]
  },
  {
   "cell_type": "markdown",
   "id": "c21db2d3-7093-4238-b7eb-2bdad0741b74",
   "metadata": {},
   "source": [
    "---\n",
    "\n",
    "## 🔁 Looping Through a Dictionary\n"
   ]
  },
  {
   "cell_type": "code",
   "execution_count": 339,
   "id": "cb7ee1e4-1e93-4a65-85fb-cae107a86b83",
   "metadata": {},
   "outputs": [
    {
     "name": "stdout",
     "output_type": "stream",
     "text": [
      "name: SolarOne\n",
      "capacity_mw: 150\n",
      "location: Estonia\n"
     ]
    }
   ],
   "source": [
    "for key, value in energy_plant.items():\n",
    "    print(f\"{key}: {value}\")"
   ]
  },
  {
   "cell_type": "code",
   "execution_count": 340,
   "id": "d1b0bd88-82af-400e-8cf7-16304499dc10",
   "metadata": {},
   "outputs": [
    {
     "data": {
      "text/plain": [
       "dict_keys(['name', 'capacity_mw', 'location'])"
      ]
     },
     "execution_count": 340,
     "metadata": {},
     "output_type": "execute_result"
    }
   ],
   "source": [
    "energy_plant.keys()"
   ]
  },
  {
   "cell_type": "code",
   "execution_count": 341,
   "id": "52e52479-cee1-48e5-b24f-d62cdf59f66a",
   "metadata": {},
   "outputs": [
    {
     "data": {
      "text/plain": [
       "dict_items([('name', 'SolarOne'), ('capacity_mw', 150), ('location', 'Estonia')])"
      ]
     },
     "execution_count": 341,
     "metadata": {},
     "output_type": "execute_result"
    }
   ],
   "source": [
    "energy_plant.items()"
   ]
  },
  {
   "cell_type": "markdown",
   "id": "478cb62b-1171-4e11-b422-4a038b80a78a",
   "metadata": {},
   "source": [
    "\n",
    "# 🔒 Tuples in Python\n",
    "\n",
    "A **tuple** is like a list, but **immutable** (you can’t change, add, or remove items after it’s created). Tuples are useful for **fixed collections of data**.\n",
    "\n",
    "👉 Tuples are great when you want **data that should not change** — for example, the **coordinates of a power plant**, or a fixed set of energy categories.\n",
    "\n",
    "---\n",
    "\n",
    "## ✨ Creating a Tuple"
   ]
  },
  {
   "cell_type": "code",
   "execution_count": 342,
   "id": "8f2ca3ed-e33a-4f7d-8f51-e276035a13e3",
   "metadata": {},
   "outputs": [
    {
     "name": "stdout",
     "output_type": "stream",
     "text": [
      "('Solar', 'Wind', 'Hydro')\n"
     ]
    }
   ],
   "source": [
    "energy_tuple = (\"Solar\", \"Wind\", \"Hydro\")\n",
    "print(energy_tuple)  \n",
    "# ('Solar', 'Wind', 'Hydro')"
   ]
  },
  {
   "cell_type": "markdown",
   "id": "92ba8638-28b3-4a8f-97a4-7928819723ae",
   "metadata": {},
   "source": [
    "---\n",
    "\n",
    "## 🔎 Accessing Items"
   ]
  },
  {
   "cell_type": "code",
   "execution_count": 343,
   "id": "180eb5be-79d6-4a75-89f6-830c7a5b168f",
   "metadata": {},
   "outputs": [
    {
     "name": "stdout",
     "output_type": "stream",
     "text": [
      "Solar\n",
      "Hydro\n"
     ]
    }
   ],
   "source": [
    "print(energy_tuple[0])   # Solar\n",
    "print(energy_tuple[-1])  # Hydro"
   ]
  },
  {
   "cell_type": "markdown",
   "id": "ed6b468b-37e2-4197-8d8b-a3e8f23bb394",
   "metadata": {},
   "source": [
    "---\n",
    "\n",
    "## 📏 Length of a Tuple"
   ]
  },
  {
   "cell_type": "code",
   "execution_count": 344,
   "id": "a4895bb9-ac0c-4fca-9bee-541dc4d2a369",
   "metadata": {},
   "outputs": [
    {
     "name": "stdout",
     "output_type": "stream",
     "text": [
      "3\n"
     ]
    }
   ],
   "source": [
    "print(len(energy_tuple))  "
   ]
  },
  {
   "cell_type": "markdown",
   "id": "0562f8bc-4cf2-4bf6-b373-da7bde92afd0",
   "metadata": {},
   "source": [
    "\n",
    "---\n",
    "\n",
    "## ⚠️ Immutability\n",
    "\n",
    "```python\n",
    "energy_tuple[0] = \"Nuclear\"  \n",
    "# ❌ Error: 'tuple' object does not support item assignment\n",
    "```"
   ]
  },
  {
   "cell_type": "markdown",
   "id": "b93d0e1f-3e5d-48f5-89a7-8b3287b7b07b",
   "metadata": {},
   "source": [
    "---\n",
    "\n",
    "## 🔁 Tuples with Mixed Data"
   ]
  },
  {
   "cell_type": "code",
   "execution_count": 345,
   "id": "25a0dedd-d0c5-4cb9-91c3-c41e6f379125",
   "metadata": {},
   "outputs": [
    {
     "name": "stdout",
     "output_type": "stream",
     "text": [
      "('SolarOne', 120, True)\n"
     ]
    }
   ],
   "source": [
    "plant_info = (\"SolarOne\", 120, True)\n",
    "print(plant_info)  \n",
    "# ('SolarOne', 120, True)"
   ]
  },
  {
   "cell_type": "markdown",
   "id": "c9377bac-0cf5-4021-8678-a5907d395c9a",
   "metadata": {},
   "source": [
    "## 🔗 Nested Tuples in Python\n",
    "\n",
    "You can store tuples **inside other tuples** to represent structured data.\n",
    "\n",
    "---\n",
    "\n",
    "### ✨ Example: Multiple Energy Plants\n",
    "\n",
    "👉 Here each inner tuple stores:\n",
    "\n",
    "* **Plant name 🏭** (string)\n",
    "* **Capacity in MW ⚡** (int)\n",
    "* **Is renewable? ✅/❌** (bool)\n",
    "\n",
    "This way, you can keep a **fixed dataset** of multiple energy plants in one tuple."
   ]
  },
  {
   "cell_type": "code",
   "execution_count": 346,
   "id": "00371139-6ba7-4d14-861c-bf86a3e33ee7",
   "metadata": {},
   "outputs": [
    {
     "name": "stdout",
     "output_type": "stream",
     "text": [
      "(('SolarOne', 120, True), ('WindFarmX', 200, True), ('CoalPlantA', 500, False))\n"
     ]
    }
   ],
   "source": [
    "energy_plants = (\n",
    "    (\"SolarOne\", 120, True),\n",
    "    (\"WindFarmX\", 200, True),\n",
    "    (\"CoalPlantA\", 500, False)\n",
    ")\n",
    "\n",
    "print(energy_plants)\n",
    "# (('SolarOne', 120, True), ('WindFarmX', 200, True), ('CoalPlantA', 500, False))"
   ]
  },
  {
   "cell_type": "markdown",
   "id": "a3ae14a4-3dae-472b-8b52-76c6d03d145b",
   "metadata": {},
   "source": [
    "---\n",
    "\n",
    "### 🔎 Accessing Nested Data"
   ]
  },
  {
   "cell_type": "code",
   "execution_count": 347,
   "id": "7b39b139-9179-40e9-a710-218538e0f24e",
   "metadata": {},
   "outputs": [
    {
     "name": "stdout",
     "output_type": "stream",
     "text": [
      "('SolarOne', 120, True)\n",
      "WindFarmX\n",
      "500\n",
      "False\n"
     ]
    }
   ],
   "source": [
    "print(energy_plants[0])        # ('SolarOne', 120, True)\n",
    "print(energy_plants[1][0])     # WindFarmX\n",
    "print(energy_plants[2][1])     # 500\n",
    "print(energy_plants[2][2])     # False"
   ]
  },
  {
   "cell_type": "markdown",
   "id": "3bb6d24a-4806-4400-b630-315913b6b0b4",
   "metadata": {},
   "source": [
    "# 🧩 Sets in Python\n",
    "\n",
    "A **set** is a collection of unique items.\n",
    "\n",
    "* **Unordered** (no fixed position/index).\n",
    "* **No duplicates allowed**.\n",
    "* Useful for removing duplicates or checking membership.\n",
    "\n",
    "👉 Sets are very handy for **energy analytics** — for example, finding which sources are renewable ✅, which are not ❌, or combining datasets.\n",
    "\n",
    "---\n",
    "\n",
    "## ✨ Creating a Set"
   ]
  },
  {
   "cell_type": "code",
   "execution_count": 348,
   "id": "3b5713eb-3ff8-47da-acac-863eeb52fd13",
   "metadata": {},
   "outputs": [
    {
     "name": "stdout",
     "output_type": "stream",
     "text": [
      "{'solar', 'wind', 'hydro'}\n"
     ]
    }
   ],
   "source": [
    "energy_sources = {\"solar\", \"wind\", \"hydro\", \"solar\"}  \n",
    "print(energy_sources)  \n",
    "# {'solar', 'wind', 'hydro'}   (duplicate \"solar\" removed)"
   ]
  },
  {
   "cell_type": "markdown",
   "id": "9c09042b-3069-4a39-bd06-a5fd7afe2987",
   "metadata": {},
   "source": [
    "---\n",
    "\n",
    "## ➕ Adding Items"
   ]
  },
  {
   "cell_type": "code",
   "execution_count": 349,
   "id": "9e1be4b4-e79b-4e51-8a99-6d4118cfb1e8",
   "metadata": {},
   "outputs": [
    {
     "name": "stdout",
     "output_type": "stream",
     "text": [
      "{'solar', 'wind', 'nuclear', 'hydro'}\n"
     ]
    }
   ],
   "source": [
    "energy_sources.add(\"nuclear\")\n",
    "print(energy_sources)  # {'solar', 'wind', 'hydro', 'nuclear'}"
   ]
  },
  {
   "cell_type": "markdown",
   "id": "7043921a-3012-495e-ad13-b89d51afb6be",
   "metadata": {},
   "source": [
    "---\n",
    "\n",
    "## ❌ Removing Items"
   ]
  },
  {
   "cell_type": "code",
   "execution_count": 350,
   "id": "b23c78aa-1839-4d6b-814d-30ab67e1483b",
   "metadata": {},
   "outputs": [
    {
     "name": "stdout",
     "output_type": "stream",
     "text": [
      "{'solar', 'nuclear', 'hydro'}\n"
     ]
    }
   ],
   "source": [
    "energy_sources.remove(\"wind\")  \n",
    "print(energy_sources)  \n",
    "# {'solar', 'hydro', 'nuclear'}"
   ]
  },
  {
   "cell_type": "markdown",
   "id": "1189dcb8-6916-4ccd-a629-8b5a6c26ea9c",
   "metadata": {},
   "source": [
    "---\n",
    "\n",
    "## 🔎 Membership Test"
   ]
  },
  {
   "cell_type": "code",
   "execution_count": 351,
   "id": "4138e5cc-1016-4efe-b3b9-fb7972d70035",
   "metadata": {},
   "outputs": [
    {
     "name": "stdout",
     "output_type": "stream",
     "text": [
      "True\n",
      "False\n"
     ]
    }
   ],
   "source": [
    "print(\"solar\" in energy_sources)   # True\n",
    "print(\"coal\" in energy_sources)    # False"
   ]
  },
  {
   "cell_type": "markdown",
   "id": "b0c69f5f-2a0a-443c-a72e-fcea81b3c880",
   "metadata": {},
   "source": [
    "---\n",
    "\n",
    "## 🔗 Set Operations\n"
   ]
  },
  {
   "cell_type": "code",
   "execution_count": 352,
   "id": "876fda9f-a0a3-4acb-99a8-8e5369b6cab9",
   "metadata": {},
   "outputs": [
    {
     "name": "stdout",
     "output_type": "stream",
     "text": [
      "{'nuclear', 'coal'}\n",
      "{'solar', 'wind', 'hydro'}\n",
      "{'nuclear', 'solar', 'hydro', 'wind', 'coal'}\n"
     ]
    }
   ],
   "source": [
    "renewables = {\"solar\", \"wind\", \"hydro\"}\n",
    "all_sources = {\"solar\", \"wind\", \"hydro\", \"nuclear\", \"coal\"}\n",
    "\n",
    "print(all_sources - renewables)   # difference -> {'coal', 'nuclear'}\n",
    "print(all_sources & renewables)   # intersection -> {'solar', 'wind', 'hydro'}\n",
    "print(all_sources | renewables)   # union -> {'coal', 'nuclear', 'solar', 'wind', 'hydro'}"
   ]
  },
  {
   "cell_type": "markdown",
   "id": "50172c85-4cbb-41d1-bd76-7f91bee26362",
   "metadata": {},
   "source": [
    "# 🔁 Loops in Python\n",
    "\n",
    "Loops let you **repeat actions** without writing the same code multiple times.\n",
    "There are two main types:\n",
    "\n",
    "* **for loop** → iterate over a sequence (list, tuple, dict, set, string).\n",
    "* **while loop** → keep running while a condition is `True`.\n",
    "\n",
    "👉 Use **for loops** for going through collections 📋 and **while loops** for conditions 🔎.\n",
    "\n",
    "---\n",
    "\n",
    "## ▶️ for Loop\n",
    "\n",
    "Used when you know how many times you want to repeat something (like going through a list of energy sources)."
   ]
  },
  {
   "cell_type": "code",
   "execution_count": 353,
   "id": "33426a9d-3a51-4f3e-acbf-be28d6a97d6f",
   "metadata": {},
   "outputs": [
    {
     "name": "stdout",
     "output_type": "stream",
     "text": [
      "Energy source: solar\n",
      "Energy source: wind\n",
      "Energy source: hydro\n"
     ]
    }
   ],
   "source": [
    "energy_sources = [\"solar\", \"wind\", \"hydro\"]\n",
    "\n",
    "for source in energy_sources:\n",
    "    print(f\"Energy source: {source}\")"
   ]
  },
  {
   "cell_type": "markdown",
   "id": "e65663be-c594-4e20-8239-f5ed7addb7ee",
   "metadata": {},
   "source": [
    "---\n",
    "\n",
    "### 📝 List Comprehensions\n",
    "\n",
    "A **list comprehension** is a shorter way to create a new list by applying an operation to each item in an existing list.\n",
    "\n",
    "👉 List comprehensions are **compact and efficient**, often replacing loops when transforming data.\n"
   ]
  },
  {
   "cell_type": "code",
   "execution_count": 354,
   "id": "f2220c77-0537-4d02-9670-4b75eff4e762",
   "metadata": {},
   "outputs": [
    {
     "name": "stdout",
     "output_type": "stream",
     "text": [
      "[110.00000000000001, 220.00000000000003, 330.0]\n"
     ]
    }
   ],
   "source": [
    "capacities = [100, 200, 300]\n",
    "new_capacities = [c * 1.1 for c in capacities]  # increase each by 10%\n",
    "print(new_capacities)\n",
    "# [110.0, 220.00000000000003, 330.0]"
   ]
  },
  {
   "cell_type": "code",
   "execution_count": 355,
   "id": "67a482a2-e95a-4a16-9a42-62da2dc1c102",
   "metadata": {},
   "outputs": [
    {
     "name": "stdout",
     "output_type": "stream",
     "text": [
      "['SolarOne', 'WindFarmX']\n"
     ]
    }
   ],
   "source": [
    "energy_plants = [\n",
    "    {\"name\": \"SolarOne\", \"renewable\": True},\n",
    "    {\"name\": \"WindFarmX\", \"renewable\": True},\n",
    "    {\"name\": \"CoalPlantA\", \"renewable\": False},\n",
    "]\n",
    "\n",
    "renewable_plants = [plant[\"name\"] for plant in energy_plants if plant[\"renewable\"]]\n",
    "print(renewable_plants)\n",
    "# ['SolarOne', 'WindFarmX']"
   ]
  },
  {
   "cell_type": "markdown",
   "id": "402e7fb4-1b46-4c48-aa4b-93bfe967d62e",
   "metadata": {},
   "source": [
    "---\n",
    "\n",
    "## 🔄 while Loop\n",
    "\n",
    "Used when you don’t know exactly how many times the loop should run, but you have a condition to check."
   ]
  },
  {
   "cell_type": "code",
   "execution_count": 356,
   "id": "e137fa3a-86f6-4afe-b6d5-1d423531b475",
   "metadata": {},
   "outputs": [
    {
     "name": "stdout",
     "output_type": "stream",
     "text": [
      "Current capacity: 25 MW\n",
      "Current capacity: 50 MW\n",
      "Current capacity: 75 MW\n",
      "Current capacity: 100 MW\n"
     ]
    }
   ],
   "source": [
    "capacity = 0\n",
    "\n",
    "while capacity < 100:\n",
    "    capacity += 25\n",
    "    print(f\"Current capacity: {capacity} MW\")"
   ]
  },
  {
   "cell_type": "markdown",
   "id": "2159806a-aa06-4703-997a-2c509ecb941b",
   "metadata": {},
   "source": [
    "\n",
    "# 🔧 Functions in Python\n",
    "\n",
    "A **function** is a reusable block of code that performs a task.\n",
    "\n",
    "* Defined with the keyword `def`.\n",
    "* Can take **parameters (inputs)** and return **values (outputs)**.\n",
    "\n",
    "\n",
    "👉 Functions help you **organize, reuse, and simplify** code — essential for energy analytics, simulations, and machine learning projects.\n",
    "\n",
    "---\n",
    "\n",
    "## ✨ Basic Function"
   ]
  },
  {
   "cell_type": "code",
   "execution_count": 357,
   "id": "a1e94eaf-abed-42e6-9ba3-d3a244f50dc7",
   "metadata": {},
   "outputs": [
    {
     "name": "stdout",
     "output_type": "stream",
     "text": [
      "Welcome to the Energy World!\n"
     ]
    }
   ],
   "source": [
    "def energy():\n",
    "    print(\"Welcome to the Energy World!\")\n",
    "    \n",
    "energy()"
   ]
  },
  {
   "cell_type": "markdown",
   "id": "fd72fcb6-2bb8-4e6f-8a38-9c0b859d7a7a",
   "metadata": {},
   "source": [
    "## ⚡ Function with Parameters\n"
   ]
  },
  {
   "cell_type": "code",
   "execution_count": 358,
   "id": "4929747f-778f-4b7d-8504-07a8aa72f919",
   "metadata": {},
   "outputs": [
    {
     "name": "stdout",
     "output_type": "stream",
     "text": [
      "The Solar plant generates 120 MW of power.\n",
      "The Wind plant generates 200 MW of power.\n"
     ]
    }
   ],
   "source": [
    "def energy_output(source, capacity_mw):\n",
    "    print(f\"The {source} plant generates {capacity_mw} MW of power.\")\n",
    "\n",
    "energy_output(\"Solar\", 120)\n",
    "energy_output(\"Wind\", 200)"
   ]
  },
  {
   "cell_type": "markdown",
   "id": "e7a3c54f-b16e-432d-842e-eed4e91f7b8f",
   "metadata": {},
   "source": [
    "---\n",
    "\n",
    "## 🔄 Function with Return Value"
   ]
  },
  {
   "cell_type": "code",
   "execution_count": 359,
   "id": "fea52be8-878c-4492-9f83-07d276cc5bb6",
   "metadata": {},
   "outputs": [
    {
     "name": "stdout",
     "output_type": "stream",
     "text": [
      "110.00000000000001\n"
     ]
    }
   ],
   "source": [
    "def increase_capacity(capacity, percent):\n",
    "    return capacity * (1 + percent/100)\n",
    "\n",
    "new_capacity = increase_capacity(100, 10)\n",
    "print(new_capacity) "
   ]
  },
  {
   "cell_type": "markdown",
   "id": "7b24f430-ccf2-4704-b6e4-be997a9894e3",
   "metadata": {},
   "source": [
    "---\n",
    "\n",
    "## 🧩 Function with Default Parameter"
   ]
  },
  {
   "cell_type": "code",
   "execution_count": 360,
   "id": "837c2141-30c1-48cf-be80-6733ef6b6be1",
   "metadata": {},
   "outputs": [
    {
     "name": "stdout",
     "output_type": "stream",
     "text": [
      "SolarOne efficiency is 90%\n",
      "WindFarmX efficiency is 85%\n"
     ]
    }
   ],
   "source": [
    "def efficiency(plant, percent=90):\n",
    "    return f\"{plant} efficiency is {percent}%\"\n",
    "\n",
    "print(efficiency(\"SolarOne\"))       # SolarOne efficiency is 90%\n",
    "print(efficiency(\"WindFarmX\", 85))  # WindFarmX efficiency is 85%"
   ]
  },
  {
   "cell_type": "markdown",
   "id": "6af0165b-a3f9-4016-aecf-05d5c4482671",
   "metadata": {},
   "source": [
    "------\n",
    "# ⚡ Lambda, map(), and filter() in Python\n",
    "\n",
    "## 🔹 Lambda Functions\n",
    "\n",
    "A **lambda function** is a small, anonymous function defined in one line using the keyword `lambda`.\n",
    "\n",
    "👉 Use **`filter()`** to select items ✅, and **`map()`** to transform them 🔄. Both work great with **lambda functions** for compact, powerful code."
   ]
  },
  {
   "cell_type": "code",
   "execution_count": 361,
   "id": "551ce1b8-5dc4-4768-b3c8-15875b7bc529",
   "metadata": {},
   "outputs": [
    {
     "name": "stdout",
     "output_type": "stream",
     "text": [
      "25\n"
     ]
    }
   ],
   "source": [
    "square = lambda x: x**2\n",
    "print(square(5))  \n",
    "# 25"
   ]
  },
  {
   "cell_type": "markdown",
   "id": "3d6b36da-ec86-487e-ada0-49a69f4e32cf",
   "metadata": {},
   "source": [
    "---\n",
    "\n",
    "## 🔹 filter()\n",
    "\n",
    "`filter(function, iterable)` keeps only the elements that satisfy the condition."
   ]
  },
  {
   "cell_type": "code",
   "execution_count": 362,
   "id": "25339023-3b23-434b-89dd-cc9f8dd66930",
   "metadata": {},
   "outputs": [
    {
     "name": "stdout",
     "output_type": "stream",
     "text": [
      "[120, 200, 300]\n"
     ]
    }
   ],
   "source": [
    "capacities = [50, 120, 200, 75, 300]\n",
    "large_plants = list(filter(lambda c: c > 100, capacities))\n",
    "print(large_plants)\n",
    "# [120, 200, 300]"
   ]
  },
  {
   "cell_type": "markdown",
   "id": "65ff04bb-8c12-400f-83f8-4319d0176d49",
   "metadata": {},
   "source": [
    "---\n",
    "\n",
    "## 🔹 map()\n",
    "\n",
    "`map(function, iterable)` applies a function to **each item** of a list.\n",
    "\n",
    "### 📝 Basic Example"
   ]
  },
  {
   "cell_type": "code",
   "execution_count": 363,
   "id": "8b60a508-845c-49d4-a512-28fc2f15a992",
   "metadata": {},
   "outputs": [
    {
     "name": "stdout",
     "output_type": "stream",
     "text": [
      "[110.00000000000001, 220.00000000000003, 330.0]\n"
     ]
    }
   ],
   "source": [
    "capacities = [100, 200, 300]\n",
    "new_capacities = list(map(lambda c: c * 1.1, capacities))  # increase by 10%\n",
    "print(new_capacities)\n",
    "# [110.00000000000001, 220.00000000000003, 330.0]"
   ]
  },
  {
   "cell_type": "markdown",
   "id": "8e507389",
   "metadata": {},
   "source": [
    "---\n",
    "\n",
    "## 🔹 reduce()\n",
    "\n",
    "The **`reduce()`** function (from the `functools` module) applies a function **cumulatively** to the items of a list, reducing it to a single value.\n",
    "\n",
    "👉 Use `reduce()` when you want to **aggregate values** into one result — like calculating **total energy capacity, total cost, or total emissions**.\n"
   ]
  },
  {
   "cell_type": "code",
   "execution_count": 364,
   "id": "80ac6b90-cdce-4ec6-aa4c-1b3cbcd8d5db",
   "metadata": {},
   "outputs": [
    {
     "name": "stdout",
     "output_type": "stream",
     "text": [
      "1000\n"
     ]
    }
   ],
   "source": [
    "from functools import reduce\n",
    "\n",
    "capacities = [100, 200, 300, 400]\n",
    "total_capacity = reduce(lambda a, b: a + b, capacities)\n",
    "print(total_capacity)\n",
    "# 1000"
   ]
  }
 ],
 "metadata": {
  "kernelspec": {
   "display_name": "Python 3 (ipykernel)",
   "language": "python",
   "name": "python3"
  },
  "language_info": {
   "codemirror_mode": {
    "name": "ipython",
    "version": 3
   },
   "file_extension": ".py",
   "mimetype": "text/x-python",
   "name": "python",
   "nbconvert_exporter": "python",
   "pygments_lexer": "ipython3",
   "version": "3.12.2"
  }
 },
 "nbformat": 4,
 "nbformat_minor": 5
}
