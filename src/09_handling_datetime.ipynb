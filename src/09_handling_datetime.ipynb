{
 "cells": [
  {
   "cell_type": "markdown",
   "id": "d562c430-f7bd-49b4-8f1e-5696db7af975",
   "metadata": {},
   "source": [
    "\n",
    "# 🕒 Handling Datetime\n",
    "\n",
    "#### 🔎 Why Indexing is Important\n",
    "\n",
    "Indexing is the **backbone of time series analysis**. In energy informatics, we often deal with **timestamps**:\n",
    "\n",
    "* ⚡ Smart meter readings (every 15 minutes)\n",
    "* 🌡️ Weather station logs (hourly/daily)\n",
    "* 💶 Market prices (day-ahead/hourly)\n",
    "\n",
    "Having a **DatetimeIndex** allows us to:\n",
    "\n",
    "* ⏩ **Resample** data (aggregate from 15-min → hourly, daily, monthly)\n",
    "* 🔎 **Select slices** naturally (`df[\"2024-01-10\"]` or `df[\"2024-01-01\":\"2024-01-07\"]`)\n",
    "* 🧩 **Align datasets** (demand with weather, price with production)\n",
    "* 🚨 Detect **missing timestamps** → ensure data continuity\n",
    "\n",
    "Without proper indexing, time series handling becomes error-prone and messy.\n",
    "\n",
    "---\n"
   ]
  },
  {
   "cell_type": "code",
   "execution_count": 11,
   "id": "e51cc23a-1fef-4f35-8deb-0ce715992062",
   "metadata": {},
   "outputs": [],
   "source": [
    "import datetime\n",
    "import pandas as pd\n",
    "import numpy as np\n",
    "import seaborn as sns\n",
    "import matplotlib.pyplot as plt\n",
    "\n",
    "import warnings\n",
    "warnings.filterwarnings(\"ignore\")\n",
    "\n",
    "import missingno as msno"
   ]
  },
  {
   "cell_type": "markdown",
   "id": "a9719d69-bdc0-45ef-96e3-8c6894d004de",
   "metadata": {},
   "source": [
    "# Creating a DatetimeIndex"
   ]
  },
  {
   "cell_type": "code",
   "execution_count": 12,
   "id": "681db2ef-4e72-4d53-a42f-3e1dc02acf89",
   "metadata": {},
   "outputs": [
    {
     "name": "stdout",
     "output_type": "stream",
     "text": [
      "                     demand_MWh\n",
      "2024-01-01 00:00:00         796\n",
      "2024-01-01 01:00:00         772\n",
      "2024-01-01 02:00:00         655\n",
      "2024-01-01 03:00:00         628\n",
      "2024-01-01 04:00:00         697\n"
     ]
    }
   ],
   "source": [
    "\n",
    "\n",
    "# Hourly demand values for one day\n",
    "rng = pd.date_range(\"2024-01-01\", periods=24, freq=\"h\")\n",
    "demand = np.random.randint(500, 800, size=24)\n",
    "\n",
    "df = pd.DataFrame({\"demand_MWh\": demand}, index=rng)\n",
    "print(df.head())"
   ]
  },
  {
   "cell_type": "code",
   "execution_count": 13,
   "id": "f49ab455-8246-481d-8849-19b24613c5a8",
   "metadata": {},
   "outputs": [
    {
     "data": {
      "text/html": [
       "<div>\n",
       "<style scoped>\n",
       "    .dataframe tbody tr th:only-of-type {\n",
       "        vertical-align: middle;\n",
       "    }\n",
       "\n",
       "    .dataframe tbody tr th {\n",
       "        vertical-align: top;\n",
       "    }\n",
       "\n",
       "    .dataframe thead th {\n",
       "        text-align: right;\n",
       "    }\n",
       "</style>\n",
       "<table border=\"1\" class=\"dataframe\">\n",
       "  <thead>\n",
       "    <tr style=\"text-align: right;\">\n",
       "      <th></th>\n",
       "      <th>Ajatempel (UTC)</th>\n",
       "      <th>Kuupaev (Eesti aeg)</th>\n",
       "      <th>Tarbimine</th>\n",
       "      <th>Tootmine</th>\n",
       "      <th>Planeeritud tarbimine</th>\n",
       "      <th>Planeeritud tootmine</th>\n",
       "    </tr>\n",
       "  </thead>\n",
       "  <tbody>\n",
       "    <tr>\n",
       "      <th>0</th>\n",
       "      <td>1640988000</td>\n",
       "      <td>01.01.2022 00:00</td>\n",
       "      <td>899.4</td>\n",
       "      <td>419.5</td>\n",
       "      <td>903.1</td>\n",
       "      <td>462.4</td>\n",
       "    </tr>\n",
       "    <tr>\n",
       "      <th>1</th>\n",
       "      <td>1640991600</td>\n",
       "      <td>01.01.2022 01:00</td>\n",
       "      <td>892.1</td>\n",
       "      <td>431.9</td>\n",
       "      <td>935.8</td>\n",
       "      <td>469.1</td>\n",
       "    </tr>\n",
       "    <tr>\n",
       "      <th>2</th>\n",
       "      <td>1640995200</td>\n",
       "      <td>01.01.2022 02:00</td>\n",
       "      <td>874.3</td>\n",
       "      <td>428.1</td>\n",
       "      <td>897.6</td>\n",
       "      <td>458.6</td>\n",
       "    </tr>\n",
       "    <tr>\n",
       "      <th>3</th>\n",
       "      <td>1640998800</td>\n",
       "      <td>01.01.2022 03:00</td>\n",
       "      <td>860.1</td>\n",
       "      <td>435.7</td>\n",
       "      <td>878.5</td>\n",
       "      <td>471.9</td>\n",
       "    </tr>\n",
       "    <tr>\n",
       "      <th>4</th>\n",
       "      <td>1641002400</td>\n",
       "      <td>01.01.2022 04:00</td>\n",
       "      <td>842.7</td>\n",
       "      <td>429.2</td>\n",
       "      <td>891.1</td>\n",
       "      <td>472.2</td>\n",
       "    </tr>\n",
       "  </tbody>\n",
       "</table>\n",
       "</div>"
      ],
      "text/plain": [
       "   Ajatempel (UTC) Kuupaev (Eesti aeg)  Tarbimine  Tootmine  \\\n",
       "0       1640988000    01.01.2022 00:00      899.4     419.5   \n",
       "1       1640991600    01.01.2022 01:00      892.1     431.9   \n",
       "2       1640995200    01.01.2022 02:00      874.3     428.1   \n",
       "3       1640998800    01.01.2022 03:00      860.1     435.7   \n",
       "4       1641002400    01.01.2022 04:00      842.7     429.2   \n",
       "\n",
       "   Planeeritud tarbimine  Planeeritud tootmine  \n",
       "0                  903.1                 462.4  \n",
       "1                  935.8                 469.1  \n",
       "2                  897.6                 458.6  \n",
       "3                  878.5                 471.9  \n",
       "4                  891.1                 472.2  "
      ]
     },
     "execution_count": 13,
     "metadata": {},
     "output_type": "execute_result"
    }
   ],
   "source": [
    "elering = pd.read_csv('data/electricity-production and consumption_2022.csv',  delimiter=';',decimal=',')\n",
    "elering.head()"
   ]
  },
  {
   "cell_type": "code",
   "execution_count": 14,
   "id": "a781b126-b855-4e01-8d6e-18db74c72596",
   "metadata": {},
   "outputs": [
    {
     "name": "stdout",
     "output_type": "stream",
     "text": [
      "0    01.01.2022 00:00\n",
      "1    01.01.2022 01:00\n",
      "2    01.01.2022 02:00\n",
      "3    01.01.2022 03:00\n",
      "4    01.01.2022 04:00\n",
      "Name: Kuupaev (Eesti aeg), dtype: object\n"
     ]
    }
   ],
   "source": [
    "print(elering['Kuupaev (Eesti aeg)'].head())"
   ]
  },
  {
   "cell_type": "code",
   "execution_count": 15,
   "id": "66eb99fb-f539-42f8-a7d7-7d3eef2a0ef9",
   "metadata": {},
   "outputs": [
    {
     "data": {
      "text/html": [
       "<div>\n",
       "<style scoped>\n",
       "    .dataframe tbody tr th:only-of-type {\n",
       "        vertical-align: middle;\n",
       "    }\n",
       "\n",
       "    .dataframe tbody tr th {\n",
       "        vertical-align: top;\n",
       "    }\n",
       "\n",
       "    .dataframe thead th {\n",
       "        text-align: right;\n",
       "    }\n",
       "</style>\n",
       "<table border=\"1\" class=\"dataframe\">\n",
       "  <thead>\n",
       "    <tr style=\"text-align: right;\">\n",
       "      <th></th>\n",
       "      <th>Ajatempel (UTC)</th>\n",
       "      <th>Kuupaev (Eesti aeg)</th>\n",
       "      <th>Tarbimine</th>\n",
       "      <th>Tootmine</th>\n",
       "      <th>Planeeritud tarbimine</th>\n",
       "      <th>Planeeritud tootmine</th>\n",
       "      <th>timestamp</th>\n",
       "    </tr>\n",
       "  </thead>\n",
       "  <tbody>\n",
       "    <tr>\n",
       "      <th>0</th>\n",
       "      <td>1640988000</td>\n",
       "      <td>01.01.2022 00:00</td>\n",
       "      <td>899.4</td>\n",
       "      <td>419.5</td>\n",
       "      <td>903.1</td>\n",
       "      <td>462.4</td>\n",
       "      <td>2022-01-01 00:00:00</td>\n",
       "    </tr>\n",
       "    <tr>\n",
       "      <th>1</th>\n",
       "      <td>1640991600</td>\n",
       "      <td>01.01.2022 01:00</td>\n",
       "      <td>892.1</td>\n",
       "      <td>431.9</td>\n",
       "      <td>935.8</td>\n",
       "      <td>469.1</td>\n",
       "      <td>2022-01-01 01:00:00</td>\n",
       "    </tr>\n",
       "    <tr>\n",
       "      <th>2</th>\n",
       "      <td>1640995200</td>\n",
       "      <td>01.01.2022 02:00</td>\n",
       "      <td>874.3</td>\n",
       "      <td>428.1</td>\n",
       "      <td>897.6</td>\n",
       "      <td>458.6</td>\n",
       "      <td>2022-01-01 02:00:00</td>\n",
       "    </tr>\n",
       "    <tr>\n",
       "      <th>3</th>\n",
       "      <td>1640998800</td>\n",
       "      <td>01.01.2022 03:00</td>\n",
       "      <td>860.1</td>\n",
       "      <td>435.7</td>\n",
       "      <td>878.5</td>\n",
       "      <td>471.9</td>\n",
       "      <td>2022-01-01 03:00:00</td>\n",
       "    </tr>\n",
       "    <tr>\n",
       "      <th>4</th>\n",
       "      <td>1641002400</td>\n",
       "      <td>01.01.2022 04:00</td>\n",
       "      <td>842.7</td>\n",
       "      <td>429.2</td>\n",
       "      <td>891.1</td>\n",
       "      <td>472.2</td>\n",
       "      <td>2022-01-01 04:00:00</td>\n",
       "    </tr>\n",
       "  </tbody>\n",
       "</table>\n",
       "</div>"
      ],
      "text/plain": [
       "   Ajatempel (UTC) Kuupaev (Eesti aeg)  Tarbimine  Tootmine  \\\n",
       "0       1640988000    01.01.2022 00:00      899.4     419.5   \n",
       "1       1640991600    01.01.2022 01:00      892.1     431.9   \n",
       "2       1640995200    01.01.2022 02:00      874.3     428.1   \n",
       "3       1640998800    01.01.2022 03:00      860.1     435.7   \n",
       "4       1641002400    01.01.2022 04:00      842.7     429.2   \n",
       "\n",
       "   Planeeritud tarbimine  Planeeritud tootmine           timestamp  \n",
       "0                  903.1                 462.4 2022-01-01 00:00:00  \n",
       "1                  935.8                 469.1 2022-01-01 01:00:00  \n",
       "2                  897.6                 458.6 2022-01-01 02:00:00  \n",
       "3                  878.5                 471.9 2022-01-01 03:00:00  \n",
       "4                  891.1                 472.2 2022-01-01 04:00:00  "
      ]
     },
     "execution_count": 15,
     "metadata": {},
     "output_type": "execute_result"
    }
   ],
   "source": [
    "elering['timestamp'] = pd.to_datetime(elering['Kuupaev (Eesti aeg)'], dayfirst=True)\n",
    "elering.head()"
   ]
  },
  {
   "cell_type": "code",
   "execution_count": 16,
   "id": "3c645045-a686-4573-a5d3-39e7fbe530df",
   "metadata": {},
   "outputs": [
    {
     "data": {
      "image/png": "[encoded data removed]",
      "text/plain": [
       "<Figure size 640x480 with 1 Axes>"
      ]
     },
     "metadata": {},
     "output_type": "display_data"
    }
   ],
   "source": [
    "day_of_month = elering['timestamp'].dt.day\n",
    "sns.distplot(day_of_month, kde=False, bins=31);"
   ]
  },
  {
   "cell_type": "code",
   "execution_count": 17,
   "id": "c7324977-76ee-443b-af00-1879e21301cc",
   "metadata": {},
   "outputs": [],
   "source": [
    "elering.set_index('timestamp', inplace=True)"
   ]
  },
  {
   "cell_type": "code",
   "execution_count": 18,
   "id": "fc8613a9-e57b-4d19-b182-014f6e514fc3",
   "metadata": {},
   "outputs": [
    {
     "data": {
      "text/html": [
       "<div>\n",
       "<style scoped>\n",
       "    .dataframe tbody tr th:only-of-type {\n",
       "        vertical-align: middle;\n",
       "    }\n",
       "\n",
       "    .dataframe tbody tr th {\n",
       "        vertical-align: top;\n",
       "    }\n",
       "\n",
       "    .dataframe thead th {\n",
       "        text-align: right;\n",
       "    }\n",
       "</style>\n",
       "<table border=\"1\" class=\"dataframe\">\n",
       "  <thead>\n",
       "    <tr style=\"text-align: right;\">\n",
       "      <th></th>\n",
       "      <th>Ajatempel (UTC)</th>\n",
       "      <th>Kuupaev (Eesti aeg)</th>\n",
       "      <th>Tarbimine</th>\n",
       "      <th>Tootmine</th>\n",
       "      <th>Planeeritud tarbimine</th>\n",
       "      <th>Planeeritud tootmine</th>\n",
       "    </tr>\n",
       "    <tr>\n",
       "      <th>timestamp</th>\n",
       "      <th></th>\n",
       "      <th></th>\n",
       "      <th></th>\n",
       "      <th></th>\n",
       "      <th></th>\n",
       "      <th></th>\n",
       "    </tr>\n",
       "  </thead>\n",
       "  <tbody>\n",
       "    <tr>\n",
       "      <th>2022-01-01 00:00:00</th>\n",
       "      <td>1640988000</td>\n",
       "      <td>01.01.2022 00:00</td>\n",
       "      <td>899.4</td>\n",
       "      <td>419.5</td>\n",
       "      <td>903.1</td>\n",
       "      <td>462.4</td>\n",
       "    </tr>\n",
       "    <tr>\n",
       "      <th>2022-01-01 01:00:00</th>\n",
       "      <td>1640991600</td>\n",
       "      <td>01.01.2022 01:00</td>\n",
       "      <td>892.1</td>\n",
       "      <td>431.9</td>\n",
       "      <td>935.8</td>\n",
       "      <td>469.1</td>\n",
       "    </tr>\n",
       "    <tr>\n",
       "      <th>2022-01-01 02:00:00</th>\n",
       "      <td>1640995200</td>\n",
       "      <td>01.01.2022 02:00</td>\n",
       "      <td>874.3</td>\n",
       "      <td>428.1</td>\n",
       "      <td>897.6</td>\n",
       "      <td>458.6</td>\n",
       "    </tr>\n",
       "    <tr>\n",
       "      <th>2022-01-01 03:00:00</th>\n",
       "      <td>1640998800</td>\n",
       "      <td>01.01.2022 03:00</td>\n",
       "      <td>860.1</td>\n",
       "      <td>435.7</td>\n",
       "      <td>878.5</td>\n",
       "      <td>471.9</td>\n",
       "    </tr>\n",
       "    <tr>\n",
       "      <th>2022-01-01 04:00:00</th>\n",
       "      <td>1641002400</td>\n",
       "      <td>01.01.2022 04:00</td>\n",
       "      <td>842.7</td>\n",
       "      <td>429.2</td>\n",
       "      <td>891.1</td>\n",
       "      <td>472.2</td>\n",
       "    </tr>\n",
       "    <tr>\n",
       "      <th>...</th>\n",
       "      <td>...</td>\n",
       "      <td>...</td>\n",
       "      <td>...</td>\n",
       "      <td>...</td>\n",
       "      <td>...</td>\n",
       "      <td>...</td>\n",
       "    </tr>\n",
       "    <tr>\n",
       "      <th>2022-12-31 19:00:00</th>\n",
       "      <td>1672506000</td>\n",
       "      <td>31.12.2022 19:00</td>\n",
       "      <td>989.4</td>\n",
       "      <td>674.4</td>\n",
       "      <td>983.3</td>\n",
       "      <td>660.0</td>\n",
       "    </tr>\n",
       "    <tr>\n",
       "      <th>2022-12-31 20:00:00</th>\n",
       "      <td>1672509600</td>\n",
       "      <td>31.12.2022 20:00</td>\n",
       "      <td>932.5</td>\n",
       "      <td>614.2</td>\n",
       "      <td>957.5</td>\n",
       "      <td>600.3</td>\n",
       "    </tr>\n",
       "    <tr>\n",
       "      <th>2022-12-31 21:00:00</th>\n",
       "      <td>1672513200</td>\n",
       "      <td>31.12.2022 21:00</td>\n",
       "      <td>889.5</td>\n",
       "      <td>609.5</td>\n",
       "      <td>921.1</td>\n",
       "      <td>590.6</td>\n",
       "    </tr>\n",
       "    <tr>\n",
       "      <th>2022-12-31 22:00:00</th>\n",
       "      <td>1672516800</td>\n",
       "      <td>31.12.2022 22:00</td>\n",
       "      <td>846.5</td>\n",
       "      <td>585.2</td>\n",
       "      <td>864.6</td>\n",
       "      <td>568.2</td>\n",
       "    </tr>\n",
       "    <tr>\n",
       "      <th>2022-12-31 23:00:00</th>\n",
       "      <td>1672520400</td>\n",
       "      <td>31.12.2022 23:00</td>\n",
       "      <td>817.6</td>\n",
       "      <td>567.0</td>\n",
       "      <td>867.9</td>\n",
       "      <td>559.8</td>\n",
       "    </tr>\n",
       "  </tbody>\n",
       "</table>\n",
       "<p>8760 rows × 6 columns</p>\n",
       "</div>"
      ],
      "text/plain": [
       "                     Ajatempel (UTC) Kuupaev (Eesti aeg)  Tarbimine  Tootmine  \\\n",
       "timestamp                                                                       \n",
       "2022-01-01 00:00:00       1640988000    01.01.2022 00:00      899.4     419.5   \n",
       "2022-01-01 01:00:00       1640991600    01.01.2022 01:00      892.1     431.9   \n",
       "2022-01-01 02:00:00       1640995200    01.01.2022 02:00      874.3     428.1   \n",
       "2022-01-01 03:00:00       1640998800    01.01.2022 03:00      860.1     435.7   \n",
       "2022-01-01 04:00:00       1641002400    01.01.2022 04:00      842.7     429.2   \n",
       "...                              ...                 ...        ...       ...   \n",
       "2022-12-31 19:00:00       1672506000    31.12.2022 19:00      989.4     674.4   \n",
       "2022-12-31 20:00:00       1672509600    31.12.2022 20:00      932.5     614.2   \n",
       "2022-12-31 21:00:00       1672513200    31.12.2022 21:00      889.5     609.5   \n",
       "2022-12-31 22:00:00       1672516800    31.12.2022 22:00      846.5     585.2   \n",
       "2022-12-31 23:00:00       1672520400    31.12.2022 23:00      817.6     567.0   \n",
       "\n",
       "                     Planeeritud tarbimine  Planeeritud tootmine  \n",
       "timestamp                                                         \n",
       "2022-01-01 00:00:00                  903.1                 462.4  \n",
       "2022-01-01 01:00:00                  935.8                 469.1  \n",
       "2022-01-01 02:00:00                  897.6                 458.6  \n",
       "2022-01-01 03:00:00                  878.5                 471.9  \n",
       "2022-01-01 04:00:00                  891.1                 472.2  \n",
       "...                                    ...                   ...  \n",
       "2022-12-31 19:00:00                  983.3                 660.0  \n",
       "2022-12-31 20:00:00                  957.5                 600.3  \n",
       "2022-12-31 21:00:00                  921.1                 590.6  \n",
       "2022-12-31 22:00:00                  864.6                 568.2  \n",
       "2022-12-31 23:00:00                  867.9                 559.8  \n",
       "\n",
       "[8760 rows x 6 columns]"
      ]
     },
     "execution_count": 18,
     "metadata": {},
     "output_type": "execute_result"
    }
   ],
   "source": [
    "elering"
   ]
  },
  {
   "cell_type": "markdown",
   "id": "add6464f-7c93-47a3-ab5d-33cdf2ae6642",
   "metadata": {},
   "source": [
    "\n",
    "# ✅ Summary\n",
    "\n",
    "* A **DatetimeIndex** turns Pandas into a true **time series toolbox**.\n",
    "* It simplifies **selection, resampling, merging, and gap detection**.\n",
    "* For **energy data**, datetime indexing is a must for robust preprocessing and forecasting.\n"
   ]
  },
  {
   "cell_type": "markdown",
   "id": "a8749eae-aad5-4901-9529-1463e424ebf8",
   "metadata": {},
   "source": [
    "# 🕒 Finding Missing Datetime Indices\n",
    "\n",
    "When working with **time series**, missing data often means that **timestamps are missing** (not just NaN values).\n"
   ]
  },
  {
   "cell_type": "code",
   "execution_count": 19,
   "id": "ccc5720f-4b1d-4efa-8179-c8b384602275",
   "metadata": {},
   "outputs": [
    {
     "name": "stdout",
     "output_type": "stream",
     "text": [
      "DataFrame index length: 67\n",
      "Expected full length: 72\n"
     ]
    }
   ],
   "source": [
    "# Full hourly index for 3 days\n",
    "rng_full = pd.date_range(\"2024-01-01\", periods=72, freq=\"H\")\n",
    "\n",
    "# Drop some hours to simulate missing timestamps\n",
    "rng_missing = rng_full.delete([5, 17, 23, 40, 55])\n",
    "\n",
    "# Create dataset\n",
    "demand = np.random.randint(500, 800, size=len(rng_missing))\n",
    "df = pd.DataFrame({\"demand\": demand}, index=rng_missing)\n",
    "\n",
    "print(\"DataFrame index length:\", len(df))\n",
    "print(\"Expected full length:\", len(rng_full))"
   ]
  },
  {
   "cell_type": "markdown",
   "id": "c913321e-2811-4ed7-b196-6d5e6716b4c4",
   "metadata": {},
   "source": [
    "---\n",
    "\n",
    "### 🔧 ✨ 🔍 Identify missing timestamps"
   ]
  },
  {
   "cell_type": "code",
   "execution_count": 20,
   "id": "8319c45f-d41f-449d-b525-460a302c03ac",
   "metadata": {},
   "outputs": [
    {
     "name": "stdout",
     "output_type": "stream",
     "text": [
      "Missing timestamps:\n",
      "DatetimeIndex(['2024-01-01 05:00:00', '2024-01-01 17:00:00',\n",
      "               '2024-01-01 23:00:00', '2024-01-02 16:00:00',\n",
      "               '2024-01-03 07:00:00'],\n",
      "              dtype='datetime64[ns]', freq=None)\n"
     ]
    }
   ],
   "source": [
    "# Reindex to full range\n",
    "df_full = df.reindex(rng_full)\n",
    "\n",
    "# Missing indices\n",
    "missing_times = df_full.index[df_full[\"demand\"].isna()]\n",
    "print(\"Missing timestamps:\")\n",
    "print(missing_times)"
   ]
  },
  {
   "cell_type": "markdown",
   "id": "9743e5bb-d28b-41e3-b8c5-6757038b4712",
   "metadata": {},
   "source": [
    "### 🔧 ✨ 📊 🖼️ Visualizing with `missingno`\n",
    "\n",
    "You can zoom into just the problematic period.\n"
   ]
  },
  {
   "cell_type": "code",
   "execution_count": 21,
   "id": "b2153ad7-24f4-4e31-834a-7bb307046140",
   "metadata": {},
   "outputs": [
    {
     "data": {
      "image/png": "[encoded data removed]",
      "text/plain": [
       "<Figure size 1000x500 with 2 Axes>"
      ]
     },
     "metadata": {},
     "output_type": "display_data"
    }
   ],
   "source": [
    "# Restrict to one problematic week/day\n",
    "week = df_full[\"2024-01-01\":\"2024-01-03\"]\n",
    "\n",
    "# Missing matrix for this window\n",
    "msno.matrix(week,figsize=(10,5))\n",
    "plt.show()"
   ]
  },
  {
   "cell_type": "markdown",
   "id": "0bfb7cc4-920a-4aad-a8e3-a452b291c0d1",
   "metadata": {},
   "source": [
    "---\n",
    "\n",
    "### 🔧 ✨ ✅ Workflow Recap\n",
    "\n",
    "1. **Define expected frequency** (`pd.date_range`).\n",
    "2. **Reindex** your DataFrame to this full index.\n",
    "3. Missing entries show up as `NaN`.\n",
    "4. Use `.isna()` or `missingno` to visualize gaps."
   ]
  },
  {
   "cell_type": "markdown",
   "id": "26b5b890-6b04-4481-a824-b93810293250",
   "metadata": {},
   "source": [
    "# Daylight saving time ⏳\n",
    "Twice a year, like clockwork (literally), we shift time. In spring 🌸, we jump forward an hour. In autumn 🍂, we fall back. While it may seem like a minor inconvenience — an extra hour of sleep in October and one less in March — it’s a major challenge for those working with energy data.\n",
    "\n",
    "## 🔄 How DST changes patterns\n",
    "Daylight Saving Time (DST) isn’t just about adjusting our clocks — it changes how we live. When the clocks shift, so do our routines:\n",
    "\n",
    "🌅 MORNINGS start in different lighting conditions, affecting how much electricity we use for heating and lighting.\n",
    "\n",
    "🌆 EVENINGS feel longer or shorter, shifting peak energy demand.\n",
    "\n",
    "Also:\n",
    "\n",
    "⚡ SOLAR ENERGY PRODUCTION shifts as the timing of sunrise and sunset changes, impacting solar generation.\n",
    "\n",
    "💡 LIGHT SENSOR-BASED LIGHTING SYSTEMS may not immediately adapt to DST, impacting electricity consumption in both residential and commercial spaces. \n",
    "\n",
    "## 📉 The forecasting nightmare\n",
    "For energy analysts, DST is more than just an inconvenience — it disrupts entire forecasting models:\n",
    "\n",
    "SPRING FORWARD creates a 23-hour day, meaning an entire hour of data is missing.\n",
    "\n",
    "FALL BACK results in a 25-hour day, adding an extra hour that doesn't fit neatly into standard models.\n",
    "\n",
    "Most forecasting methods assume a consistent 24-hour cycle. When that cycle breaks, so does the accuracy of predictions. Models trained on past data might not adjust properly, leading to errors in energy demand forecasts.\n",
    "\n",
    "## 🛠️ Fixing the problem\n",
    "So, what can we do to adjust forecasting models for DST? Here are a few potential solutions:\n",
    "\n",
    "📊 ADJUST DATA WINDOWS DYNAMICALLY: Allow for 23-hour and 25-hour days instead of forcing all days into a 24-hour mold.\n",
    "\n",
    "🧠 TAGGING DST IN THE DATA: Introduce a DST variable in models and train separate models for DST and standard time periods.\n",
    "\n",
    "📝 SMOOTHING THE ANOMALIES: Discard the extra hour in autumn and interpolate values in spring to maintain consistency.\n",
    "\n",
    "🤖 SMARTER MACHINE LEARNING MODELS: Develop adaptive models that detect and adjust for DST shifts automatically.\n",
    "\n",
    "## 🌍 The bigger picture\n",
    "DST is more than a technical nuisance — it fundamentally alters how we interact with energy. Forecasting electricity demand isn’t just about time; it’s about people’s habits, work schedules, and our response to natural light. ⏰\n",
    "\n",
    "As the debate on whether to scrap DST altogether continues, energy professionals need to stay adaptable. Whether through clever data adjustments, smarter machine learning models, or hybrid forecasting techniques, acknowledging DST’s impact is key to maintaining accuracy in energy forecasting."
   ]
  }
 ],
 "metadata": {
  "kernelspec": {
   "display_name": "Python 3 (ipykernel)",
   "language": "python",
   "name": "python3"
  },
  "language_info": {
   "codemirror_mode": {
    "name": "ipython",
    "version": 3
   },
   "file_extension": ".py",
   "mimetype": "text/x-python",
   "name": "python",
   "nbconvert_exporter": "python",
   "pygments_lexer": "ipython3",
   "version": "3.12.2"
  }
 },
 "nbformat": 4,
 "nbformat_minor": 5
}
