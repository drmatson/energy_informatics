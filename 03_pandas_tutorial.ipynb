{
 "cells": [
  {
   "cell_type": "markdown",
   "id": "85827dfb-1b1e-42a3-b49c-6f50f53e6c39",
   "metadata": {},
   "source": [
    "# 🐼 Pandas\n",
    "\n",
    "## 📌 What is Pandas?\n",
    "\n",
    "**Pandas** is a Python library for **data analysis and manipulation**.\n",
    "\n",
    "* Built on top of **NumPy**.\n",
    "* Provides two main data structures:\n",
    "\n",
    "  * **Series** → one-dimensional labeled array (like a column).\n",
    "  * **DataFrame** → two-dimensional table (like Excel or SQL).\n",
    "* Makes it easy to **clean, transform, join, and analyze data**.\n",
    "\n",
    "⚡ It’s the **go-to library** for working with datasets in data science, machine learning, and energy analytics.\n",
    "\n",
    "---\n",
    "\n",
    "## 📦 Installation\n",
    "\n",
    "If Pandas is not already installed, you can add it using:\n",
    "\n",
    "```bash\n",
    "pip install pandas\n",
    "```\n",
    "\n",
    "or (if using Anaconda):\n",
    "\n",
    "```bash\n",
    "conda install pandas\n",
    "```\n",
    "\n",
    "---\n",
    "\n",
    "## 🐍 Import\n",
    "\n",
    "```python\n",
    "import pandas as pd\n",
    "\n",
    "# Check version\n",
    "print(pd.__version__)\n",
    "```\n",
    "\n",
    "✅ By convention, Pandas is always imported as **`pd`**.\n"
   ]
  },
  {
   "cell_type": "code",
   "execution_count": 2,
   "id": "a462a5ff-e752-4300-8e26-a3f3c807a1d2",
   "metadata": {},
   "outputs": [],
   "source": [
    "import pandas as pd"
   ]
  },
  {
   "cell_type": "markdown",
   "id": "c4ccf0f5",
   "metadata": {},
   "source": [
    "\n",
    "# 📊 Series  \n",
    "\n",
    "A **Series** is a one-dimensional labeled array in Pandas.  \n",
    "Think of it as a **column of data** (like Excel), with both values and labels (index).  "
   ]
  },
  {
   "cell_type": "code",
   "execution_count": 3,
   "id": "4faef86f-ac9c-44df-8b77-78f8aa8be711",
   "metadata": {},
   "outputs": [
    {
     "name": "stdout",
     "output_type": "stream",
     "text": [
      "Day 1    120\n",
      "Day 2    135\n",
      "Day 3    150\n",
      "Day 4    160\n",
      "dtype: int64\n"
     ]
    }
   ],
   "source": [
    "# Daily solar energy production (MWh)\n",
    "solar = pd.Series([120, 135, 150, 160], \n",
    "                  index=[\"Day 1\", \"Day 2\", \"Day 3\", \"Day 4\"])\n",
    "print(solar)\n"
   ]
  },
  {
   "cell_type": "code",
   "execution_count": 13,
   "id": "143d0c3b-f01f-48e5-bdc4-843058859da2",
   "metadata": {},
   "outputs": [
    {
     "data": {
      "text/plain": [
       "Day 1    1.20\n",
       "Day 2    1.35\n",
       "Day 3    1.50\n",
       "Day 4    1.60\n",
       "dtype: float64"
      ]
     },
     "execution_count": 13,
     "metadata": {},
     "output_type": "execute_result"
    }
   ],
   "source": [
    "solar/100"
   ]
  },
  {
   "cell_type": "markdown",
   "id": "78afaedc-c651-4f69-b967-144d2b34ff76",
   "metadata": {},
   "source": [
    "We can select label-based or using`.iloc` (index-based).  "
   ]
  },
  {
   "cell_type": "code",
   "execution_count": 4,
   "id": "82f8b777-905b-44a2-b641-c02574f6a3bd",
   "metadata": {},
   "outputs": [
    {
     "data": {
      "text/plain": [
       "120"
      ]
     },
     "execution_count": 4,
     "metadata": {},
     "output_type": "execute_result"
    }
   ],
   "source": [
    "solar[\"Day 1\"]"
   ]
  },
  {
   "cell_type": "code",
   "execution_count": 6,
   "id": "38d435d9",
   "metadata": {},
   "outputs": [
    {
     "data": {
      "text/plain": [
       "120"
      ]
     },
     "execution_count": 6,
     "metadata": {},
     "output_type": "execute_result"
    }
   ],
   "source": [
    "solar.iloc[0]"
   ]
  },
  {
   "cell_type": "code",
   "execution_count": 9,
   "id": "98738583-da39-4375-bae5-e110bd11b39f",
   "metadata": {},
   "outputs": [
    {
     "data": {
      "text/plain": [
       "Index(['Day 1', 'Day 2', 'Day 3', 'Day 4'], dtype='object')"
      ]
     },
     "execution_count": 9,
     "metadata": {},
     "output_type": "execute_result"
    }
   ],
   "source": [
    "solar.keys()"
   ]
  },
  {
   "cell_type": "markdown",
   "id": "0d3d2c99",
   "metadata": {},
   "source": [
    "\n",
    "# 🏢 Pandas: DataFrames  \n",
    "\n",
    "A **DataFrame** is a two-dimensional labeled data structure (rows × columns).  \n",
    "It’s like an **Excel table** or **SQL table**.  \n",
    "\n",
    "⚡ Example: production data for multiple plants.\n"
   ]
  },
  {
   "cell_type": "code",
   "execution_count": 10,
   "id": "2f12d7ee",
   "metadata": {},
   "outputs": [
    {
     "name": "stdout",
     "output_type": "stream",
     "text": [
      "       Solar  Wind  Hydro\n",
      "Day 1    120   200    300\n",
      "Day 2    135   210    310\n",
      "Day 3    150   190    305\n",
      "Day 4    160   220    295\n"
     ]
    }
   ],
   "source": [
    "# Energy production (MWh) for 3 plants over 4 days\n",
    "data = {\n",
    "    \"Solar\": [120, 135, 150, 160],\n",
    "    \"Wind\": [200, 210, 190, 220],\n",
    "    \"Hydro\": [300, 310, 305, 295]\n",
    "}\n",
    "df = pd.DataFrame(data, index=[\"Day 1\", \"Day 2\", \"Day 3\", \"Day 4\"])\n",
    "print(df)\n"
   ]
  },
  {
   "cell_type": "markdown",
   "id": "6c6154ec-25b3-47ba-82b0-2c778631a078",
   "metadata": {},
   "source": [
    "---\n",
    "\n",
    "# 📋 Inspecting Data in Pandas\n",
    "\n",
    "When working with a dataset, you often want to **look at its structure** before doing any analysis. Pandas provides several useful methods:\n",
    "\n",
    "---\n",
    "\n",
    "### ℹ️ `df.info()`\n",
    "\n",
    "Gives a quick summary of the DataFrame (index, column names, data types, non-null counts)."
   ]
  },
  {
   "cell_type": "code",
   "execution_count": 24,
   "id": "5e59bbbf-6fab-47f0-8c02-cf63e2835a8d",
   "metadata": {},
   "outputs": [
    {
     "name": "stdout",
     "output_type": "stream",
     "text": [
      "<class 'pandas.core.frame.DataFrame'>\n",
      "Index: 4 entries, Day 1 to Day 4\n",
      "Data columns (total 3 columns):\n",
      " #   Column  Non-Null Count  Dtype\n",
      "---  ------  --------------  -----\n",
      " 0   Solar   4 non-null      int64\n",
      " 1   Wind    4 non-null      int64\n",
      " 2   Hydro   4 non-null      int64\n",
      "dtypes: int64(3)\n",
      "memory usage: 300.0+ bytes\n"
     ]
    }
   ],
   "source": [
    "df.info()"
   ]
  },
  {
   "cell_type": "markdown",
   "id": "45924fd9-e82b-429c-9e79-12e82f6bfd3d",
   "metadata": {},
   "source": [
    "---\n",
    "\n",
    "### 🏷️ `df.index` and `df.columns`\n",
    "\n",
    "* **`index`** → labels of the rows (here: days).\n",
    "* **`columns`** → names of the columns (here: energy sources)."
   ]
  },
  {
   "cell_type": "code",
   "execution_count": 25,
   "id": "4fc932ed-500a-47aa-bd64-0af772aa7466",
   "metadata": {},
   "outputs": [
    {
     "name": "stdout",
     "output_type": "stream",
     "text": [
      "Index(['Day 1', 'Day 2', 'Day 3', 'Day 4'], dtype='object')\n",
      "Index(['Solar', 'Wind', 'Hydro'], dtype='object')\n"
     ]
    }
   ],
   "source": [
    "print(df.index)    # Index(['Day 1', 'Day 2', 'Day 3', 'Day 4'], dtype='object')\n",
    "print(df.columns)  # Index(['Solar', 'Wind', 'Hydro'], dtype='object')"
   ]
  },
  {
   "cell_type": "markdown",
   "id": "73e71563-f898-4763-bab7-e9a9a6dcb0bb",
   "metadata": {},
   "source": [
    "### 👀 `df.head()` and `df.tail()`\n",
    "\n",
    "* **`head()`** → shows the first 5 rows (or a given number).\n",
    "* **`tail()`** → shows the last 5 rows (or a given number).\n",
    "\n"
   ]
  },
  {
   "cell_type": "code",
   "execution_count": 26,
   "id": "8c4e4723-f95f-451e-a713-9598d315f62a",
   "metadata": {},
   "outputs": [
    {
     "name": "stdout",
     "output_type": "stream",
     "text": [
      "       Solar  Wind  Hydro\n",
      "Day 1    120   200    300\n",
      "Day 2    135   210    310\n",
      "       Solar  Wind  Hydro\n",
      "Day 3    150   190    305\n",
      "Day 4    160   220    295\n"
     ]
    }
   ],
   "source": [
    "print(df.head(2))   # First 2 days\n",
    "print(df.tail(2))   # Last 2 days"
   ]
  },
  {
   "cell_type": "markdown",
   "id": "986351c1-515b-4b6a-a046-fcf0d8810351",
   "metadata": {},
   "source": [
    "---\n",
    "\n",
    "### 📏 `len(df)`\n",
    "\n",
    "Returns the number of rows in the DataFrame."
   ]
  },
  {
   "cell_type": "code",
   "execution_count": 27,
   "id": "1ceb05c6-f445-43ec-b503-ecbfededb2f8",
   "metadata": {},
   "outputs": [
    {
     "name": "stdout",
     "output_type": "stream",
     "text": [
      "4\n"
     ]
    }
   ],
   "source": [
    "print(len(df))  # 4"
   ]
  },
  {
   "cell_type": "markdown",
   "id": "3bb52c21-814f-4a39-8df3-488237270fb0",
   "metadata": {},
   "source": [
    "---\n",
    "\n",
    "# 📊 Descriptive Statistics \n",
    "## 📊 Descriptive Statistics with `.describe()`\n",
    "\n",
    "The **`.describe()`** method in Pandas quickly calculates **summary statistics** for numerical columns:\n",
    "\n",
    "* **count** → number of non-null values\n",
    "* **mean** → average\n",
    "* **std** → standard deviation\n",
    "* **min**, **max** → smallest and largest values\n",
    "* **25%, 50%, 75%** → percentiles (quartiles)\n",
    "\n",
    "\n",
    "Why???\n",
    "* Quickly shows **distribution** of data (min, max, spread).\n",
    "* Helps spot **outliers** or suspicious values.\n",
    "* Essential first step in **exploratory data analysis (EDA)**."
   ]
  },
  {
   "cell_type": "code",
   "execution_count": 30,
   "id": "48dd43f0-4e91-4890-bad5-f358e13c1653",
   "metadata": {},
   "outputs": [
    {
     "data": {
      "text/html": [
       "<div>\n",
       "<style scoped>\n",
       "    .dataframe tbody tr th:only-of-type {\n",
       "        vertical-align: middle;\n",
       "    }\n",
       "\n",
       "    .dataframe tbody tr th {\n",
       "        vertical-align: top;\n",
       "    }\n",
       "\n",
       "    .dataframe thead th {\n",
       "        text-align: right;\n",
       "    }\n",
       "</style>\n",
       "<table border=\"1\" class=\"dataframe\">\n",
       "  <thead>\n",
       "    <tr style=\"text-align: right;\">\n",
       "      <th></th>\n",
       "      <th>Solar</th>\n",
       "      <th>Wind</th>\n",
       "      <th>Hydro</th>\n",
       "    </tr>\n",
       "  </thead>\n",
       "  <tbody>\n",
       "    <tr>\n",
       "      <th>count</th>\n",
       "      <td>4.00</td>\n",
       "      <td>4.000000</td>\n",
       "      <td>4.000000</td>\n",
       "    </tr>\n",
       "    <tr>\n",
       "      <th>mean</th>\n",
       "      <td>141.25</td>\n",
       "      <td>205.000000</td>\n",
       "      <td>302.500000</td>\n",
       "    </tr>\n",
       "    <tr>\n",
       "      <th>std</th>\n",
       "      <td>17.50</td>\n",
       "      <td>12.909944</td>\n",
       "      <td>6.454972</td>\n",
       "    </tr>\n",
       "    <tr>\n",
       "      <th>min</th>\n",
       "      <td>120.00</td>\n",
       "      <td>190.000000</td>\n",
       "      <td>295.000000</td>\n",
       "    </tr>\n",
       "    <tr>\n",
       "      <th>25%</th>\n",
       "      <td>131.25</td>\n",
       "      <td>197.500000</td>\n",
       "      <td>298.750000</td>\n",
       "    </tr>\n",
       "    <tr>\n",
       "      <th>50%</th>\n",
       "      <td>142.50</td>\n",
       "      <td>205.000000</td>\n",
       "      <td>302.500000</td>\n",
       "    </tr>\n",
       "    <tr>\n",
       "      <th>75%</th>\n",
       "      <td>152.50</td>\n",
       "      <td>212.500000</td>\n",
       "      <td>306.250000</td>\n",
       "    </tr>\n",
       "    <tr>\n",
       "      <th>max</th>\n",
       "      <td>160.00</td>\n",
       "      <td>220.000000</td>\n",
       "      <td>310.000000</td>\n",
       "    </tr>\n",
       "  </tbody>\n",
       "</table>\n",
       "</div>"
      ],
      "text/plain": [
       "        Solar        Wind       Hydro\n",
       "count    4.00    4.000000    4.000000\n",
       "mean   141.25  205.000000  302.500000\n",
       "std     17.50   12.909944    6.454972\n",
       "min    120.00  190.000000  295.000000\n",
       "25%    131.25  197.500000  298.750000\n",
       "50%    142.50  205.000000  302.500000\n",
       "75%    152.50  212.500000  306.250000\n",
       "max    160.00  220.000000  310.000000"
      ]
     },
     "execution_count": 30,
     "metadata": {},
     "output_type": "execute_result"
    }
   ],
   "source": [
    "df.describe()"
   ]
  },
  {
   "cell_type": "code",
   "execution_count": 29,
   "id": "a3ec3308-5ec7-460f-9e57-fedd4b4dc7ad",
   "metadata": {},
   "outputs": [
    {
     "data": {
      "text/html": [
       "<div>\n",
       "<style scoped>\n",
       "    .dataframe tbody tr th:only-of-type {\n",
       "        vertical-align: middle;\n",
       "    }\n",
       "\n",
       "    .dataframe tbody tr th {\n",
       "        vertical-align: top;\n",
       "    }\n",
       "\n",
       "    .dataframe thead th {\n",
       "        text-align: right;\n",
       "    }\n",
       "</style>\n",
       "<table border=\"1\" class=\"dataframe\">\n",
       "  <thead>\n",
       "    <tr style=\"text-align: right;\">\n",
       "      <th></th>\n",
       "      <th>count</th>\n",
       "      <th>mean</th>\n",
       "      <th>std</th>\n",
       "      <th>min</th>\n",
       "      <th>25%</th>\n",
       "      <th>50%</th>\n",
       "      <th>75%</th>\n",
       "      <th>max</th>\n",
       "    </tr>\n",
       "  </thead>\n",
       "  <tbody>\n",
       "    <tr>\n",
       "      <th>Solar</th>\n",
       "      <td>4.0</td>\n",
       "      <td>141.25</td>\n",
       "      <td>17.500000</td>\n",
       "      <td>120.0</td>\n",
       "      <td>131.25</td>\n",
       "      <td>142.5</td>\n",
       "      <td>152.50</td>\n",
       "      <td>160.0</td>\n",
       "    </tr>\n",
       "    <tr>\n",
       "      <th>Wind</th>\n",
       "      <td>4.0</td>\n",
       "      <td>205.00</td>\n",
       "      <td>12.909944</td>\n",
       "      <td>190.0</td>\n",
       "      <td>197.50</td>\n",
       "      <td>205.0</td>\n",
       "      <td>212.50</td>\n",
       "      <td>220.0</td>\n",
       "    </tr>\n",
       "    <tr>\n",
       "      <th>Hydro</th>\n",
       "      <td>4.0</td>\n",
       "      <td>302.50</td>\n",
       "      <td>6.454972</td>\n",
       "      <td>295.0</td>\n",
       "      <td>298.75</td>\n",
       "      <td>302.5</td>\n",
       "      <td>306.25</td>\n",
       "      <td>310.0</td>\n",
       "    </tr>\n",
       "  </tbody>\n",
       "</table>\n",
       "</div>"
      ],
      "text/plain": [
       "       count    mean        std    min     25%    50%     75%    max\n",
       "Solar    4.0  141.25  17.500000  120.0  131.25  142.5  152.50  160.0\n",
       "Wind     4.0  205.00  12.909944  190.0  197.50  205.0  212.50  220.0\n",
       "Hydro    4.0  302.50   6.454972  295.0  298.75  302.5  306.25  310.0"
      ]
     },
     "execution_count": 29,
     "metadata": {},
     "output_type": "execute_result"
    }
   ],
   "source": [
    "df.describe().transpose()"
   ]
  },
  {
   "cell_type": "markdown",
   "id": "347e6f5a-cbb0-4e27-8eee-79fd6a4d7c2a",
   "metadata": {},
   "source": [
    "---\n",
    "\n",
    "## 📊 Descriptive Statistics for Mixed Data\n",
    "\n",
    "By default, `.describe()` only summarizes **numeric columns**.\n",
    "To include **all columns** (numbers, text, categories, booleans), use:\n",
    "```python\n",
    "df.describe(include=\"all\")\n",
    "```\n",
    "\n",
    "### 🔎 Notes\n",
    "\n",
    "* For **categorical columns**: shows **unique values**, most frequent (**top**), and **frequency**.\n",
    "* For **numeric columns**: shows full statistics (count, mean, std, percentiles).\n",
    "\n",
    "👉 This is very handy for **mixed energy datasets** (e.g., plant types, regions, and production values)."
   ]
  },
  {
   "cell_type": "code",
   "execution_count": 32,
   "id": "b3e2035e-a9e4-4f93-b509-82e5e6b1ad3e",
   "metadata": {},
   "outputs": [
    {
     "data": {
      "text/html": [
       "<div>\n",
       "<style scoped>\n",
       "    .dataframe tbody tr th:only-of-type {\n",
       "        vertical-align: middle;\n",
       "    }\n",
       "\n",
       "    .dataframe tbody tr th {\n",
       "        vertical-align: top;\n",
       "    }\n",
       "\n",
       "    .dataframe thead th {\n",
       "        text-align: right;\n",
       "    }\n",
       "</style>\n",
       "<table border=\"1\" class=\"dataframe\">\n",
       "  <thead>\n",
       "    <tr style=\"text-align: right;\">\n",
       "      <th></th>\n",
       "      <th>Plant</th>\n",
       "      <th>Region</th>\n",
       "      <th>Production (MWh)</th>\n",
       "    </tr>\n",
       "  </thead>\n",
       "  <tbody>\n",
       "    <tr>\n",
       "      <th>count</th>\n",
       "      <td>4</td>\n",
       "      <td>4</td>\n",
       "      <td>4.000000</td>\n",
       "    </tr>\n",
       "    <tr>\n",
       "      <th>unique</th>\n",
       "      <td>3</td>\n",
       "      <td>3</td>\n",
       "      <td>NaN</td>\n",
       "    </tr>\n",
       "    <tr>\n",
       "      <th>top</th>\n",
       "      <td>Solar</td>\n",
       "      <td>North</td>\n",
       "      <td>NaN</td>\n",
       "    </tr>\n",
       "    <tr>\n",
       "      <th>freq</th>\n",
       "      <td>2</td>\n",
       "      <td>2</td>\n",
       "      <td>NaN</td>\n",
       "    </tr>\n",
       "    <tr>\n",
       "      <th>mean</th>\n",
       "      <td>NaN</td>\n",
       "      <td>NaN</td>\n",
       "      <td>196.250000</td>\n",
       "    </tr>\n",
       "    <tr>\n",
       "      <th>std</th>\n",
       "      <td>NaN</td>\n",
       "      <td>NaN</td>\n",
       "      <td>81.585844</td>\n",
       "    </tr>\n",
       "    <tr>\n",
       "      <th>min</th>\n",
       "      <td>NaN</td>\n",
       "      <td>NaN</td>\n",
       "      <td>120.000000</td>\n",
       "    </tr>\n",
       "    <tr>\n",
       "      <th>25%</th>\n",
       "      <td>NaN</td>\n",
       "      <td>NaN</td>\n",
       "      <td>142.500000</td>\n",
       "    </tr>\n",
       "    <tr>\n",
       "      <th>50%</th>\n",
       "      <td>NaN</td>\n",
       "      <td>NaN</td>\n",
       "      <td>180.000000</td>\n",
       "    </tr>\n",
       "    <tr>\n",
       "      <th>75%</th>\n",
       "      <td>NaN</td>\n",
       "      <td>NaN</td>\n",
       "      <td>233.750000</td>\n",
       "    </tr>\n",
       "    <tr>\n",
       "      <th>max</th>\n",
       "      <td>NaN</td>\n",
       "      <td>NaN</td>\n",
       "      <td>305.000000</td>\n",
       "    </tr>\n",
       "  </tbody>\n",
       "</table>\n",
       "</div>"
      ],
      "text/plain": [
       "        Plant Region  Production (MWh)\n",
       "count       4      4          4.000000\n",
       "unique      3      3               NaN\n",
       "top     Solar  North               NaN\n",
       "freq        2      2               NaN\n",
       "mean      NaN    NaN        196.250000\n",
       "std       NaN    NaN         81.585844\n",
       "min       NaN    NaN        120.000000\n",
       "25%       NaN    NaN        142.500000\n",
       "50%       NaN    NaN        180.000000\n",
       "75%       NaN    NaN        233.750000\n",
       "max       NaN    NaN        305.000000"
      ]
     },
     "execution_count": 32,
     "metadata": {},
     "output_type": "execute_result"
    }
   ],
   "source": [
    "data = {\n",
    "    \"Plant\": [\"Solar\", \"Wind\", \"Hydro\", \"Solar\"],\n",
    "    \"Region\": [\"North\", \"East\", \"West\", \"North\"],\n",
    "    \"Production (MWh)\": [120, 210, 305, 150]\n",
    "}\n",
    "df = pd.DataFrame(data)\n",
    "\n",
    "df.describe(include=\"all\")"
   ]
  },
  {
   "cell_type": "markdown",
   "id": "944728e3-a273-4d53-ad27-65e91073ada5",
   "metadata": {},
   "source": [
    "## 🔢 Frequency Counts with `.value_counts()`\n",
    "\n",
    "The **`.value_counts()`** method shows how often each value appears in a column (or Series).\n",
    "It’s great for understanding **categorical distributions**.\n",
    "\n",
    "### 🔎 Why it’s useful?\n",
    "\n",
    "* Quickly see **distribution of categories** (e.g., which plants dominate).\n",
    "* Helpful for **imbalanced datasets** (e.g., one region has much more data).\n",
    "* Works well with `.normalize=True` to get **percentages**."
   ]
  },
  {
   "cell_type": "code",
   "execution_count": 33,
   "id": "69099939-4c2b-4bb7-8812-8d960439d285",
   "metadata": {},
   "outputs": [
    {
     "name": "stdout",
     "output_type": "stream",
     "text": [
      "Plant\n",
      "Solar    3\n",
      "Wind     2\n",
      "Hydro    1\n",
      "Name: count, dtype: int64\n",
      "Region\n",
      "North    2\n",
      "East     2\n",
      "West     2\n",
      "Name: count, dtype: int64\n"
     ]
    }
   ],
   "source": [
    "data = {\n",
    "    \"Plant\": [\"Solar\", \"Wind\", \"Hydro\", \"Solar\", \"Wind\", \"Solar\"],\n",
    "    \"Region\": [\"North\", \"East\", \"West\", \"North\", \"East\", \"West\"],\n",
    "}\n",
    "df = pd.DataFrame(data)\n",
    "\n",
    "# Count how many times each plant type appears\n",
    "print(df[\"Plant\"].value_counts())\n",
    "\n",
    "# Count how many times each region appears\n",
    "print(df[\"Region\"].value_counts())"
   ]
  },
  {
   "cell_type": "code",
   "execution_count": 34,
   "id": "dee30583-416b-4702-884f-71325799892d",
   "metadata": {},
   "outputs": [
    {
     "name": "stdout",
     "output_type": "stream",
     "text": [
      "Plant\n",
      "Solar    0.500000\n",
      "Wind     0.333333\n",
      "Hydro    0.166667\n",
      "Name: proportion, dtype: float64\n"
     ]
    }
   ],
   "source": [
    "print(df[\"Plant\"].value_counts(normalize=True))"
   ]
  },
  {
   "cell_type": "markdown",
   "id": "4ecd3098-e656-41a3-bd65-193628f676a2",
   "metadata": {},
   "source": [
    "---\n",
    "\n",
    "## 🎯 Unique Values with `.unique()` and `.nunique()`\n",
    "\n",
    "* **`.unique()`** → returns an array of unique values in a Series.\n",
    "* **`.nunique()`** → returns the number of unique values.\n",
    "\n",
    "These are useful for quickly checking what categories exist in your data.\n",
    "\n",
    "### 🔎 Why it’s useful?\n",
    "\n",
    "* **`.unique()`** → see what categories exist (e.g., Solar, Wind, Hydro).\n",
    "* **`.nunique()`** → check diversity (how many different categories are present)."
   ]
  },
  {
   "cell_type": "code",
   "execution_count": 35,
   "id": "4df51b62-f0de-4b24-8851-e8d989c12a9a",
   "metadata": {},
   "outputs": [
    {
     "name": "stdout",
     "output_type": "stream",
     "text": [
      "Unique plants: ['Solar' 'Wind' 'Hydro']\n",
      "Number of unique plants: 3\n",
      "Unique regions: ['North' 'East' 'West']\n",
      "Number of unique regions: 3\n"
     ]
    }
   ],
   "source": [
    "data = {\n",
    "    \"Plant\": [\"Solar\", \"Wind\", \"Hydro\", \"Solar\", \"Wind\", \"Solar\"],\n",
    "    \"Region\": [\"North\", \"East\", \"West\", \"North\", \"East\", \"West\"],\n",
    "}\n",
    "df = pd.DataFrame(data)\n",
    "\n",
    "# Unique plant types\n",
    "print(\"Unique plants:\", df[\"Plant\"].unique())\n",
    "\n",
    "# Number of unique plant types\n",
    "print(\"Number of unique plants:\", df[\"Plant\"].nunique())\n",
    "\n",
    "# Unique regions\n",
    "print(\"Unique regions:\", df[\"Region\"].unique())\n",
    "\n",
    "# Number of unique regions\n",
    "print(\"Number of unique regions:\", df[\"Region\"].nunique())"
   ]
  },
  {
   "cell_type": "markdown",
   "id": "43b685c2-eddc-4d9e-8881-cce68e549be0",
   "metadata": {},
   "source": [
    "---\n",
    "\n",
    "# 🔎 Timeseries vs. Data frame. Difference: `df['x']` vs `df[['x']]`\n",
    "\n",
    "---\n",
    "\n",
    "### 🎯 Key Difference\n",
    "\n",
    "* **Series** (`df['col']`) → 1D, easy for quick calculations.\n",
    "* **DataFrame** (`df[['col']]`) → 2D, keeps the “table” structure, useful when selecting **multiple columns** or when functions require a DataFrame.\n",
    "\n",
    "---\n",
    "\n",
    "👉 Rule of thumb:\n",
    "\n",
    "* Use `df['col']` when you want a **Series** (1D).\n",
    "* Use `df[['col']]` when you want a **DataFrame** (2D).\n"
   ]
  },
  {
   "cell_type": "code",
   "execution_count": 36,
   "id": "a67fb53e-149f-4aab-abff-ab3c5c2bdfcd",
   "metadata": {},
   "outputs": [],
   "source": [
    "data = {\n",
    "    \"Demand\": [120, 135, 150, 160],\n",
    "    \"Production\": [110, 140, 155, 170]\n",
    "}\n",
    "df = pd.DataFrame(data, index=[\"Day 1\", \"Day 2\", \"Day 3\", \"Day 4\"])"
   ]
  },
  {
   "cell_type": "markdown",
   "id": "fdce307e-f89e-49b7-ad42-89704cd4af3c",
   "metadata": {},
   "source": [
    "### ✅ `df['demand']` → **Series**\n",
    "\n",
    "* Returns a **one-dimensional object**.\n",
    "* Acts like a single labeled column."
   ]
  },
  {
   "cell_type": "code",
   "execution_count": 37,
   "id": "9161b47f-22ec-4c1f-b3a0-66a42c1813f2",
   "metadata": {},
   "outputs": [
    {
     "name": "stdout",
     "output_type": "stream",
     "text": [
      "<class 'pandas.core.series.Series'>\n",
      "Day 1    120\n",
      "Day 2    135\n",
      "Day 3    150\n",
      "Day 4    160\n",
      "Name: Demand, dtype: int64\n"
     ]
    }
   ],
   "source": [
    "print(type(df[\"Demand\"]))\n",
    "print(df[\"Demand\"])"
   ]
  },
  {
   "cell_type": "markdown",
   "id": "6caacbc3-f6b3-42c7-ab1b-7f627dc23b82",
   "metadata": {},
   "source": [
    "### ✅ `df[['Demand']]` → **DataFrame**\n",
    "\n",
    "* Returns a **two-dimensional object**.\n",
    "* Acts like a **new DataFrame** with just that column."
   ]
  },
  {
   "cell_type": "code",
   "execution_count": 38,
   "id": "9c6d9437-073f-4874-8a76-258dc0230c1a",
   "metadata": {},
   "outputs": [
    {
     "name": "stdout",
     "output_type": "stream",
     "text": [
      "<class 'pandas.core.frame.DataFrame'>\n",
      "       Demand\n",
      "Day 1     120\n",
      "Day 2     135\n",
      "Day 3     150\n",
      "Day 4     160\n"
     ]
    }
   ],
   "source": [
    "print(type(df[[\"Demand\"]]))\n",
    "print(df[[\"Demand\"]])"
   ]
  },
  {
   "cell_type": "markdown",
   "id": "16bab9dd-3269-4cfd-bf90-638fc966a8dd",
   "metadata": {},
   "source": [
    "---\n",
    "\n",
    "# 📑 Accessing Rows and Columns in Pandas\n",
    "\n",
    "In Pandas, you can select **columns** and **rows** in different ways depending on whether you use **labels** or **positions**."
   ]
  },
  {
   "cell_type": "code",
   "execution_count": 40,
   "id": "23c411a3-068a-4e92-9476-8c5110d51cc9",
   "metadata": {},
   "outputs": [
    {
     "data": {
      "text/html": [
       "<div>\n",
       "<style scoped>\n",
       "    .dataframe tbody tr th:only-of-type {\n",
       "        vertical-align: middle;\n",
       "    }\n",
       "\n",
       "    .dataframe tbody tr th {\n",
       "        vertical-align: top;\n",
       "    }\n",
       "\n",
       "    .dataframe thead th {\n",
       "        text-align: right;\n",
       "    }\n",
       "</style>\n",
       "<table border=\"1\" class=\"dataframe\">\n",
       "  <thead>\n",
       "    <tr style=\"text-align: right;\">\n",
       "      <th></th>\n",
       "      <th>Solar</th>\n",
       "      <th>Wind</th>\n",
       "      <th>Hydro</th>\n",
       "    </tr>\n",
       "  </thead>\n",
       "  <tbody>\n",
       "    <tr>\n",
       "      <th>Day 1</th>\n",
       "      <td>120</td>\n",
       "      <td>200</td>\n",
       "      <td>300</td>\n",
       "    </tr>\n",
       "    <tr>\n",
       "      <th>Day 2</th>\n",
       "      <td>135</td>\n",
       "      <td>210</td>\n",
       "      <td>310</td>\n",
       "    </tr>\n",
       "    <tr>\n",
       "      <th>Day 3</th>\n",
       "      <td>150</td>\n",
       "      <td>190</td>\n",
       "      <td>305</td>\n",
       "    </tr>\n",
       "    <tr>\n",
       "      <th>Day 4</th>\n",
       "      <td>160</td>\n",
       "      <td>220</td>\n",
       "      <td>295</td>\n",
       "    </tr>\n",
       "  </tbody>\n",
       "</table>\n",
       "</div>"
      ],
      "text/plain": [
       "       Solar  Wind  Hydro\n",
       "Day 1    120   200    300\n",
       "Day 2    135   210    310\n",
       "Day 3    150   190    305\n",
       "Day 4    160   220    295"
      ]
     },
     "execution_count": 40,
     "metadata": {},
     "output_type": "execute_result"
    }
   ],
   "source": [
    "# Energy production dataset (MWh)\n",
    "data = {\n",
    "    \"Solar\": [120, 135, 150, 160],\n",
    "    \"Wind\": [200, 210, 190, 220],\n",
    "    \"Hydro\": [300, 310, 305, 295]\n",
    "}\n",
    "df = pd.DataFrame(data, index=[\"Day 1\", \"Day 2\", \"Day 3\", \"Day 4\"])\n",
    "df"
   ]
  },
  {
   "cell_type": "markdown",
   "id": "a91976d5-4699-4301-a3b5-a606fbec127c",
   "metadata": {},
   "source": [
    "---\n",
    "\n",
    "## 🎯 Calling Columns\n",
    "\n",
    "1. **Single column as Series**"
   ]
  },
  {
   "cell_type": "code",
   "execution_count": 41,
   "id": "260e7007-d55f-424f-98ba-c065c55dc6e4",
   "metadata": {},
   "outputs": [
    {
     "data": {
      "text/plain": [
       "Day 1    120\n",
       "Day 2    135\n",
       "Day 3    150\n",
       "Day 4    160\n",
       "Name: Solar, dtype: int64"
      ]
     },
     "execution_count": 41,
     "metadata": {},
     "output_type": "execute_result"
    }
   ],
   "source": [
    "df[\"Solar\"]"
   ]
  },
  {
   "cell_type": "markdown",
   "id": "7661979d-c9d8-4da2-b69a-ba0f7bd80ffe",
   "metadata": {},
   "source": [
    "2. **Single column as DataFrame**"
   ]
  },
  {
   "cell_type": "code",
   "execution_count": 42,
   "id": "b422b7b6-5172-457f-a80e-e7b0074eec84",
   "metadata": {},
   "outputs": [
    {
     "data": {
      "text/html": [
       "<div>\n",
       "<style scoped>\n",
       "    .dataframe tbody tr th:only-of-type {\n",
       "        vertical-align: middle;\n",
       "    }\n",
       "\n",
       "    .dataframe tbody tr th {\n",
       "        vertical-align: top;\n",
       "    }\n",
       "\n",
       "    .dataframe thead th {\n",
       "        text-align: right;\n",
       "    }\n",
       "</style>\n",
       "<table border=\"1\" class=\"dataframe\">\n",
       "  <thead>\n",
       "    <tr style=\"text-align: right;\">\n",
       "      <th></th>\n",
       "      <th>Solar</th>\n",
       "    </tr>\n",
       "  </thead>\n",
       "  <tbody>\n",
       "    <tr>\n",
       "      <th>Day 1</th>\n",
       "      <td>120</td>\n",
       "    </tr>\n",
       "    <tr>\n",
       "      <th>Day 2</th>\n",
       "      <td>135</td>\n",
       "    </tr>\n",
       "    <tr>\n",
       "      <th>Day 3</th>\n",
       "      <td>150</td>\n",
       "    </tr>\n",
       "    <tr>\n",
       "      <th>Day 4</th>\n",
       "      <td>160</td>\n",
       "    </tr>\n",
       "  </tbody>\n",
       "</table>\n",
       "</div>"
      ],
      "text/plain": [
       "       Solar\n",
       "Day 1    120\n",
       "Day 2    135\n",
       "Day 3    150\n",
       "Day 4    160"
      ]
     },
     "execution_count": 42,
     "metadata": {},
     "output_type": "execute_result"
    }
   ],
   "source": [
    "df[[\"Solar\"]] "
   ]
  },
  {
   "cell_type": "markdown",
   "id": "a5e5bea8-ee5d-43f0-8270-7cc9cbf6777b",
   "metadata": {},
   "source": [
    "3. **Multiple columns**"
   ]
  },
  {
   "cell_type": "code",
   "execution_count": 43,
   "id": "3e74a2da-f2bd-48cf-9edc-a6785f855925",
   "metadata": {},
   "outputs": [
    {
     "data": {
      "text/html": [
       "<div>\n",
       "<style scoped>\n",
       "    .dataframe tbody tr th:only-of-type {\n",
       "        vertical-align: middle;\n",
       "    }\n",
       "\n",
       "    .dataframe tbody tr th {\n",
       "        vertical-align: top;\n",
       "    }\n",
       "\n",
       "    .dataframe thead th {\n",
       "        text-align: right;\n",
       "    }\n",
       "</style>\n",
       "<table border=\"1\" class=\"dataframe\">\n",
       "  <thead>\n",
       "    <tr style=\"text-align: right;\">\n",
       "      <th></th>\n",
       "      <th>Solar</th>\n",
       "      <th>Wind</th>\n",
       "    </tr>\n",
       "  </thead>\n",
       "  <tbody>\n",
       "    <tr>\n",
       "      <th>Day 1</th>\n",
       "      <td>120</td>\n",
       "      <td>200</td>\n",
       "    </tr>\n",
       "    <tr>\n",
       "      <th>Day 2</th>\n",
       "      <td>135</td>\n",
       "      <td>210</td>\n",
       "    </tr>\n",
       "    <tr>\n",
       "      <th>Day 3</th>\n",
       "      <td>150</td>\n",
       "      <td>190</td>\n",
       "    </tr>\n",
       "    <tr>\n",
       "      <th>Day 4</th>\n",
       "      <td>160</td>\n",
       "      <td>220</td>\n",
       "    </tr>\n",
       "  </tbody>\n",
       "</table>\n",
       "</div>"
      ],
      "text/plain": [
       "       Solar  Wind\n",
       "Day 1    120   200\n",
       "Day 2    135   210\n",
       "Day 3    150   190\n",
       "Day 4    160   220"
      ]
     },
     "execution_count": 43,
     "metadata": {},
     "output_type": "execute_result"
    }
   ],
   "source": [
    "df[[\"Solar\", \"Wind\"]]"
   ]
  },
  {
   "cell_type": "markdown",
   "id": "bfaec9b4-5304-40d3-b0e3-28056a24a1e5",
   "metadata": {},
   "source": [
    "---\n",
    "\n",
    "## 🎯 Calling Rows\n",
    "\n",
    "1. **By label → `.loc[]`**"
   ]
  },
  {
   "cell_type": "code",
   "execution_count": 44,
   "id": "0e7b595b-3ea2-4fb7-b7b3-5f983a69eff0",
   "metadata": {},
   "outputs": [
    {
     "data": {
      "text/html": [
       "<div>\n",
       "<style scoped>\n",
       "    .dataframe tbody tr th:only-of-type {\n",
       "        vertical-align: middle;\n",
       "    }\n",
       "\n",
       "    .dataframe tbody tr th {\n",
       "        vertical-align: top;\n",
       "    }\n",
       "\n",
       "    .dataframe thead th {\n",
       "        text-align: right;\n",
       "    }\n",
       "</style>\n",
       "<table border=\"1\" class=\"dataframe\">\n",
       "  <thead>\n",
       "    <tr style=\"text-align: right;\">\n",
       "      <th></th>\n",
       "      <th>Solar</th>\n",
       "      <th>Wind</th>\n",
       "      <th>Hydro</th>\n",
       "    </tr>\n",
       "  </thead>\n",
       "  <tbody>\n",
       "    <tr>\n",
       "      <th>Day 1</th>\n",
       "      <td>120</td>\n",
       "      <td>200</td>\n",
       "      <td>300</td>\n",
       "    </tr>\n",
       "    <tr>\n",
       "      <th>Day 3</th>\n",
       "      <td>150</td>\n",
       "      <td>190</td>\n",
       "      <td>305</td>\n",
       "    </tr>\n",
       "  </tbody>\n",
       "</table>\n",
       "</div>"
      ],
      "text/plain": [
       "       Solar  Wind  Hydro\n",
       "Day 1    120   200    300\n",
       "Day 3    150   190    305"
      ]
     },
     "execution_count": 44,
     "metadata": {},
     "output_type": "execute_result"
    }
   ],
   "source": [
    "df.loc[\"Day 1\"]        # row by index label\n",
    "df.loc[[\"Day 1\",\"Day 3\"]]  # multiple rows"
   ]
  },
  {
   "cell_type": "markdown",
   "id": "d9c096b8-5322-4dd5-a27f-4221b6965c69",
   "metadata": {},
   "source": [
    "2. **By integer position → `.iloc[]`**"
   ]
  },
  {
   "cell_type": "code",
   "execution_count": 45,
   "id": "9b4c5a6e-3761-43ae-abdc-2e8402141975",
   "metadata": {},
   "outputs": [
    {
     "data": {
      "text/html": [
       "<div>\n",
       "<style scoped>\n",
       "    .dataframe tbody tr th:only-of-type {\n",
       "        vertical-align: middle;\n",
       "    }\n",
       "\n",
       "    .dataframe tbody tr th {\n",
       "        vertical-align: top;\n",
       "    }\n",
       "\n",
       "    .dataframe thead th {\n",
       "        text-align: right;\n",
       "    }\n",
       "</style>\n",
       "<table border=\"1\" class=\"dataframe\">\n",
       "  <thead>\n",
       "    <tr style=\"text-align: right;\">\n",
       "      <th></th>\n",
       "      <th>Solar</th>\n",
       "      <th>Wind</th>\n",
       "      <th>Hydro</th>\n",
       "    </tr>\n",
       "  </thead>\n",
       "  <tbody>\n",
       "    <tr>\n",
       "      <th>Day 2</th>\n",
       "      <td>135</td>\n",
       "      <td>210</td>\n",
       "      <td>310</td>\n",
       "    </tr>\n",
       "    <tr>\n",
       "      <th>Day 3</th>\n",
       "      <td>150</td>\n",
       "      <td>190</td>\n",
       "      <td>305</td>\n",
       "    </tr>\n",
       "  </tbody>\n",
       "</table>\n",
       "</div>"
      ],
      "text/plain": [
       "       Solar  Wind  Hydro\n",
       "Day 2    135   210    310\n",
       "Day 3    150   190    305"
      ]
     },
     "execution_count": 45,
     "metadata": {},
     "output_type": "execute_result"
    }
   ],
   "source": [
    "df.iloc[0]   # first row\n",
    "df.iloc[1:3] # slice rows 2–3"
   ]
  },
  {
   "cell_type": "markdown",
   "id": "2b712d34-60ac-4328-82b9-b3c1644fc49c",
   "metadata": {},
   "source": [
    "---\n",
    "\n",
    "## 🎯 Rows + Columns Together\n",
    "\n",
    "1. **Label-based → `.loc[row, column]`**"
   ]
  },
  {
   "cell_type": "code",
   "execution_count": 46,
   "id": "710c2261-7348-40ee-8115-10a153e354bc",
   "metadata": {},
   "outputs": [
    {
     "data": {
      "text/html": [
       "<div>\n",
       "<style scoped>\n",
       "    .dataframe tbody tr th:only-of-type {\n",
       "        vertical-align: middle;\n",
       "    }\n",
       "\n",
       "    .dataframe tbody tr th {\n",
       "        vertical-align: top;\n",
       "    }\n",
       "\n",
       "    .dataframe thead th {\n",
       "        text-align: right;\n",
       "    }\n",
       "</style>\n",
       "<table border=\"1\" class=\"dataframe\">\n",
       "  <thead>\n",
       "    <tr style=\"text-align: right;\">\n",
       "      <th></th>\n",
       "      <th>Solar</th>\n",
       "      <th>Wind</th>\n",
       "    </tr>\n",
       "  </thead>\n",
       "  <tbody>\n",
       "    <tr>\n",
       "      <th>Day 1</th>\n",
       "      <td>120</td>\n",
       "      <td>200</td>\n",
       "    </tr>\n",
       "    <tr>\n",
       "      <th>Day 3</th>\n",
       "      <td>150</td>\n",
       "      <td>190</td>\n",
       "    </tr>\n",
       "  </tbody>\n",
       "</table>\n",
       "</div>"
      ],
      "text/plain": [
       "       Solar  Wind\n",
       "Day 1    120   200\n",
       "Day 3    150   190"
      ]
     },
     "execution_count": 46,
     "metadata": {},
     "output_type": "execute_result"
    }
   ],
   "source": [
    "df.loc[\"Day 2\", \"Solar\"]    # single value\n",
    "df.loc[[\"Day 1\",\"Day 3\"], [\"Solar\",\"Wind\"]]  # subset"
   ]
  },
  {
   "cell_type": "markdown",
   "id": "334a67a0-08b9-43a5-8791-db3abf8d5054",
   "metadata": {},
   "source": [
    "2. **Position-based → `.iloc[row, column]`**"
   ]
  },
  {
   "cell_type": "code",
   "execution_count": 47,
   "id": "07a232f0-34df-4722-be3e-7bce09a3d7be",
   "metadata": {},
   "outputs": [
    {
     "data": {
      "text/html": [
       "<div>\n",
       "<style scoped>\n",
       "    .dataframe tbody tr th:only-of-type {\n",
       "        vertical-align: middle;\n",
       "    }\n",
       "\n",
       "    .dataframe tbody tr th {\n",
       "        vertical-align: top;\n",
       "    }\n",
       "\n",
       "    .dataframe thead th {\n",
       "        text-align: right;\n",
       "    }\n",
       "</style>\n",
       "<table border=\"1\" class=\"dataframe\">\n",
       "  <thead>\n",
       "    <tr style=\"text-align: right;\">\n",
       "      <th></th>\n",
       "      <th>Solar</th>\n",
       "      <th>Wind</th>\n",
       "    </tr>\n",
       "  </thead>\n",
       "  <tbody>\n",
       "    <tr>\n",
       "      <th>Day 1</th>\n",
       "      <td>120</td>\n",
       "      <td>200</td>\n",
       "    </tr>\n",
       "    <tr>\n",
       "      <th>Day 2</th>\n",
       "      <td>135</td>\n",
       "      <td>210</td>\n",
       "    </tr>\n",
       "  </tbody>\n",
       "</table>\n",
       "</div>"
      ],
      "text/plain": [
       "       Solar  Wind\n",
       "Day 1    120   200\n",
       "Day 2    135   210"
      ]
     },
     "execution_count": 47,
     "metadata": {},
     "output_type": "execute_result"
    }
   ],
   "source": [
    "df.iloc[1, 0]   # single value (row 2, col 1)\n",
    "df.iloc[0:2, 0:2]  # first 2 rows, first 2 cols"
   ]
  },
  {
   "cell_type": "markdown",
   "id": "6c1c0d01-9e3b-4de5-ba7f-43332e5b3218",
   "metadata": {},
   "source": [
    "## 📌 Summary\n",
    "\n",
    "* **`[]`** → quick way for columns only.\n",
    "* **`.loc[]`** → selection by **labels** (rows, cols).\n",
    "* **`.iloc[]`** → selection by **integer positions**."
   ]
  },
  {
   "cell_type": "markdown",
   "id": "1e962798-90cd-4c93-b31e-5daf9ee049ee",
   "metadata": {},
   "source": [
    "---\n",
    "\n",
    "# 🎯 Selection Helpers: `.at[]` and `.iat[]`\n",
    "\n",
    "Sometimes you only need a **single value** (scalar) from your DataFrame.\n",
    "\n",
    "* **`.at[row_label, col_label]`** → access by **labels** (fastest).\n",
    "* **`.iat[row_index, col_index]`** → access by **integer positions** (fastest).\n",
    "\n",
    "These are optimized for quick **scalar lookups**.\n",
    "\n",
    "\n",
    "### 🔎 Key Points\n",
    "\n",
    "* Use `.at[]` when you know the **row + column labels**.\n",
    "* Use `.iat[]` when you know the **row + column positions**.\n",
    "* Both are **faster** than `.loc[]` and `.iloc[]` when selecting a single cell."
   ]
  },
  {
   "cell_type": "code",
   "execution_count": 110,
   "id": "dcc40fbb-964b-449a-b9af-b2bf5fbc3366",
   "metadata": {},
   "outputs": [
    {
     "name": "stdout",
     "output_type": "stream",
     "text": [
      "Using .at[]: 305\n",
      "Using .iat[]: 305\n"
     ]
    }
   ],
   "source": [
    "# Energy production dataset (MWh)\n",
    "df = pd.DataFrame({\n",
    "    \"Solar\": [120, 135, 150, 160],\n",
    "    \"Wind\": [200, 210, 190, 220],\n",
    "    \"Hydro\": [300, 310, 305, 295]\n",
    "}, index=[\"Day 1\", \"Day 2\", \"Day 3\", \"Day 4\"])\n",
    "\n",
    "# Get Hydro production on Day 3\n",
    "val1 = df.at[\"Day 3\", \"Hydro\"]   # label-based\n",
    "val2 = df.iat[2, 2]              # index-based\n",
    "\n",
    "print(\"Using .at[]:\", val1)\n",
    "print(\"Using .iat[]:\", val2)"
   ]
  },
  {
   "cell_type": "markdown",
   "id": "ea059fda-d8c0-468d-93da-cbf910d3442d",
   "metadata": {},
   "source": [
    "---\n",
    "\n",
    "# 🗑️ Dropping Rows and Columns\n",
    "\n",
    "You can remove **rows** or **columns** from a DataFrame using `.drop()`.\n",
    "\n",
    "* `df.drop(\"col\", axis=1)` → drop a column\n",
    "* `df.drop(\"row\", axis=0)` → drop a row\n",
    "* `inplace=True` → modify the DataFrame directly\n"
   ]
  },
  {
   "cell_type": "code",
   "execution_count": 111,
   "id": "6abe88ac-6e65-4273-90dd-707a055c817a",
   "metadata": {},
   "outputs": [
    {
     "name": "stdout",
     "output_type": "stream",
     "text": [
      "Original DataFrame:\n",
      "        Solar  Wind  Hydro\n",
      "Day 1    120   200    300\n",
      "Day 2    135   210    310\n",
      "Day 3    150   190    305\n",
      "Day 4    160   220    295\n",
      "\n",
      "After dropping Hydro column:\n",
      "        Solar  Wind\n",
      "Day 1    120   200\n",
      "Day 2    135   210\n",
      "Day 3    150   190\n",
      "Day 4    160   220\n",
      "\n",
      "After dropping Day 4:\n",
      "        Solar  Wind  Hydro\n",
      "Day 1    120   200    300\n",
      "Day 2    135   210    310\n",
      "Day 3    150   190    305\n"
     ]
    }
   ],
   "source": [
    "# Energy production dataset (MWh)\n",
    "df = pd.DataFrame({\n",
    "    \"Solar\": [120, 135, 150, 160],\n",
    "    \"Wind\": [200, 210, 190, 220],\n",
    "    \"Hydro\": [300, 310, 305, 295]\n",
    "}, index=[\"Day 1\", \"Day 2\", \"Day 3\", \"Day 4\"])\n",
    "\n",
    "print(\"Original DataFrame:\\n\", df)\n",
    "\n",
    "# Drop a column (remove Hydro data)\n",
    "df_no_hydro = df.drop(\"Hydro\", axis=1)\n",
    "print(\"\\nAfter dropping Hydro column:\\n\", df_no_hydro)\n",
    "\n",
    "# Drop a row (remove Day 4)\n",
    "df_no_day4 = df.drop(\"Day 4\", axis=0)\n",
    "print(\"\\nAfter dropping Day 4:\\n\", df_no_day4)"
   ]
  },
  {
   "cell_type": "markdown",
   "id": "0a99621e-2984-4eff-bcd4-9a094da3fd21",
   "metadata": {},
   "source": [
    "---\n",
    "# 🔗 Concatenation\n",
    "\n",
    "In Pandas, you can combine multiple **DataFrames** using **`pd.concat()`**.\n",
    "\n",
    "* Works **row-wise** (stacking one below the other).\n",
    "* Or **column-wise** (side by side)."
   ]
  },
  {
   "cell_type": "markdown",
   "id": "449d419c-1a5c-4a81-ad49-f9e67d532490",
   "metadata": {},
   "source": [
    "## 📑 Row-wise Concatenation"
   ]
  },
  {
   "cell_type": "code",
   "execution_count": 48,
   "id": "854ec1e6-2d54-4ffc-b2fb-7a018e7b45ed",
   "metadata": {},
   "outputs": [
    {
     "name": "stdout",
     "output_type": "stream",
     "text": [
      "       Solar  Wind  Hydro\n",
      "Day 1    120   200    300\n",
      "Day 2    135   210    310\n",
      "Day 3    150   190    305\n",
      "Day 4    160   220    295\n",
      "Day 5    165   210    310\n",
      "Day 6    170   215    320\n",
      "Day 7    175   225    315\n",
      "Day 8    180   230    305\n"
     ]
    }
   ],
   "source": [
    "# Week 1 production (MWh)\n",
    "week1 = pd.DataFrame({\n",
    "    \"Solar\": [120, 135, 150, 160],\n",
    "    \"Wind\": [200, 210, 190, 220],\n",
    "    \"Hydro\": [300, 310, 305, 295]\n",
    "}, index=[\"Day 1\",\"Day 2\",\"Day 3\",\"Day 4\"])\n",
    "\n",
    "# Week 2 production (MWh)\n",
    "week2 = pd.DataFrame({\n",
    "    \"Solar\": [165, 170, 175, 180],\n",
    "    \"Wind\": [210, 215, 225, 230],\n",
    "    \"Hydro\": [310, 320, 315, 305]\n",
    "}, index=[\"Day 5\",\"Day 6\",\"Day 7\",\"Day 8\"])\n",
    "\n",
    "# Concatenate row-wise (stack weeks)\n",
    "combined = pd.concat([week1, week2])\n",
    "print(combined)"
   ]
  },
  {
   "cell_type": "markdown",
   "id": "0ab71017-4478-49e5-868d-d750fbe6354b",
   "metadata": {},
   "source": [
    "\n",
    "✅ This stacks **Week 2 below Week 1** into one DataFrame.\n",
    "\n",
    "---\n",
    "\n",
    "## 📑 Column-wise Concatenation"
   ]
  },
  {
   "cell_type": "code",
   "execution_count": 49,
   "id": "4c9f5158-42ad-4f91-9fab-f3dfaccdbcf2",
   "metadata": {},
   "outputs": [
    {
     "name": "stdout",
     "output_type": "stream",
     "text": [
      "       Solar  Wind  Hydro  Price (€/MWh)\n",
      "Day 1    120   200    300             50\n",
      "Day 2    135   210    310             40\n",
      "Day 3    150   190    305             30\n",
      "Day 4    160   220    295             45\n"
     ]
    }
   ],
   "source": [
    "# Add a new DataFrame with prices (aligned by index)\n",
    "prices = pd.DataFrame({\n",
    "    \"Price (€/MWh)\": [50, 40, 30, 45]\n",
    "}, index=[\"Day 1\",\"Day 2\",\"Day 3\",\"Day 4\"])\n",
    "\n",
    "merged_cols = pd.concat([week1, prices], axis=1)\n",
    "print(merged_cols)"
   ]
  },
  {
   "cell_type": "markdown",
   "id": "a4de0cd0-4950-4fdb-9237-a66c2b514af3",
   "metadata": {},
   "source": [
    "✅ This places **prices next to production data**.\n",
    "\n",
    "---\n",
    "\n",
    "### 🔎 Key Points\n",
    "\n",
    "* `axis=0` (default) → stack rows (like appending more days).\n",
    "* `axis=1` → add columns (like extra info for same days).\n",
    "\n",
    "👉 Concatenation is useful for combining **time periods** or **adding extra info** to your datasets."
   ]
  },
  {
   "cell_type": "markdown",
   "id": "49c99110-d389-4d77-8981-6401f87f9e34",
   "metadata": {},
   "source": [
    "⚠️ **Note on `.append()`**\n",
    "\n",
    "* Older Pandas versions allowed `df1.append(df2)`.\n",
    "* **It is now deprecated** 🚫 and will be removed in future versions.\n",
    "* ✅ Use **`pd.concat([df1, df2])`** instead — it’s faster, more flexible, and the recommended way.\n",
    "\n",
    "---"
   ]
  },
  {
   "cell_type": "markdown",
   "id": "380cc5da-8228-4a31-b7cc-7007371365b3",
   "metadata": {},
   "source": [
    "\n",
    "# 🔀 Joins and Merges\n",
    "\n",
    "In Pandas, **merging** works like **SQL joins** — it combines two DataFrames based on a **common key column**.\n",
    "\n",
    "* **Inner Join** → only rows with matching keys (default).\n",
    "* **Left Join** → keep all rows from the left DataFrame.\n",
    "* **Right Join** → keep all rows from the right DataFrame.\n",
    "* **Outer Join** → keep all rows from both, fill missing with `NaN`.\n",
    "\n",
    "---\n",
    "\n",
    "### 🔎 Summary\n",
    "\n",
    "* **Join** = combining two datasets by a key.\n",
    "* **Types of joins** decide **what happens to non-matching rows**."
   ]
  },
  {
   "cell_type": "code",
   "execution_count": 53,
   "id": "90c251db-e4df-4d95-bc27-2c8d9196b016",
   "metadata": {},
   "outputs": [],
   "source": [
    "# Production data\n",
    "production = pd.DataFrame({\n",
    "    \"Plant\": [ \"Wind\", \"Hydro\"],\n",
    "    \"Production (MWh)\": [ 200, 300]\n",
    "})\n",
    "\n",
    "# Price data\n",
    "prices = pd.DataFrame({\n",
    "    \"Plant\": [\"Solar\", \"Wind\"],\n",
    "    \"Price (€/MWh)\": [50, 40]\n",
    "})"
   ]
  },
  {
   "cell_type": "markdown",
   "id": "fccd189e-4f9d-43df-9cb9-3e01dfd58df2",
   "metadata": {},
   "source": [
    "---\n",
    "\n",
    "### ✅ Inner Join (default)"
   ]
  },
  {
   "cell_type": "code",
   "execution_count": 54,
   "id": "3c5a131b-eb29-451a-86ef-136d505b405f",
   "metadata": {},
   "outputs": [
    {
     "data": {
      "text/html": [
       "<div>\n",
       "<style scoped>\n",
       "    .dataframe tbody tr th:only-of-type {\n",
       "        vertical-align: middle;\n",
       "    }\n",
       "\n",
       "    .dataframe tbody tr th {\n",
       "        vertical-align: top;\n",
       "    }\n",
       "\n",
       "    .dataframe thead th {\n",
       "        text-align: right;\n",
       "    }\n",
       "</style>\n",
       "<table border=\"1\" class=\"dataframe\">\n",
       "  <thead>\n",
       "    <tr style=\"text-align: right;\">\n",
       "      <th></th>\n",
       "      <th>Plant</th>\n",
       "      <th>Production (MWh)</th>\n",
       "      <th>Price (€/MWh)</th>\n",
       "    </tr>\n",
       "  </thead>\n",
       "  <tbody>\n",
       "    <tr>\n",
       "      <th>0</th>\n",
       "      <td>Wind</td>\n",
       "      <td>200</td>\n",
       "      <td>40</td>\n",
       "    </tr>\n",
       "  </tbody>\n",
       "</table>\n",
       "</div>"
      ],
      "text/plain": [
       "  Plant  Production (MWh)  Price (€/MWh)\n",
       "0  Wind               200             40"
      ]
     },
     "execution_count": 54,
     "metadata": {},
     "output_type": "execute_result"
    }
   ],
   "source": [
    "merged_inner = pd.merge(production, prices, on=\"Plant\", how=\"inner\")\n",
    "merged_inner"
   ]
  },
  {
   "cell_type": "markdown",
   "id": "8f9914fd-2b1f-4e4b-a2c4-12c16a3c3c14",
   "metadata": {},
   "source": [
    "---\n",
    "\n",
    "### ✅ Left Join\n",
    "\n",
    "Keeps **all plants from `production`**, even if missing prices."
   ]
  },
  {
   "cell_type": "code",
   "execution_count": 55,
   "id": "c5574059-a6b8-4afb-be08-4f011ad658bf",
   "metadata": {},
   "outputs": [
    {
     "data": {
      "text/html": [
       "<div>\n",
       "<style scoped>\n",
       "    .dataframe tbody tr th:only-of-type {\n",
       "        vertical-align: middle;\n",
       "    }\n",
       "\n",
       "    .dataframe tbody tr th {\n",
       "        vertical-align: top;\n",
       "    }\n",
       "\n",
       "    .dataframe thead th {\n",
       "        text-align: right;\n",
       "    }\n",
       "</style>\n",
       "<table border=\"1\" class=\"dataframe\">\n",
       "  <thead>\n",
       "    <tr style=\"text-align: right;\">\n",
       "      <th></th>\n",
       "      <th>Plant</th>\n",
       "      <th>Production (MWh)</th>\n",
       "      <th>Price (€/MWh)</th>\n",
       "    </tr>\n",
       "  </thead>\n",
       "  <tbody>\n",
       "    <tr>\n",
       "      <th>0</th>\n",
       "      <td>Wind</td>\n",
       "      <td>200</td>\n",
       "      <td>40.0</td>\n",
       "    </tr>\n",
       "    <tr>\n",
       "      <th>1</th>\n",
       "      <td>Hydro</td>\n",
       "      <td>300</td>\n",
       "      <td>NaN</td>\n",
       "    </tr>\n",
       "  </tbody>\n",
       "</table>\n",
       "</div>"
      ],
      "text/plain": [
       "   Plant  Production (MWh)  Price (€/MWh)\n",
       "0   Wind               200           40.0\n",
       "1  Hydro               300            NaN"
      ]
     },
     "execution_count": 55,
     "metadata": {},
     "output_type": "execute_result"
    }
   ],
   "source": [
    "merged_left = pd.merge(production, prices, on=\"Plant\", how=\"left\")\n",
    "merged_left"
   ]
  },
  {
   "cell_type": "markdown",
   "id": "8aaef328-3abd-4963-ad2c-38ec4f2d18f5",
   "metadata": {},
   "source": [
    "---\n",
    "\n",
    "### ✅ Right Join\n",
    "\n",
    "Keeps **all plants from `prices`**, even if missing production."
   ]
  },
  {
   "cell_type": "code",
   "execution_count": 56,
   "id": "d264f47d-c53b-4bbe-8300-4b713d959506",
   "metadata": {},
   "outputs": [
    {
     "data": {
      "text/html": [
       "<div>\n",
       "<style scoped>\n",
       "    .dataframe tbody tr th:only-of-type {\n",
       "        vertical-align: middle;\n",
       "    }\n",
       "\n",
       "    .dataframe tbody tr th {\n",
       "        vertical-align: top;\n",
       "    }\n",
       "\n",
       "    .dataframe thead th {\n",
       "        text-align: right;\n",
       "    }\n",
       "</style>\n",
       "<table border=\"1\" class=\"dataframe\">\n",
       "  <thead>\n",
       "    <tr style=\"text-align: right;\">\n",
       "      <th></th>\n",
       "      <th>Plant</th>\n",
       "      <th>Production (MWh)</th>\n",
       "      <th>Price (€/MWh)</th>\n",
       "    </tr>\n",
       "  </thead>\n",
       "  <tbody>\n",
       "    <tr>\n",
       "      <th>0</th>\n",
       "      <td>Solar</td>\n",
       "      <td>NaN</td>\n",
       "      <td>50</td>\n",
       "    </tr>\n",
       "    <tr>\n",
       "      <th>1</th>\n",
       "      <td>Wind</td>\n",
       "      <td>200.0</td>\n",
       "      <td>40</td>\n",
       "    </tr>\n",
       "  </tbody>\n",
       "</table>\n",
       "</div>"
      ],
      "text/plain": [
       "   Plant  Production (MWh)  Price (€/MWh)\n",
       "0  Solar               NaN             50\n",
       "1   Wind             200.0             40"
      ]
     },
     "execution_count": 56,
     "metadata": {},
     "output_type": "execute_result"
    }
   ],
   "source": [
    "merged_right = pd.merge(production, prices, on=\"Plant\", how=\"right\")\n",
    "merged_right"
   ]
  },
  {
   "cell_type": "markdown",
   "id": "7bd6e9db-25a9-4353-9483-92e0be394b6e",
   "metadata": {},
   "source": [
    "---\n",
    "\n",
    "### ✅ Outer Join\n",
    "\n",
    "Keeps **all plants from both** DataFrames. Missing values filled with `NaN`."
   ]
  },
  {
   "cell_type": "code",
   "execution_count": 58,
   "id": "0f2f8e5d-2f24-42b6-86d4-95a2b02619ae",
   "metadata": {},
   "outputs": [
    {
     "data": {
      "text/html": [
       "<div>\n",
       "<style scoped>\n",
       "    .dataframe tbody tr th:only-of-type {\n",
       "        vertical-align: middle;\n",
       "    }\n",
       "\n",
       "    .dataframe tbody tr th {\n",
       "        vertical-align: top;\n",
       "    }\n",
       "\n",
       "    .dataframe thead th {\n",
       "        text-align: right;\n",
       "    }\n",
       "</style>\n",
       "<table border=\"1\" class=\"dataframe\">\n",
       "  <thead>\n",
       "    <tr style=\"text-align: right;\">\n",
       "      <th></th>\n",
       "      <th>Plant</th>\n",
       "      <th>Production (MWh)</th>\n",
       "      <th>Price (€/MWh)</th>\n",
       "    </tr>\n",
       "  </thead>\n",
       "  <tbody>\n",
       "    <tr>\n",
       "      <th>0</th>\n",
       "      <td>Hydro</td>\n",
       "      <td>300.0</td>\n",
       "      <td>NaN</td>\n",
       "    </tr>\n",
       "    <tr>\n",
       "      <th>1</th>\n",
       "      <td>Solar</td>\n",
       "      <td>NaN</td>\n",
       "      <td>50.0</td>\n",
       "    </tr>\n",
       "    <tr>\n",
       "      <th>2</th>\n",
       "      <td>Wind</td>\n",
       "      <td>200.0</td>\n",
       "      <td>40.0</td>\n",
       "    </tr>\n",
       "  </tbody>\n",
       "</table>\n",
       "</div>"
      ],
      "text/plain": [
       "   Plant  Production (MWh)  Price (€/MWh)\n",
       "0  Hydro             300.0            NaN\n",
       "1  Solar               NaN           50.0\n",
       "2   Wind             200.0           40.0"
      ]
     },
     "execution_count": 58,
     "metadata": {},
     "output_type": "execute_result"
    }
   ],
   "source": [
    "merged_outer = pd.merge(production, prices, on=\"Plant\", how=\"outer\")\n",
    "merged_outer"
   ]
  },
  {
   "cell_type": "code",
   "execution_count": 60,
   "id": "4f0d6dd4-202c-44ec-857c-18e840e3b1cb",
   "metadata": {},
   "outputs": [
    {
     "data": {
      "text/html": [
       "<div>\n",
       "<style scoped>\n",
       "    .dataframe tbody tr th:only-of-type {\n",
       "        vertical-align: middle;\n",
       "    }\n",
       "\n",
       "    .dataframe tbody tr th {\n",
       "        vertical-align: top;\n",
       "    }\n",
       "\n",
       "    .dataframe thead th {\n",
       "        text-align: right;\n",
       "    }\n",
       "</style>\n",
       "<table border=\"1\" class=\"dataframe\">\n",
       "  <thead>\n",
       "    <tr style=\"text-align: right;\">\n",
       "      <th></th>\n",
       "      <th>Plant</th>\n",
       "      <th>Production (MWh)</th>\n",
       "      <th>Price (€/MWh)</th>\n",
       "      <th>Revenue (€)</th>\n",
       "    </tr>\n",
       "  </thead>\n",
       "  <tbody>\n",
       "    <tr>\n",
       "      <th>0</th>\n",
       "      <td>Hydro</td>\n",
       "      <td>300.0</td>\n",
       "      <td>NaN</td>\n",
       "      <td>NaN</td>\n",
       "    </tr>\n",
       "    <tr>\n",
       "      <th>1</th>\n",
       "      <td>Solar</td>\n",
       "      <td>NaN</td>\n",
       "      <td>50.0</td>\n",
       "      <td>NaN</td>\n",
       "    </tr>\n",
       "    <tr>\n",
       "      <th>2</th>\n",
       "      <td>Wind</td>\n",
       "      <td>200.0</td>\n",
       "      <td>40.0</td>\n",
       "      <td>8000.0</td>\n",
       "    </tr>\n",
       "  </tbody>\n",
       "</table>\n",
       "</div>"
      ],
      "text/plain": [
       "   Plant  Production (MWh)  Price (€/MWh)  Revenue (€)\n",
       "0  Hydro             300.0            NaN          NaN\n",
       "1  Solar               NaN           50.0          NaN\n",
       "2   Wind             200.0           40.0       8000.0"
      ]
     },
     "execution_count": 60,
     "metadata": {},
     "output_type": "execute_result"
    }
   ],
   "source": [
    "merged = pd.merge(production, prices, on=\"Plant\", how=\"outer\")\n",
    "merged[\"Revenue (€)\"] = merged[\"Production (MWh)\"] * merged[\"Price (€/MWh)\"]\n",
    "merged"
   ]
  },
  {
   "cell_type": "markdown",
   "id": "d3ca47e6",
   "metadata": {},
   "source": [
    "---\n",
    "# 🔎 Filtering \n",
    "## 🔎 Filtering (Boolean Masks)\n",
    "\n",
    "Use boolean conditions to filter rows.\n",
    "We can filter rows in a DataFrame using **boolean conditions**.\n",
    "\n",
    "* A condition returns `True`/`False` for each row.\n",
    "* Only rows where the condition is `True` are selected.\n"
   ]
  },
  {
   "cell_type": "code",
   "execution_count": 61,
   "id": "d238b703-8d3b-4bbc-88c9-669b2c49b358",
   "metadata": {},
   "outputs": [
    {
     "data": {
      "text/html": [
       "<div>\n",
       "<style scoped>\n",
       "    .dataframe tbody tr th:only-of-type {\n",
       "        vertical-align: middle;\n",
       "    }\n",
       "\n",
       "    .dataframe tbody tr th {\n",
       "        vertical-align: top;\n",
       "    }\n",
       "\n",
       "    .dataframe thead th {\n",
       "        text-align: right;\n",
       "    }\n",
       "</style>\n",
       "<table border=\"1\" class=\"dataframe\">\n",
       "  <thead>\n",
       "    <tr style=\"text-align: right;\">\n",
       "      <th></th>\n",
       "      <th>Solar</th>\n",
       "      <th>Wind</th>\n",
       "      <th>Hydro</th>\n",
       "    </tr>\n",
       "  </thead>\n",
       "  <tbody>\n",
       "    <tr>\n",
       "      <th>Day 3</th>\n",
       "      <td>150</td>\n",
       "      <td>190</td>\n",
       "      <td>305</td>\n",
       "    </tr>\n",
       "    <tr>\n",
       "      <th>Day 4</th>\n",
       "      <td>160</td>\n",
       "      <td>220</td>\n",
       "      <td>295</td>\n",
       "    </tr>\n",
       "  </tbody>\n",
       "</table>\n",
       "</div>"
      ],
      "text/plain": [
       "       Solar  Wind  Hydro\n",
       "Day 3    150   190    305\n",
       "Day 4    160   220    295"
      ]
     },
     "execution_count": 61,
     "metadata": {},
     "output_type": "execute_result"
    }
   ],
   "source": [
    "import pandas as pd\n",
    "\n",
    "# Energy production dataset (MWh)\n",
    "df = pd.DataFrame({\n",
    "    \"Solar\": [120, 135, 150, 160],\n",
    "    \"Wind\": [200, 210, 190, 220],\n",
    "    \"Hydro\": [300, 310, 305, 295]\n",
    "}, index=[\"Day 1\", \"Day 2\", \"Day 3\", \"Day 4\"])\n",
    "\n",
    "# Select days where solar > 140 MWh\n",
    "filtered = df[df[\"Solar\"] > 140]\n",
    "filtered"
   ]
  },
  {
   "cell_type": "code",
   "execution_count": 62,
   "id": "971f2d2c-dee2-4de1-8ede-881a14356770",
   "metadata": {},
   "outputs": [
    {
     "data": {
      "text/html": [
       "<div>\n",
       "<style scoped>\n",
       "    .dataframe tbody tr th:only-of-type {\n",
       "        vertical-align: middle;\n",
       "    }\n",
       "\n",
       "    .dataframe tbody tr th {\n",
       "        vertical-align: top;\n",
       "    }\n",
       "\n",
       "    .dataframe thead th {\n",
       "        text-align: right;\n",
       "    }\n",
       "</style>\n",
       "<table border=\"1\" class=\"dataframe\">\n",
       "  <thead>\n",
       "    <tr style=\"text-align: right;\">\n",
       "      <th></th>\n",
       "      <th>Solar</th>\n",
       "      <th>Wind</th>\n",
       "      <th>Hydro</th>\n",
       "    </tr>\n",
       "  </thead>\n",
       "  <tbody>\n",
       "    <tr>\n",
       "      <th>Day 2</th>\n",
       "      <td>135</td>\n",
       "      <td>210</td>\n",
       "      <td>310</td>\n",
       "    </tr>\n",
       "  </tbody>\n",
       "</table>\n",
       "</div>"
      ],
      "text/plain": [
       "       Solar  Wind  Hydro\n",
       "Day 2    135   210    310"
      ]
     },
     "execution_count": 62,
     "metadata": {},
     "output_type": "execute_result"
    }
   ],
   "source": [
    "# Days where Wind = 210\n",
    "df[df[\"Wind\"] == 210]"
   ]
  },
  {
   "cell_type": "code",
   "execution_count": 63,
   "id": "4a1d92b7-00fa-436a-be5c-1e64814df176",
   "metadata": {},
   "outputs": [
    {
     "data": {
      "text/html": [
       "<div>\n",
       "<style scoped>\n",
       "    .dataframe tbody tr th:only-of-type {\n",
       "        vertical-align: middle;\n",
       "    }\n",
       "\n",
       "    .dataframe tbody tr th {\n",
       "        vertical-align: top;\n",
       "    }\n",
       "\n",
       "    .dataframe thead th {\n",
       "        text-align: right;\n",
       "    }\n",
       "</style>\n",
       "<table border=\"1\" class=\"dataframe\">\n",
       "  <thead>\n",
       "    <tr style=\"text-align: right;\">\n",
       "      <th></th>\n",
       "      <th>Solar</th>\n",
       "      <th>Wind</th>\n",
       "      <th>Hydro</th>\n",
       "    </tr>\n",
       "  </thead>\n",
       "  <tbody>\n",
       "    <tr>\n",
       "      <th>Day 4</th>\n",
       "      <td>160</td>\n",
       "      <td>220</td>\n",
       "      <td>295</td>\n",
       "    </tr>\n",
       "  </tbody>\n",
       "</table>\n",
       "</div>"
      ],
      "text/plain": [
       "       Solar  Wind  Hydro\n",
       "Day 4    160   220    295"
      ]
     },
     "execution_count": 63,
     "metadata": {},
     "output_type": "execute_result"
    }
   ],
   "source": [
    "# Days where Hydro < 300\n",
    "df[df[\"Hydro\"] < 300]"
   ]
  },
  {
   "cell_type": "code",
   "execution_count": 64,
   "id": "452c9ed1-a331-4e38-8f79-6b7c51399276",
   "metadata": {},
   "outputs": [
    {
     "data": {
      "text/html": [
       "<div>\n",
       "<style scoped>\n",
       "    .dataframe tbody tr th:only-of-type {\n",
       "        vertical-align: middle;\n",
       "    }\n",
       "\n",
       "    .dataframe tbody tr th {\n",
       "        vertical-align: top;\n",
       "    }\n",
       "\n",
       "    .dataframe thead th {\n",
       "        text-align: right;\n",
       "    }\n",
       "</style>\n",
       "<table border=\"1\" class=\"dataframe\">\n",
       "  <thead>\n",
       "    <tr style=\"text-align: right;\">\n",
       "      <th></th>\n",
       "      <th>Solar</th>\n",
       "      <th>Wind</th>\n",
       "      <th>Hydro</th>\n",
       "    </tr>\n",
       "  </thead>\n",
       "  <tbody>\n",
       "    <tr>\n",
       "      <th>Day 2</th>\n",
       "      <td>135</td>\n",
       "      <td>210</td>\n",
       "      <td>310</td>\n",
       "    </tr>\n",
       "    <tr>\n",
       "      <th>Day 4</th>\n",
       "      <td>160</td>\n",
       "      <td>220</td>\n",
       "      <td>295</td>\n",
       "    </tr>\n",
       "  </tbody>\n",
       "</table>\n",
       "</div>"
      ],
      "text/plain": [
       "       Solar  Wind  Hydro\n",
       "Day 2    135   210    310\n",
       "Day 4    160   220    295"
      ]
     },
     "execution_count": 64,
     "metadata": {},
     "output_type": "execute_result"
    }
   ],
   "source": [
    "# Multiple conditions (use `&` for AND, `|` for OR)\n",
    "df[(df[\"Solar\"] > 130) & (df[\"Wind\"] > 200)]"
   ]
  },
  {
   "cell_type": "markdown",
   "id": "dfb1fab7-09e4-4afb-a040-f3e80b052d9c",
   "metadata": {},
   "source": [
    "\n",
    "---\n",
    "\n",
    "## 🔎 Filtering with `.query()`\n",
    "\n",
    "Instead of writing boolean masks with brackets `[]`, you can use **`.query()`**:\n",
    "\n",
    "* Conditions are written as a **string**.\n",
    "* Column names are used directly (without `df[\"col\"]`).\n",
    "* Makes complex filters easier to read.\n",
    "\n",
    "### 🔎 Key Benefits\n",
    "\n",
    "* **Cleaner syntax** (no brackets, no `&`/`|`).\n",
    "* Feels familiar if you know **SQL**.\n",
    "* Great for complex queries."
   ]
  },
  {
   "cell_type": "code",
   "execution_count": 65,
   "id": "abb2bdd5-9763-484d-ad40-d84ec73a568c",
   "metadata": {},
   "outputs": [
    {
     "name": "stdout",
     "output_type": "stream",
     "text": [
      "       Solar  Wind  Hydro\n",
      "Day 3    150   190    305\n",
      "Day 4    160   220    295\n",
      "       Solar  Wind  Hydro\n",
      "Day 2    135   210    310\n",
      "       Solar  Wind  Hydro\n",
      "Day 4    160   220    295\n",
      "       Solar  Wind  Hydro\n",
      "Day 2    135   210    310\n",
      "Day 4    160   220    295\n",
      "       Solar  Wind  Hydro\n",
      "Day 4    160   220    295\n"
     ]
    }
   ],
   "source": [
    "# Days where Solar > 140\n",
    "print(df.query(\"Solar > 140\"))\n",
    "\n",
    "# Days where Wind == 210\n",
    "print(df.query(\"Wind == 210\"))\n",
    "\n",
    "# Days where Hydro < 300\n",
    "print(df.query(\"Hydro < 300\"))\n",
    "\n",
    "# Multiple conditions (AND / OR)\n",
    "print(df.query(\"Solar > 130 and Wind > 200\"))\n",
    "print(df.query(\"Solar > 150 or Hydro < 300\"))"
   ]
  },
  {
   "cell_type": "markdown",
   "id": "0bf7cf84",
   "metadata": {},
   "source": [
    "---\n",
    "\n",
    "# ➕ Derived Columns & `.apply()`\n",
    "\n",
    "You can create **new columns** from existing ones using operations or `.apply()` with a custom function.\n",
    "\n",
    "### 🔎 Why use `.apply()`?\n",
    "\n",
    "* Add **custom logic** (e.g., classify, transform, label).\n",
    "* Works **row-wise** (`axis=1`) or **column-wise** (`axis=0`).\n",
    "* More flexible than simple arithmetic operations.\n"
   ]
  },
  {
   "cell_type": "code",
   "execution_count": 67,
   "id": "18d7e311-d238-4a65-a505-888a44d21eed",
   "metadata": {},
   "outputs": [
    {
     "data": {
      "text/html": [
       "<div>\n",
       "<style scoped>\n",
       "    .dataframe tbody tr th:only-of-type {\n",
       "        vertical-align: middle;\n",
       "    }\n",
       "\n",
       "    .dataframe tbody tr th {\n",
       "        vertical-align: top;\n",
       "    }\n",
       "\n",
       "    .dataframe thead th {\n",
       "        text-align: right;\n",
       "    }\n",
       "</style>\n",
       "<table border=\"1\" class=\"dataframe\">\n",
       "  <thead>\n",
       "    <tr style=\"text-align: right;\">\n",
       "      <th></th>\n",
       "      <th>Solar</th>\n",
       "      <th>Wind</th>\n",
       "      <th>Hydro</th>\n",
       "      <th>Total</th>\n",
       "      <th>Solar_share_%</th>\n",
       "    </tr>\n",
       "  </thead>\n",
       "  <tbody>\n",
       "    <tr>\n",
       "      <th>Day 1</th>\n",
       "      <td>120</td>\n",
       "      <td>200</td>\n",
       "      <td>300</td>\n",
       "      <td>620</td>\n",
       "      <td>19.35</td>\n",
       "    </tr>\n",
       "    <tr>\n",
       "      <th>Day 2</th>\n",
       "      <td>135</td>\n",
       "      <td>210</td>\n",
       "      <td>310</td>\n",
       "      <td>655</td>\n",
       "      <td>20.61</td>\n",
       "    </tr>\n",
       "    <tr>\n",
       "      <th>Day 3</th>\n",
       "      <td>150</td>\n",
       "      <td>190</td>\n",
       "      <td>305</td>\n",
       "      <td>645</td>\n",
       "      <td>23.26</td>\n",
       "    </tr>\n",
       "    <tr>\n",
       "      <th>Day 4</th>\n",
       "      <td>160</td>\n",
       "      <td>220</td>\n",
       "      <td>295</td>\n",
       "      <td>675</td>\n",
       "      <td>23.70</td>\n",
       "    </tr>\n",
       "  </tbody>\n",
       "</table>\n",
       "</div>"
      ],
      "text/plain": [
       "       Solar  Wind  Hydro  Total  Solar_share_%\n",
       "Day 1    120   200    300    620          19.35\n",
       "Day 2    135   210    310    655          20.61\n",
       "Day 3    150   190    305    645          23.26\n",
       "Day 4    160   220    295    675          23.70"
      ]
     },
     "execution_count": 67,
     "metadata": {},
     "output_type": "execute_result"
    }
   ],
   "source": [
    "df = pd.DataFrame({\n",
    "    \"Solar\": [120, 135, 150, 160],\n",
    "    \"Wind\": [200, 210, 190, 220],\n",
    "    \"Hydro\": [300, 310, 305, 295]\n",
    "}, index=[\"Day 1\", \"Day 2\", \"Day 3\", \"Day 4\"])\n",
    "\n",
    "# Total production\n",
    "df[\"Total\"] = df[\"Solar\"] + df[\"Wind\"] + df[\"Hydro\"]\n",
    "\n",
    "# Solar share (% of total)\n",
    "df[\"Solar_share_%\"] = (df[\"Solar\"] / df[\"Total\"]) * 100\n",
    "\n",
    "df.round(2)"
   ]
  },
  {
   "cell_type": "code",
   "execution_count": 68,
   "id": "5957701f-620e-467c-9050-803b33dc57f4",
   "metadata": {},
   "outputs": [
    {
     "data": {
      "text/html": [
       "<div>\n",
       "<style scoped>\n",
       "    .dataframe tbody tr th:only-of-type {\n",
       "        vertical-align: middle;\n",
       "    }\n",
       "\n",
       "    .dataframe tbody tr th {\n",
       "        vertical-align: top;\n",
       "    }\n",
       "\n",
       "    .dataframe thead th {\n",
       "        text-align: right;\n",
       "    }\n",
       "</style>\n",
       "<table border=\"1\" class=\"dataframe\">\n",
       "  <thead>\n",
       "    <tr style=\"text-align: right;\">\n",
       "      <th></th>\n",
       "      <th>Solar</th>\n",
       "      <th>Wind</th>\n",
       "      <th>Hydro</th>\n",
       "      <th>Total</th>\n",
       "      <th>Solar_share_%</th>\n",
       "      <th>Production_Level</th>\n",
       "    </tr>\n",
       "  </thead>\n",
       "  <tbody>\n",
       "    <tr>\n",
       "      <th>Day 1</th>\n",
       "      <td>120</td>\n",
       "      <td>200</td>\n",
       "      <td>300</td>\n",
       "      <td>620</td>\n",
       "      <td>19.354839</td>\n",
       "      <td>High</td>\n",
       "    </tr>\n",
       "    <tr>\n",
       "      <th>Day 2</th>\n",
       "      <td>135</td>\n",
       "      <td>210</td>\n",
       "      <td>310</td>\n",
       "      <td>655</td>\n",
       "      <td>20.610687</td>\n",
       "      <td>High</td>\n",
       "    </tr>\n",
       "    <tr>\n",
       "      <th>Day 3</th>\n",
       "      <td>150</td>\n",
       "      <td>190</td>\n",
       "      <td>305</td>\n",
       "      <td>645</td>\n",
       "      <td>23.255814</td>\n",
       "      <td>High</td>\n",
       "    </tr>\n",
       "    <tr>\n",
       "      <th>Day 4</th>\n",
       "      <td>160</td>\n",
       "      <td>220</td>\n",
       "      <td>295</td>\n",
       "      <td>675</td>\n",
       "      <td>23.703704</td>\n",
       "      <td>High</td>\n",
       "    </tr>\n",
       "  </tbody>\n",
       "</table>\n",
       "</div>"
      ],
      "text/plain": [
       "       Solar  Wind  Hydro  Total  Solar_share_% Production_Level\n",
       "Day 1    120   200    300    620      19.354839             High\n",
       "Day 2    135   210    310    655      20.610687             High\n",
       "Day 3    150   190    305    645      23.255814             High\n",
       "Day 4    160   220    295    675      23.703704             High"
      ]
     },
     "execution_count": 68,
     "metadata": {},
     "output_type": "execute_result"
    }
   ],
   "source": [
    "# Define a function to classify days as \"High\" or \"Low\" production\n",
    "def classify_day(total):\n",
    "    if total > 600:\n",
    "        return \"High\"\n",
    "    else:\n",
    "        return \"Low\"\n",
    "\n",
    "# Apply function to Total column\n",
    "df[\"Production_Level\"] = df[\"Total\"].apply(classify_day)\n",
    "\n",
    "df"
   ]
  },
  {
   "cell_type": "markdown",
   "id": "14b23824",
   "metadata": {},
   "source": [
    "# 🧮 GroupBy & Aggregations\n",
    "\n",
    "The **`.groupby()`** method lets you **split data into groups**, apply an **aggregation** (like sum, mean), and then **combine the results**.\n",
    "This is very useful for **summarizing datasets**.\n",
    "\n",
    "\n",
    "\n",
    "### 🔎 Key Points\n",
    "\n",
    "* **`.groupby(\"col\")`** → splits data by column values.\n",
    "* Combine with `.sum()`, `.mean()`, `.max()`, `.min()`, `.agg()` for summaries.\n",
    "* Works with **multiple group keys** (like Plant + Region).\n",
    "* Supports **custom functions** for flexible analysis.\n",
    "\n",
    "\n",
    "\n",
    "## ⚡ Example: Totals by Plant\n"
   ]
  },
  {
   "cell_type": "code",
   "execution_count": 70,
   "id": "ac4bbecd-e61a-4bbd-8296-23f184f97c87",
   "metadata": {},
   "outputs": [
    {
     "name": "stdout",
     "output_type": "stream",
     "text": [
      "Plant\n",
      "Hydro    595\n",
      "Solar    280\n",
      "Wind     420\n",
      "Name: MWh, dtype: int64\n"
     ]
    },
    {
     "data": {
      "text/html": [
       "<div>\n",
       "<style scoped>\n",
       "    .dataframe tbody tr th:only-of-type {\n",
       "        vertical-align: middle;\n",
       "    }\n",
       "\n",
       "    .dataframe tbody tr th {\n",
       "        vertical-align: top;\n",
       "    }\n",
       "\n",
       "    .dataframe thead th {\n",
       "        text-align: right;\n",
       "    }\n",
       "</style>\n",
       "<table border=\"1\" class=\"dataframe\">\n",
       "  <thead>\n",
       "    <tr style=\"text-align: right;\">\n",
       "      <th></th>\n",
       "      <th>mean</th>\n",
       "      <th>min</th>\n",
       "      <th>max</th>\n",
       "      <th>sum</th>\n",
       "    </tr>\n",
       "    <tr>\n",
       "      <th>Plant</th>\n",
       "      <th></th>\n",
       "      <th></th>\n",
       "      <th></th>\n",
       "      <th></th>\n",
       "    </tr>\n",
       "  </thead>\n",
       "  <tbody>\n",
       "    <tr>\n",
       "      <th>Hydro</th>\n",
       "      <td>297.5</td>\n",
       "      <td>295</td>\n",
       "      <td>300</td>\n",
       "      <td>595</td>\n",
       "    </tr>\n",
       "    <tr>\n",
       "      <th>Solar</th>\n",
       "      <td>140.0</td>\n",
       "      <td>120</td>\n",
       "      <td>160</td>\n",
       "      <td>280</td>\n",
       "    </tr>\n",
       "    <tr>\n",
       "      <th>Wind</th>\n",
       "      <td>210.0</td>\n",
       "      <td>200</td>\n",
       "      <td>220</td>\n",
       "      <td>420</td>\n",
       "    </tr>\n",
       "  </tbody>\n",
       "</table>\n",
       "</div>"
      ],
      "text/plain": [
       "        mean  min  max  sum\n",
       "Plant                      \n",
       "Hydro  297.5  295  300  595\n",
       "Solar  140.0  120  160  280\n",
       "Wind   210.0  200  220  420"
      ]
     },
     "execution_count": 70,
     "metadata": {},
     "output_type": "execute_result"
    }
   ],
   "source": [
    "data = pd.DataFrame({\n",
    "    \"Day\": [\"Day 1\",\"Day 1\",\"Day 1\",\"Day 2\",\"Day 2\",\"Day 2\"],\n",
    "    \"Plant\": [\"Solar\",\"Wind\",\"Hydro\",\"Solar\",\"Wind\",\"Hydro\"],\n",
    "    \"MWh\": [120, 200, 300, 160, 220, 295]\n",
    "})\n",
    "\n",
    "# Total production per plant\n",
    "grouped = data.groupby(\"Plant\")[\"MWh\"].sum()\n",
    "print(grouped)\n",
    "\n",
    "# Multiple aggregations\n",
    "stats = data.groupby(\"Plant\")[\"MWh\"].agg([\"mean\",\"min\",\"max\",\"sum\"])\n",
    "stats"
   ]
  },
  {
   "cell_type": "markdown",
   "id": "a274d124-9b0d-4765-9516-085a7494f0f2",
   "metadata": {},
   "source": [
    "---\n",
    "\n",
    "## ⚡ Group by Multiple Columns"
   ]
  },
  {
   "cell_type": "code",
   "execution_count": 71,
   "id": "df39223a-c310-4c72-afcc-089f734c98f9",
   "metadata": {},
   "outputs": [
    {
     "name": "stdout",
     "output_type": "stream",
     "text": [
      "Region  Plant\n",
      "East    Wind     420\n",
      "North   Solar    280\n",
      "West    Hydro    295\n",
      "Name: MWh, dtype: int64\n"
     ]
    }
   ],
   "source": [
    "# Example with Region\n",
    "data2 = pd.DataFrame({\n",
    "    \"Day\": [\"Day 1\",\"Day 1\",\"Day 2\",\"Day 2\",\"Day 2\"],\n",
    "    \"Plant\": [\"Solar\",\"Wind\",\"Solar\",\"Wind\",\"Hydro\"],\n",
    "    \"Region\": [\"North\",\"East\",\"North\",\"East\",\"West\"],\n",
    "    \"MWh\": [120, 200, 160, 220, 295]\n",
    "})\n",
    "\n",
    "# Total per Plant + Region\n",
    "totals = data2.groupby([\"Region\",\"Plant\"])[\"MWh\"].sum()\n",
    "print(totals)"
   ]
  },
  {
   "cell_type": "markdown",
   "id": "d7ebd332-5cf5-4bfe-b1b3-2cd8acb7cb9b",
   "metadata": {},
   "source": [
    "---\n",
    "\n",
    "## ⚡ Using `.agg()` with Custom Functions"
   ]
  },
  {
   "cell_type": "code",
   "execution_count": 72,
   "id": "e06ae00c-d992-4438-94cc-9a13aeb047c8",
   "metadata": {},
   "outputs": [
    {
     "name": "stdout",
     "output_type": "stream",
     "text": [
      "        mean  sum  range_func\n",
      "Plant                        \n",
      "Hydro  297.5  595           5\n",
      "Solar  140.0  280          40\n",
      "Wind   210.0  420          20\n"
     ]
    }
   ],
   "source": [
    "# Define a custom function\n",
    "def range_func(x):\n",
    "    return x.max() - x.min()\n",
    "\n",
    "# Apply multiple aggregations including custom\n",
    "custom_stats = data.groupby(\"Plant\")[\"MWh\"].agg([\"mean\",\"sum\", range_func])\n",
    "print(custom_stats)"
   ]
  },
  {
   "cell_type": "code",
   "execution_count": 112,
   "id": "3bfc9bf3",
   "metadata": {},
   "outputs": [
    {
     "data": {
      "text/plain": [
       "Plant\n",
       "Hydro    595\n",
       "Solar    280\n",
       "Wind     420\n",
       "Name: MWh, dtype: int64"
      ]
     },
     "execution_count": 112,
     "metadata": {},
     "output_type": "execute_result"
    }
   ],
   "source": [
    "data = pd.DataFrame({\n",
    "    \"Day\": [\"Day 1\",\"Day 1\",\"Day 1\",\"Day 2\",\"Day 2\",\"Day 2\"],\n",
    "    \"Plant\": [\"Solar\",\"Wind\",\"Hydro\",\"Solar\",\"Wind\",\"Hydro\"],\n",
    "    \"MWh\": [120, 200, 300, 160, 220, 295]\n",
    "})\n",
    "\n",
    "grouped = data.groupby(\"Plant\")[\"MWh\"].sum()\n",
    "grouped  # totals per plant"
   ]
  },
  {
   "cell_type": "code",
   "execution_count": 113,
   "id": "4078572f-f2ab-456e-bf96-db36ed77b5a3",
   "metadata": {},
   "outputs": [
    {
     "data": {
      "text/html": [
       "<div>\n",
       "<style scoped>\n",
       "    .dataframe tbody tr th:only-of-type {\n",
       "        vertical-align: middle;\n",
       "    }\n",
       "\n",
       "    .dataframe tbody tr th {\n",
       "        vertical-align: top;\n",
       "    }\n",
       "\n",
       "    .dataframe thead th {\n",
       "        text-align: right;\n",
       "    }\n",
       "</style>\n",
       "<table border=\"1\" class=\"dataframe\">\n",
       "  <thead>\n",
       "    <tr style=\"text-align: right;\">\n",
       "      <th></th>\n",
       "      <th>mean</th>\n",
       "      <th>min</th>\n",
       "      <th>max</th>\n",
       "      <th>sum</th>\n",
       "    </tr>\n",
       "    <tr>\n",
       "      <th>Plant</th>\n",
       "      <th></th>\n",
       "      <th></th>\n",
       "      <th></th>\n",
       "      <th></th>\n",
       "    </tr>\n",
       "  </thead>\n",
       "  <tbody>\n",
       "    <tr>\n",
       "      <th>Hydro</th>\n",
       "      <td>297.5</td>\n",
       "      <td>295</td>\n",
       "      <td>300</td>\n",
       "      <td>595</td>\n",
       "    </tr>\n",
       "    <tr>\n",
       "      <th>Solar</th>\n",
       "      <td>140.0</td>\n",
       "      <td>120</td>\n",
       "      <td>160</td>\n",
       "      <td>280</td>\n",
       "    </tr>\n",
       "    <tr>\n",
       "      <th>Wind</th>\n",
       "      <td>210.0</td>\n",
       "      <td>200</td>\n",
       "      <td>220</td>\n",
       "      <td>420</td>\n",
       "    </tr>\n",
       "  </tbody>\n",
       "</table>\n",
       "</div>"
      ],
      "text/plain": [
       "        mean  min  max  sum\n",
       "Plant                      \n",
       "Hydro  297.5  295  300  595\n",
       "Solar  140.0  120  160  280\n",
       "Wind   210.0  200  220  420"
      ]
     },
     "execution_count": 113,
     "metadata": {},
     "output_type": "execute_result"
    }
   ],
   "source": [
    "stats = data.groupby(\"Plant\")[\"MWh\"].agg([\"mean\",\"min\",\"max\",\"sum\"])\n",
    "stats"
   ]
  },
  {
   "cell_type": "markdown",
   "id": "08bd5f34",
   "metadata": {},
   "source": [
    "---\n",
    "## 🧭 Sorting & Ranking\n",
    "\n",
    "Sort by values or index; compute ranks.\n",
    "\n",
    "⚡ Example: sort days by **Total MWh** descending.\n"
   ]
  },
  {
   "cell_type": "code",
   "execution_count": 80,
   "id": "fad7ba0b",
   "metadata": {},
   "outputs": [
    {
     "data": {
      "text/html": [
       "<div>\n",
       "<style scoped>\n",
       "    .dataframe tbody tr th:only-of-type {\n",
       "        vertical-align: middle;\n",
       "    }\n",
       "\n",
       "    .dataframe tbody tr th {\n",
       "        vertical-align: top;\n",
       "    }\n",
       "\n",
       "    .dataframe thead th {\n",
       "        text-align: right;\n",
       "    }\n",
       "</style>\n",
       "<table border=\"1\" class=\"dataframe\">\n",
       "  <thead>\n",
       "    <tr style=\"text-align: right;\">\n",
       "      <th></th>\n",
       "      <th>Solar</th>\n",
       "      <th>Wind</th>\n",
       "      <th>Hydro</th>\n",
       "    </tr>\n",
       "  </thead>\n",
       "  <tbody>\n",
       "    <tr>\n",
       "      <th>Day 1</th>\n",
       "      <td>120</td>\n",
       "      <td>200</td>\n",
       "      <td>300</td>\n",
       "    </tr>\n",
       "    <tr>\n",
       "      <th>Day 2</th>\n",
       "      <td>135</td>\n",
       "      <td>210</td>\n",
       "      <td>310</td>\n",
       "    </tr>\n",
       "    <tr>\n",
       "      <th>Day 3</th>\n",
       "      <td>150</td>\n",
       "      <td>190</td>\n",
       "      <td>305</td>\n",
       "    </tr>\n",
       "    <tr>\n",
       "      <th>Day 4</th>\n",
       "      <td>160</td>\n",
       "      <td>220</td>\n",
       "      <td>295</td>\n",
       "    </tr>\n",
       "  </tbody>\n",
       "</table>\n",
       "</div>"
      ],
      "text/plain": [
       "       Solar  Wind  Hydro\n",
       "Day 1    120   200    300\n",
       "Day 2    135   210    310\n",
       "Day 3    150   190    305\n",
       "Day 4    160   220    295"
      ]
     },
     "execution_count": 80,
     "metadata": {},
     "output_type": "execute_result"
    }
   ],
   "source": [
    "# Energy production (MWh) for 3 plants over 4 days\n",
    "df = pd.DataFrame({\n",
    "    \"Solar\": [120, 135, 150, 160],\n",
    "    \"Wind\": [200, 210, 190, 220],\n",
    "    \"Hydro\": [300, 310, 305, 295]\n",
    "}, index=[\"Day 1\",\"Day 2\",\"Day 3\",\"Day 4\"])\n",
    "df"
   ]
  },
  {
   "cell_type": "code",
   "execution_count": 83,
   "id": "039300ec-0e36-48e8-9d14-43c3928c232f",
   "metadata": {},
   "outputs": [
    {
     "data": {
      "text/html": [
       "<div>\n",
       "<style scoped>\n",
       "    .dataframe tbody tr th:only-of-type {\n",
       "        vertical-align: middle;\n",
       "    }\n",
       "\n",
       "    .dataframe tbody tr th {\n",
       "        vertical-align: top;\n",
       "    }\n",
       "\n",
       "    .dataframe thead th {\n",
       "        text-align: right;\n",
       "    }\n",
       "</style>\n",
       "<table border=\"1\" class=\"dataframe\">\n",
       "  <thead>\n",
       "    <tr style=\"text-align: right;\">\n",
       "      <th></th>\n",
       "      <th>Solar</th>\n",
       "      <th>Wind</th>\n",
       "      <th>Hydro</th>\n",
       "      <th>Total</th>\n",
       "    </tr>\n",
       "  </thead>\n",
       "  <tbody>\n",
       "    <tr>\n",
       "      <th>Day 1</th>\n",
       "      <td>120</td>\n",
       "      <td>200</td>\n",
       "      <td>300</td>\n",
       "      <td>620</td>\n",
       "    </tr>\n",
       "    <tr>\n",
       "      <th>Day 2</th>\n",
       "      <td>135</td>\n",
       "      <td>210</td>\n",
       "      <td>310</td>\n",
       "      <td>655</td>\n",
       "    </tr>\n",
       "    <tr>\n",
       "      <th>Day 3</th>\n",
       "      <td>150</td>\n",
       "      <td>190</td>\n",
       "      <td>305</td>\n",
       "      <td>645</td>\n",
       "    </tr>\n",
       "    <tr>\n",
       "      <th>Day 4</th>\n",
       "      <td>160</td>\n",
       "      <td>220</td>\n",
       "      <td>295</td>\n",
       "      <td>675</td>\n",
       "    </tr>\n",
       "  </tbody>\n",
       "</table>\n",
       "</div>"
      ],
      "text/plain": [
       "       Solar  Wind  Hydro  Total\n",
       "Day 1    120   200    300    620\n",
       "Day 2    135   210    310    655\n",
       "Day 3    150   190    305    645\n",
       "Day 4    160   220    295    675"
      ]
     },
     "execution_count": 83,
     "metadata": {},
     "output_type": "execute_result"
    }
   ],
   "source": [
    "# Make a copy and compute totals (only numeric columns)\n",
    "df_sort = df.copy()\n",
    "df_sort[\"Total\"] = df_sort.sum(axis=1)\n",
    "df_sort"
   ]
  },
  {
   "cell_type": "code",
   "execution_count": 85,
   "id": "3373eaf8-5b70-4d80-994f-e8c4abbee5d5",
   "metadata": {},
   "outputs": [
    {
     "data": {
      "text/html": [
       "<div>\n",
       "<style scoped>\n",
       "    .dataframe tbody tr th:only-of-type {\n",
       "        vertical-align: middle;\n",
       "    }\n",
       "\n",
       "    .dataframe tbody tr th {\n",
       "        vertical-align: top;\n",
       "    }\n",
       "\n",
       "    .dataframe thead th {\n",
       "        text-align: right;\n",
       "    }\n",
       "</style>\n",
       "<table border=\"1\" class=\"dataframe\">\n",
       "  <thead>\n",
       "    <tr style=\"text-align: right;\">\n",
       "      <th></th>\n",
       "      <th>Solar</th>\n",
       "      <th>Wind</th>\n",
       "      <th>Hydro</th>\n",
       "      <th>Total</th>\n",
       "    </tr>\n",
       "  </thead>\n",
       "  <tbody>\n",
       "    <tr>\n",
       "      <th>Day 4</th>\n",
       "      <td>160</td>\n",
       "      <td>220</td>\n",
       "      <td>295</td>\n",
       "      <td>675</td>\n",
       "    </tr>\n",
       "    <tr>\n",
       "      <th>Day 2</th>\n",
       "      <td>135</td>\n",
       "      <td>210</td>\n",
       "      <td>310</td>\n",
       "      <td>655</td>\n",
       "    </tr>\n",
       "    <tr>\n",
       "      <th>Day 3</th>\n",
       "      <td>150</td>\n",
       "      <td>190</td>\n",
       "      <td>305</td>\n",
       "      <td>645</td>\n",
       "    </tr>\n",
       "    <tr>\n",
       "      <th>Day 1</th>\n",
       "      <td>120</td>\n",
       "      <td>200</td>\n",
       "      <td>300</td>\n",
       "      <td>620</td>\n",
       "    </tr>\n",
       "  </tbody>\n",
       "</table>\n",
       "</div>"
      ],
      "text/plain": [
       "       Solar  Wind  Hydro  Total\n",
       "Day 4    160   220    295    675\n",
       "Day 2    135   210    310    655\n",
       "Day 3    150   190    305    645\n",
       "Day 1    120   200    300    620"
      ]
     },
     "execution_count": 85,
     "metadata": {},
     "output_type": "execute_result"
    }
   ],
   "source": [
    "# Sort by total production (descending)\n",
    "df_sort.sort_values(\"Total\", ascending=False)"
   ]
  },
  {
   "cell_type": "code",
   "execution_count": 88,
   "id": "011d7a80-a0fb-453d-8f55-eb520675689b",
   "metadata": {},
   "outputs": [
    {
     "name": "stdout",
     "output_type": "stream",
     "text": [
      "Solar    3.0\n",
      "Wind     2.0\n",
      "Hydro    1.0\n",
      "Name: Day 1, dtype: float64\n"
     ]
    }
   ],
   "source": [
    "# Rank plants by Day 1 output (highest = 1)\n",
    "day1_ranking = df_sort.loc[\"Day 1\"].drop(\"Total\").rank(ascending=False)\n",
    "print(day1_ranking)\n"
   ]
  },
  {
   "cell_type": "markdown",
   "id": "32133c9a",
   "metadata": {},
   "source": [
    "----\n",
    "# 🔁 Reshaping: `melt` and `pivot`\n",
    "\n",
    "Real-world datasets often need to be reshaped between **wide** and **long** formats depending on the analysis or visualization.\n",
    "\n",
    "* **Wide format** → columns represent variables (e.g., Solar, Wind, Hydro).\n",
    "* **Long format** → each row represents a single observation (e.g., Day + Plant + MWh).\n",
    "\n",
    "👉 Pandas gives us **`melt()`** (wide → long) and **`pivot()`** (long → wide).\n",
    "\n",
    "## 🔎 Why This Matters\n",
    "\n",
    "* **`melt()`** → useful for feeding data into ML models or plotting libraries (which often expect long format).\n",
    "* **`pivot()`** → useful when you want a table-like format for reports or calculations.\n"
   ]
  },
  {
   "cell_type": "code",
   "execution_count": 90,
   "id": "d4a0c56a",
   "metadata": {},
   "outputs": [
    {
     "data": {
      "text/html": [
       "<div>\n",
       "<style scoped>\n",
       "    .dataframe tbody tr th:only-of-type {\n",
       "        vertical-align: middle;\n",
       "    }\n",
       "\n",
       "    .dataframe tbody tr th {\n",
       "        vertical-align: top;\n",
       "    }\n",
       "\n",
       "    .dataframe thead th {\n",
       "        text-align: right;\n",
       "    }\n",
       "</style>\n",
       "<table border=\"1\" class=\"dataframe\">\n",
       "  <thead>\n",
       "    <tr style=\"text-align: right;\">\n",
       "      <th></th>\n",
       "      <th>Day</th>\n",
       "      <th>Solar</th>\n",
       "      <th>Wind</th>\n",
       "      <th>Hydro</th>\n",
       "    </tr>\n",
       "  </thead>\n",
       "  <tbody>\n",
       "    <tr>\n",
       "      <th>0</th>\n",
       "      <td>Day 1</td>\n",
       "      <td>120</td>\n",
       "      <td>200</td>\n",
       "      <td>300</td>\n",
       "    </tr>\n",
       "    <tr>\n",
       "      <th>1</th>\n",
       "      <td>Day 2</td>\n",
       "      <td>135</td>\n",
       "      <td>210</td>\n",
       "      <td>310</td>\n",
       "    </tr>\n",
       "    <tr>\n",
       "      <th>2</th>\n",
       "      <td>Day 3</td>\n",
       "      <td>150</td>\n",
       "      <td>190</td>\n",
       "      <td>305</td>\n",
       "    </tr>\n",
       "    <tr>\n",
       "      <th>3</th>\n",
       "      <td>Day 4</td>\n",
       "      <td>160</td>\n",
       "      <td>220</td>\n",
       "      <td>295</td>\n",
       "    </tr>\n",
       "  </tbody>\n",
       "</table>\n",
       "</div>"
      ],
      "text/plain": [
       "     Day  Solar  Wind  Hydro\n",
       "0  Day 1    120   200    300\n",
       "1  Day 2    135   210    310\n",
       "2  Day 3    150   190    305\n",
       "3  Day 4    160   220    295"
      ]
     },
     "execution_count": 90,
     "metadata": {},
     "output_type": "execute_result"
    }
   ],
   "source": [
    "wide = pd.DataFrame({\n",
    "    \"Day\": [\"Day 1\",\"Day 2\",\"Day 3\",\"Day 4\"],\n",
    "    \"Solar\": [120,135,150,160],\n",
    "    \"Wind\": [200,210,190,220],\n",
    "    \"Hydro\": [300,310,305,295]\n",
    "})\n",
    "wide"
   ]
  },
  {
   "cell_type": "code",
   "execution_count": 92,
   "id": "cea087da-6f97-42e1-9848-a33bcf25598c",
   "metadata": {},
   "outputs": [
    {
     "data": {
      "text/html": [
       "<div>\n",
       "<style scoped>\n",
       "    .dataframe tbody tr th:only-of-type {\n",
       "        vertical-align: middle;\n",
       "    }\n",
       "\n",
       "    .dataframe tbody tr th {\n",
       "        vertical-align: top;\n",
       "    }\n",
       "\n",
       "    .dataframe thead th {\n",
       "        text-align: right;\n",
       "    }\n",
       "</style>\n",
       "<table border=\"1\" class=\"dataframe\">\n",
       "  <thead>\n",
       "    <tr style=\"text-align: right;\">\n",
       "      <th></th>\n",
       "      <th>Day</th>\n",
       "      <th>Plant</th>\n",
       "      <th>MWh</th>\n",
       "    </tr>\n",
       "  </thead>\n",
       "  <tbody>\n",
       "    <tr>\n",
       "      <th>0</th>\n",
       "      <td>Day 1</td>\n",
       "      <td>Solar</td>\n",
       "      <td>120</td>\n",
       "    </tr>\n",
       "    <tr>\n",
       "      <th>1</th>\n",
       "      <td>Day 2</td>\n",
       "      <td>Solar</td>\n",
       "      <td>135</td>\n",
       "    </tr>\n",
       "    <tr>\n",
       "      <th>2</th>\n",
       "      <td>Day 3</td>\n",
       "      <td>Solar</td>\n",
       "      <td>150</td>\n",
       "    </tr>\n",
       "    <tr>\n",
       "      <th>3</th>\n",
       "      <td>Day 4</td>\n",
       "      <td>Solar</td>\n",
       "      <td>160</td>\n",
       "    </tr>\n",
       "    <tr>\n",
       "      <th>4</th>\n",
       "      <td>Day 1</td>\n",
       "      <td>Wind</td>\n",
       "      <td>200</td>\n",
       "    </tr>\n",
       "    <tr>\n",
       "      <th>5</th>\n",
       "      <td>Day 2</td>\n",
       "      <td>Wind</td>\n",
       "      <td>210</td>\n",
       "    </tr>\n",
       "    <tr>\n",
       "      <th>6</th>\n",
       "      <td>Day 3</td>\n",
       "      <td>Wind</td>\n",
       "      <td>190</td>\n",
       "    </tr>\n",
       "    <tr>\n",
       "      <th>7</th>\n",
       "      <td>Day 4</td>\n",
       "      <td>Wind</td>\n",
       "      <td>220</td>\n",
       "    </tr>\n",
       "    <tr>\n",
       "      <th>8</th>\n",
       "      <td>Day 1</td>\n",
       "      <td>Hydro</td>\n",
       "      <td>300</td>\n",
       "    </tr>\n",
       "    <tr>\n",
       "      <th>9</th>\n",
       "      <td>Day 2</td>\n",
       "      <td>Hydro</td>\n",
       "      <td>310</td>\n",
       "    </tr>\n",
       "    <tr>\n",
       "      <th>10</th>\n",
       "      <td>Day 3</td>\n",
       "      <td>Hydro</td>\n",
       "      <td>305</td>\n",
       "    </tr>\n",
       "    <tr>\n",
       "      <th>11</th>\n",
       "      <td>Day 4</td>\n",
       "      <td>Hydro</td>\n",
       "      <td>295</td>\n",
       "    </tr>\n",
       "  </tbody>\n",
       "</table>\n",
       "</div>"
      ],
      "text/plain": [
       "      Day  Plant  MWh\n",
       "0   Day 1  Solar  120\n",
       "1   Day 2  Solar  135\n",
       "2   Day 3  Solar  150\n",
       "3   Day 4  Solar  160\n",
       "4   Day 1   Wind  200\n",
       "5   Day 2   Wind  210\n",
       "6   Day 3   Wind  190\n",
       "7   Day 4   Wind  220\n",
       "8   Day 1  Hydro  300\n",
       "9   Day 2  Hydro  310\n",
       "10  Day 3  Hydro  305\n",
       "11  Day 4  Hydro  295"
      ]
     },
     "execution_count": 92,
     "metadata": {},
     "output_type": "execute_result"
    }
   ],
   "source": [
    "long = wide.melt(id_vars=\"Day\", var_name=\"Plant\", value_name=\"MWh\")\n",
    "long\n"
   ]
  },
  {
   "cell_type": "code",
   "execution_count": 93,
   "id": "5005d74f-ec39-474a-8506-d3a5f89f708f",
   "metadata": {},
   "outputs": [
    {
     "data": {
      "text/html": [
       "<div>\n",
       "<style scoped>\n",
       "    .dataframe tbody tr th:only-of-type {\n",
       "        vertical-align: middle;\n",
       "    }\n",
       "\n",
       "    .dataframe tbody tr th {\n",
       "        vertical-align: top;\n",
       "    }\n",
       "\n",
       "    .dataframe thead th {\n",
       "        text-align: right;\n",
       "    }\n",
       "</style>\n",
       "<table border=\"1\" class=\"dataframe\">\n",
       "  <thead>\n",
       "    <tr style=\"text-align: right;\">\n",
       "      <th>Plant</th>\n",
       "      <th>Hydro</th>\n",
       "      <th>Solar</th>\n",
       "      <th>Wind</th>\n",
       "    </tr>\n",
       "    <tr>\n",
       "      <th>Day</th>\n",
       "      <th></th>\n",
       "      <th></th>\n",
       "      <th></th>\n",
       "    </tr>\n",
       "  </thead>\n",
       "  <tbody>\n",
       "    <tr>\n",
       "      <th>Day 1</th>\n",
       "      <td>300</td>\n",
       "      <td>120</td>\n",
       "      <td>200</td>\n",
       "    </tr>\n",
       "    <tr>\n",
       "      <th>Day 2</th>\n",
       "      <td>310</td>\n",
       "      <td>135</td>\n",
       "      <td>210</td>\n",
       "    </tr>\n",
       "    <tr>\n",
       "      <th>Day 3</th>\n",
       "      <td>305</td>\n",
       "      <td>150</td>\n",
       "      <td>190</td>\n",
       "    </tr>\n",
       "    <tr>\n",
       "      <th>Day 4</th>\n",
       "      <td>295</td>\n",
       "      <td>160</td>\n",
       "      <td>220</td>\n",
       "    </tr>\n",
       "  </tbody>\n",
       "</table>\n",
       "</div>"
      ],
      "text/plain": [
       "Plant  Hydro  Solar  Wind\n",
       "Day                      \n",
       "Day 1    300    120   200\n",
       "Day 2    310    135   210\n",
       "Day 3    305    150   190\n",
       "Day 4    295    160   220"
      ]
     },
     "execution_count": 93,
     "metadata": {},
     "output_type": "execute_result"
    }
   ],
   "source": [
    "pivoted = long.pivot(index=\"Day\", columns=\"Plant\", values=\"MWh\")\n",
    "pivoted"
   ]
  },
  {
   "cell_type": "markdown",
   "id": "1820e446",
   "metadata": {},
   "source": [
    "\n",
    "## 📊 Pivot Tables\n",
    "\n",
    "Aggregate with multiple dimensions (like Excel pivot).\n",
    "\n",
    "⚡ Example: average MWh by **Day** and **Plant**.\n"
   ]
  },
  {
   "cell_type": "code",
   "execution_count": 96,
   "id": "30a06768-f494-4c26-9107-078507261067",
   "metadata": {},
   "outputs": [
    {
     "data": {
      "text/html": [
       "<div>\n",
       "<style scoped>\n",
       "    .dataframe tbody tr th:only-of-type {\n",
       "        vertical-align: middle;\n",
       "    }\n",
       "\n",
       "    .dataframe tbody tr th {\n",
       "        vertical-align: top;\n",
       "    }\n",
       "\n",
       "    .dataframe thead th {\n",
       "        text-align: right;\n",
       "    }\n",
       "</style>\n",
       "<table border=\"1\" class=\"dataframe\">\n",
       "  <thead>\n",
       "    <tr style=\"text-align: right;\">\n",
       "      <th></th>\n",
       "      <th>Day</th>\n",
       "      <th>Plant</th>\n",
       "      <th>MWh</th>\n",
       "    </tr>\n",
       "  </thead>\n",
       "  <tbody>\n",
       "    <tr>\n",
       "      <th>0</th>\n",
       "      <td>Day 1</td>\n",
       "      <td>Solar</td>\n",
       "      <td>120</td>\n",
       "    </tr>\n",
       "    <tr>\n",
       "      <th>1</th>\n",
       "      <td>Day 2</td>\n",
       "      <td>Solar</td>\n",
       "      <td>135</td>\n",
       "    </tr>\n",
       "    <tr>\n",
       "      <th>2</th>\n",
       "      <td>Day 3</td>\n",
       "      <td>Solar</td>\n",
       "      <td>150</td>\n",
       "    </tr>\n",
       "    <tr>\n",
       "      <th>3</th>\n",
       "      <td>Day 4</td>\n",
       "      <td>Solar</td>\n",
       "      <td>160</td>\n",
       "    </tr>\n",
       "    <tr>\n",
       "      <th>4</th>\n",
       "      <td>Day 1</td>\n",
       "      <td>Wind</td>\n",
       "      <td>200</td>\n",
       "    </tr>\n",
       "    <tr>\n",
       "      <th>5</th>\n",
       "      <td>Day 2</td>\n",
       "      <td>Wind</td>\n",
       "      <td>210</td>\n",
       "    </tr>\n",
       "    <tr>\n",
       "      <th>6</th>\n",
       "      <td>Day 3</td>\n",
       "      <td>Wind</td>\n",
       "      <td>190</td>\n",
       "    </tr>\n",
       "    <tr>\n",
       "      <th>7</th>\n",
       "      <td>Day 4</td>\n",
       "      <td>Wind</td>\n",
       "      <td>220</td>\n",
       "    </tr>\n",
       "    <tr>\n",
       "      <th>8</th>\n",
       "      <td>Day 1</td>\n",
       "      <td>Hydro</td>\n",
       "      <td>300</td>\n",
       "    </tr>\n",
       "    <tr>\n",
       "      <th>9</th>\n",
       "      <td>Day 2</td>\n",
       "      <td>Hydro</td>\n",
       "      <td>310</td>\n",
       "    </tr>\n",
       "    <tr>\n",
       "      <th>10</th>\n",
       "      <td>Day 3</td>\n",
       "      <td>Hydro</td>\n",
       "      <td>305</td>\n",
       "    </tr>\n",
       "    <tr>\n",
       "      <th>11</th>\n",
       "      <td>Day 4</td>\n",
       "      <td>Hydro</td>\n",
       "      <td>295</td>\n",
       "    </tr>\n",
       "  </tbody>\n",
       "</table>\n",
       "</div>"
      ],
      "text/plain": [
       "      Day  Plant  MWh\n",
       "0   Day 1  Solar  120\n",
       "1   Day 2  Solar  135\n",
       "2   Day 3  Solar  150\n",
       "3   Day 4  Solar  160\n",
       "4   Day 1   Wind  200\n",
       "5   Day 2   Wind  210\n",
       "6   Day 3   Wind  190\n",
       "7   Day 4   Wind  220\n",
       "8   Day 1  Hydro  300\n",
       "9   Day 2  Hydro  310\n",
       "10  Day 3  Hydro  305\n",
       "11  Day 4  Hydro  295"
      ]
     },
     "execution_count": 96,
     "metadata": {},
     "output_type": "execute_result"
    }
   ],
   "source": [
    "long"
   ]
  },
  {
   "cell_type": "code",
   "execution_count": 95,
   "id": "2ef7466a",
   "metadata": {},
   "outputs": [
    {
     "data": {
      "text/html": [
       "<div>\n",
       "<style scoped>\n",
       "    .dataframe tbody tr th:only-of-type {\n",
       "        vertical-align: middle;\n",
       "    }\n",
       "\n",
       "    .dataframe tbody tr th {\n",
       "        vertical-align: top;\n",
       "    }\n",
       "\n",
       "    .dataframe thead th {\n",
       "        text-align: right;\n",
       "    }\n",
       "</style>\n",
       "<table border=\"1\" class=\"dataframe\">\n",
       "  <thead>\n",
       "    <tr style=\"text-align: right;\">\n",
       "      <th>Plant</th>\n",
       "      <th>Hydro</th>\n",
       "      <th>Solar</th>\n",
       "      <th>Wind</th>\n",
       "    </tr>\n",
       "    <tr>\n",
       "      <th>Day</th>\n",
       "      <th></th>\n",
       "      <th></th>\n",
       "      <th></th>\n",
       "    </tr>\n",
       "  </thead>\n",
       "  <tbody>\n",
       "    <tr>\n",
       "      <th>Day 1</th>\n",
       "      <td>300.0</td>\n",
       "      <td>120.0</td>\n",
       "      <td>200.0</td>\n",
       "    </tr>\n",
       "    <tr>\n",
       "      <th>Day 2</th>\n",
       "      <td>310.0</td>\n",
       "      <td>135.0</td>\n",
       "      <td>210.0</td>\n",
       "    </tr>\n",
       "    <tr>\n",
       "      <th>Day 3</th>\n",
       "      <td>305.0</td>\n",
       "      <td>150.0</td>\n",
       "      <td>190.0</td>\n",
       "    </tr>\n",
       "    <tr>\n",
       "      <th>Day 4</th>\n",
       "      <td>295.0</td>\n",
       "      <td>160.0</td>\n",
       "      <td>220.0</td>\n",
       "    </tr>\n",
       "  </tbody>\n",
       "</table>\n",
       "</div>"
      ],
      "text/plain": [
       "Plant  Hydro  Solar   Wind\n",
       "Day                       \n",
       "Day 1  300.0  120.0  200.0\n",
       "Day 2  310.0  135.0  210.0\n",
       "Day 3  305.0  150.0  190.0\n",
       "Day 4  295.0  160.0  220.0"
      ]
     },
     "execution_count": 95,
     "metadata": {},
     "output_type": "execute_result"
    }
   ],
   "source": [
    "pivot_table = long.pivot_table(index=\"Day\", columns=\"Plant\", values=\"MWh\", aggfunc=\"mean\")\n",
    "pivot_table"
   ]
  },
  {
   "cell_type": "markdown",
   "id": "ef3a6698",
   "metadata": {},
   "source": [
    "\n",
    "## 🧱 Indexing: `set_index`, `reset_index`, MultiIndex\n",
    "\n",
    "Control row labels and create hierarchical indexes.\n",
    "\n",
    "⚡ Energy example: MultiIndex by **Day** and **Plant**.\n"
   ]
  },
  {
   "cell_type": "code",
   "execution_count": 98,
   "id": "b93d35fc",
   "metadata": {},
   "outputs": [
    {
     "data": {
      "text/html": [
       "<div>\n",
       "<style scoped>\n",
       "    .dataframe tbody tr th:only-of-type {\n",
       "        vertical-align: middle;\n",
       "    }\n",
       "\n",
       "    .dataframe tbody tr th {\n",
       "        vertical-align: top;\n",
       "    }\n",
       "\n",
       "    .dataframe thead th {\n",
       "        text-align: right;\n",
       "    }\n",
       "</style>\n",
       "<table border=\"1\" class=\"dataframe\">\n",
       "  <thead>\n",
       "    <tr style=\"text-align: right;\">\n",
       "      <th></th>\n",
       "      <th></th>\n",
       "      <th>MWh</th>\n",
       "    </tr>\n",
       "    <tr>\n",
       "      <th>Day</th>\n",
       "      <th>Plant</th>\n",
       "      <th></th>\n",
       "    </tr>\n",
       "  </thead>\n",
       "  <tbody>\n",
       "    <tr>\n",
       "      <th rowspan=\"3\" valign=\"top\">Day 1</th>\n",
       "      <th>Hydro</th>\n",
       "      <td>300</td>\n",
       "    </tr>\n",
       "    <tr>\n",
       "      <th>Solar</th>\n",
       "      <td>120</td>\n",
       "    </tr>\n",
       "    <tr>\n",
       "      <th>Wind</th>\n",
       "      <td>200</td>\n",
       "    </tr>\n",
       "    <tr>\n",
       "      <th rowspan=\"3\" valign=\"top\">Day 2</th>\n",
       "      <th>Hydro</th>\n",
       "      <td>310</td>\n",
       "    </tr>\n",
       "    <tr>\n",
       "      <th>Solar</th>\n",
       "      <td>135</td>\n",
       "    </tr>\n",
       "    <tr>\n",
       "      <th>Wind</th>\n",
       "      <td>210</td>\n",
       "    </tr>\n",
       "    <tr>\n",
       "      <th rowspan=\"3\" valign=\"top\">Day 3</th>\n",
       "      <th>Hydro</th>\n",
       "      <td>305</td>\n",
       "    </tr>\n",
       "    <tr>\n",
       "      <th>Solar</th>\n",
       "      <td>150</td>\n",
       "    </tr>\n",
       "    <tr>\n",
       "      <th>Wind</th>\n",
       "      <td>190</td>\n",
       "    </tr>\n",
       "    <tr>\n",
       "      <th rowspan=\"3\" valign=\"top\">Day 4</th>\n",
       "      <th>Hydro</th>\n",
       "      <td>295</td>\n",
       "    </tr>\n",
       "    <tr>\n",
       "      <th>Solar</th>\n",
       "      <td>160</td>\n",
       "    </tr>\n",
       "    <tr>\n",
       "      <th>Wind</th>\n",
       "      <td>220</td>\n",
       "    </tr>\n",
       "  </tbody>\n",
       "</table>\n",
       "</div>"
      ],
      "text/plain": [
       "             MWh\n",
       "Day   Plant     \n",
       "Day 1 Hydro  300\n",
       "      Solar  120\n",
       "      Wind   200\n",
       "Day 2 Hydro  310\n",
       "      Solar  135\n",
       "      Wind   210\n",
       "Day 3 Hydro  305\n",
       "      Solar  150\n",
       "      Wind   190\n",
       "Day 4 Hydro  295\n",
       "      Solar  160\n",
       "      Wind   220"
      ]
     },
     "execution_count": 98,
     "metadata": {},
     "output_type": "execute_result"
    }
   ],
   "source": [
    "mi = long.set_index([\"Day\",\"Plant\"]).sort_index()\n",
    "mi"
   ]
  },
  {
   "cell_type": "code",
   "execution_count": 99,
   "id": "ce497a1e-3e3a-4977-ad37-5f493eacf4d6",
   "metadata": {},
   "outputs": [
    {
     "data": {
      "text/html": [
       "<div>\n",
       "<style scoped>\n",
       "    .dataframe tbody tr th:only-of-type {\n",
       "        vertical-align: middle;\n",
       "    }\n",
       "\n",
       "    .dataframe tbody tr th {\n",
       "        vertical-align: top;\n",
       "    }\n",
       "\n",
       "    .dataframe thead th {\n",
       "        text-align: right;\n",
       "    }\n",
       "</style>\n",
       "<table border=\"1\" class=\"dataframe\">\n",
       "  <thead>\n",
       "    <tr style=\"text-align: right;\">\n",
       "      <th></th>\n",
       "      <th>Day</th>\n",
       "      <th>Plant</th>\n",
       "      <th>MWh</th>\n",
       "    </tr>\n",
       "  </thead>\n",
       "  <tbody>\n",
       "    <tr>\n",
       "      <th>0</th>\n",
       "      <td>Day 1</td>\n",
       "      <td>Hydro</td>\n",
       "      <td>300</td>\n",
       "    </tr>\n",
       "    <tr>\n",
       "      <th>1</th>\n",
       "      <td>Day 1</td>\n",
       "      <td>Solar</td>\n",
       "      <td>120</td>\n",
       "    </tr>\n",
       "    <tr>\n",
       "      <th>2</th>\n",
       "      <td>Day 1</td>\n",
       "      <td>Wind</td>\n",
       "      <td>200</td>\n",
       "    </tr>\n",
       "    <tr>\n",
       "      <th>3</th>\n",
       "      <td>Day 2</td>\n",
       "      <td>Hydro</td>\n",
       "      <td>310</td>\n",
       "    </tr>\n",
       "    <tr>\n",
       "      <th>4</th>\n",
       "      <td>Day 2</td>\n",
       "      <td>Solar</td>\n",
       "      <td>135</td>\n",
       "    </tr>\n",
       "    <tr>\n",
       "      <th>5</th>\n",
       "      <td>Day 2</td>\n",
       "      <td>Wind</td>\n",
       "      <td>210</td>\n",
       "    </tr>\n",
       "    <tr>\n",
       "      <th>6</th>\n",
       "      <td>Day 3</td>\n",
       "      <td>Hydro</td>\n",
       "      <td>305</td>\n",
       "    </tr>\n",
       "    <tr>\n",
       "      <th>7</th>\n",
       "      <td>Day 3</td>\n",
       "      <td>Solar</td>\n",
       "      <td>150</td>\n",
       "    </tr>\n",
       "    <tr>\n",
       "      <th>8</th>\n",
       "      <td>Day 3</td>\n",
       "      <td>Wind</td>\n",
       "      <td>190</td>\n",
       "    </tr>\n",
       "    <tr>\n",
       "      <th>9</th>\n",
       "      <td>Day 4</td>\n",
       "      <td>Hydro</td>\n",
       "      <td>295</td>\n",
       "    </tr>\n",
       "    <tr>\n",
       "      <th>10</th>\n",
       "      <td>Day 4</td>\n",
       "      <td>Solar</td>\n",
       "      <td>160</td>\n",
       "    </tr>\n",
       "    <tr>\n",
       "      <th>11</th>\n",
       "      <td>Day 4</td>\n",
       "      <td>Wind</td>\n",
       "      <td>220</td>\n",
       "    </tr>\n",
       "  </tbody>\n",
       "</table>\n",
       "</div>"
      ],
      "text/plain": [
       "      Day  Plant  MWh\n",
       "0   Day 1  Hydro  300\n",
       "1   Day 1  Solar  120\n",
       "2   Day 1   Wind  200\n",
       "3   Day 2  Hydro  310\n",
       "4   Day 2  Solar  135\n",
       "5   Day 2   Wind  210\n",
       "6   Day 3  Hydro  305\n",
       "7   Day 3  Solar  150\n",
       "8   Day 3   Wind  190\n",
       "9   Day 4  Hydro  295\n",
       "10  Day 4  Solar  160\n",
       "11  Day 4   Wind  220"
      ]
     },
     "execution_count": 99,
     "metadata": {},
     "output_type": "execute_result"
    }
   ],
   "source": [
    "mi.reset_index()"
   ]
  },
  {
   "cell_type": "markdown",
   "id": "16e057a7",
   "metadata": {},
   "source": [
    "\n",
    "# ⏱️ DateTime / Time Series\n",
    "\n",
    "Parse dates, set as index, resample.\n",
    "\n",
    "⚡ Example: daily → weekly totals.\n"
   ]
  },
  {
   "cell_type": "code",
   "execution_count": 102,
   "id": "cff51e7e",
   "metadata": {},
   "outputs": [
    {
     "data": {
      "text/html": [
       "<div>\n",
       "<style scoped>\n",
       "    .dataframe tbody tr th:only-of-type {\n",
       "        vertical-align: middle;\n",
       "    }\n",
       "\n",
       "    .dataframe tbody tr th {\n",
       "        vertical-align: top;\n",
       "    }\n",
       "\n",
       "    .dataframe thead th {\n",
       "        text-align: right;\n",
       "    }\n",
       "</style>\n",
       "<table border=\"1\" class=\"dataframe\">\n",
       "  <thead>\n",
       "    <tr style=\"text-align: right;\">\n",
       "      <th></th>\n",
       "      <th>Solar</th>\n",
       "      <th>Wind</th>\n",
       "      <th>Total</th>\n",
       "    </tr>\n",
       "  </thead>\n",
       "  <tbody>\n",
       "    <tr>\n",
       "      <th>2025-01-01</th>\n",
       "      <td>120</td>\n",
       "      <td>200</td>\n",
       "      <td>320</td>\n",
       "    </tr>\n",
       "    <tr>\n",
       "      <th>2025-01-02</th>\n",
       "      <td>130</td>\n",
       "      <td>210</td>\n",
       "      <td>340</td>\n",
       "    </tr>\n",
       "    <tr>\n",
       "      <th>2025-01-03</th>\n",
       "      <td>140</td>\n",
       "      <td>220</td>\n",
       "      <td>360</td>\n",
       "    </tr>\n",
       "    <tr>\n",
       "      <th>2025-01-04</th>\n",
       "      <td>160</td>\n",
       "      <td>190</td>\n",
       "      <td>350</td>\n",
       "    </tr>\n",
       "    <tr>\n",
       "      <th>2025-01-05</th>\n",
       "      <td>180</td>\n",
       "      <td>205</td>\n",
       "      <td>385</td>\n",
       "    </tr>\n",
       "    <tr>\n",
       "      <th>2025-01-06</th>\n",
       "      <td>150</td>\n",
       "      <td>215</td>\n",
       "      <td>365</td>\n",
       "    </tr>\n",
       "    <tr>\n",
       "      <th>2025-01-07</th>\n",
       "      <td>140</td>\n",
       "      <td>225</td>\n",
       "      <td>365</td>\n",
       "    </tr>\n",
       "    <tr>\n",
       "      <th>2025-01-08</th>\n",
       "      <td>135</td>\n",
       "      <td>230</td>\n",
       "      <td>365</td>\n",
       "    </tr>\n",
       "    <tr>\n",
       "      <th>2025-01-09</th>\n",
       "      <td>145</td>\n",
       "      <td>210</td>\n",
       "      <td>355</td>\n",
       "    </tr>\n",
       "    <tr>\n",
       "      <th>2025-01-10</th>\n",
       "      <td>155</td>\n",
       "      <td>205</td>\n",
       "      <td>360</td>\n",
       "    </tr>\n",
       "  </tbody>\n",
       "</table>\n",
       "</div>"
      ],
      "text/plain": [
       "            Solar  Wind  Total\n",
       "2025-01-01    120   200    320\n",
       "2025-01-02    130   210    340\n",
       "2025-01-03    140   220    360\n",
       "2025-01-04    160   190    350\n",
       "2025-01-05    180   205    385\n",
       "2025-01-06    150   215    365\n",
       "2025-01-07    140   225    365\n",
       "2025-01-08    135   230    365\n",
       "2025-01-09    145   210    355\n",
       "2025-01-10    155   205    360"
      ]
     },
     "execution_count": 102,
     "metadata": {},
     "output_type": "execute_result"
    }
   ],
   "source": [
    "rng = pd.date_range(\"2025-01-01\", periods=10, freq=\"D\")\n",
    "ts = pd.DataFrame({\n",
    "    \"Solar\": [120,130,140,160,180,150,140,135,145,155],\n",
    "    \"Wind\":  [200,210,220,190,205,215,225,230,210,205]\n",
    "}, index=rng)\n",
    "ts[\"Total\"] = ts.sum(axis=1)\n",
    "ts"
   ]
  },
  {
   "cell_type": "code",
   "execution_count": 103,
   "id": "c74beeac-d86a-42f2-8909-2f5a89813ab3",
   "metadata": {},
   "outputs": [
    {
     "data": {
      "text/html": [
       "<div>\n",
       "<style scoped>\n",
       "    .dataframe tbody tr th:only-of-type {\n",
       "        vertical-align: middle;\n",
       "    }\n",
       "\n",
       "    .dataframe tbody tr th {\n",
       "        vertical-align: top;\n",
       "    }\n",
       "\n",
       "    .dataframe thead th {\n",
       "        text-align: right;\n",
       "    }\n",
       "</style>\n",
       "<table border=\"1\" class=\"dataframe\">\n",
       "  <thead>\n",
       "    <tr style=\"text-align: right;\">\n",
       "      <th></th>\n",
       "      <th>Solar</th>\n",
       "      <th>Wind</th>\n",
       "      <th>Total</th>\n",
       "    </tr>\n",
       "  </thead>\n",
       "  <tbody>\n",
       "    <tr>\n",
       "      <th>2025-01-05</th>\n",
       "      <td>730</td>\n",
       "      <td>1025</td>\n",
       "      <td>1755</td>\n",
       "    </tr>\n",
       "    <tr>\n",
       "      <th>2025-01-12</th>\n",
       "      <td>725</td>\n",
       "      <td>1085</td>\n",
       "      <td>1810</td>\n",
       "    </tr>\n",
       "  </tbody>\n",
       "</table>\n",
       "</div>"
      ],
      "text/plain": [
       "            Solar  Wind  Total\n",
       "2025-01-05    730  1025   1755\n",
       "2025-01-12    725  1085   1810"
      ]
     },
     "execution_count": 103,
     "metadata": {},
     "output_type": "execute_result"
    }
   ],
   "source": [
    "# Weekly totals (Mon-Sun by default)\n",
    "weekly = ts.resample(\"W\").sum()\n",
    "weekly"
   ]
  },
  {
   "cell_type": "markdown",
   "id": "47fd00e7",
   "metadata": {},
   "source": [
    "\n",
    "# 🔤 String Operations\n",
    "\n",
    "Vectorized string methods with `.str`.\n",
    "\n",
    "⚡ Example: clean plant labels.\n"
   ]
  },
  {
   "cell_type": "code",
   "execution_count": 104,
   "id": "1e407e1f",
   "metadata": {},
   "outputs": [
    {
     "name": "stdout",
     "output_type": "stream",
     "text": [
      "0          Solar\n",
      "1      Wind Farm\n",
      "2    Hydro Plant\n",
      "dtype: object\n"
     ]
    }
   ],
   "source": [
    "labels = pd.Series([\"  SOLAR  \", \"wind-farm\", \"Hydro_Plant\"])\n",
    "clean = (labels.str.strip()\n",
    "               .str.replace(\"-\", \" \", regex=False)\n",
    "               .str.replace(\"_\", \" \", regex=False)\n",
    "               .str.title())\n",
    "print(clean)"
   ]
  },
  {
   "cell_type": "markdown",
   "id": "7dd0b335",
   "metadata": {},
   "source": [
    "\n",
    "# 🏷️ Categoricals\n",
    "\n",
    "Use category dtype to save memory and define order.\n",
    "\n",
    "⚡ Example: ordered **Region** categories.\n"
   ]
  },
  {
   "cell_type": "code",
   "execution_count": 105,
   "id": "dd947c17",
   "metadata": {},
   "outputs": [
    {
     "name": "stdout",
     "output_type": "stream",
     "text": [
      "category\n",
      "Index(['East', 'North', 'West'], dtype='object')\n"
     ]
    }
   ],
   "source": [
    "regions = pd.Series([\"North\",\"West\",\"East\",\"East\",\"North\"])\n",
    "regions_cat = regions.astype(\"category\")\n",
    "print(regions_cat.dtype)\n",
    "print(regions_cat.cat.categories)"
   ]
  },
  {
   "cell_type": "markdown",
   "id": "716fddd8",
   "metadata": {},
   "source": [
    "\n",
    "# 🪟 Window Functions (`rolling`)\n",
    "\n",
    "Compute rolling statistics over time windows.\n",
    "\n",
    "⚡ Energy example: 3-day rolling **mean** of total production.\n"
   ]
  },
  {
   "cell_type": "code",
   "execution_count": 106,
   "id": "3b64a510",
   "metadata": {},
   "outputs": [
    {
     "data": {
      "text/html": [
       "<div>\n",
       "<style scoped>\n",
       "    .dataframe tbody tr th:only-of-type {\n",
       "        vertical-align: middle;\n",
       "    }\n",
       "\n",
       "    .dataframe tbody tr th {\n",
       "        vertical-align: top;\n",
       "    }\n",
       "\n",
       "    .dataframe thead th {\n",
       "        text-align: right;\n",
       "    }\n",
       "</style>\n",
       "<table border=\"1\" class=\"dataframe\">\n",
       "  <thead>\n",
       "    <tr style=\"text-align: right;\">\n",
       "      <th></th>\n",
       "      <th>Total</th>\n",
       "    </tr>\n",
       "  </thead>\n",
       "  <tbody>\n",
       "    <tr>\n",
       "      <th>2025-01-01</th>\n",
       "      <td>300</td>\n",
       "    </tr>\n",
       "    <tr>\n",
       "      <th>2025-01-02</th>\n",
       "      <td>320</td>\n",
       "    </tr>\n",
       "    <tr>\n",
       "      <th>2025-01-03</th>\n",
       "      <td>340</td>\n",
       "    </tr>\n",
       "    <tr>\n",
       "      <th>2025-01-04</th>\n",
       "      <td>310</td>\n",
       "    </tr>\n",
       "    <tr>\n",
       "      <th>2025-01-05</th>\n",
       "      <td>305</td>\n",
       "    </tr>\n",
       "    <tr>\n",
       "      <th>2025-01-06</th>\n",
       "      <td>330</td>\n",
       "    </tr>\n",
       "    <tr>\n",
       "      <th>2025-01-07</th>\n",
       "      <td>360</td>\n",
       "    </tr>\n",
       "  </tbody>\n",
       "</table>\n",
       "</div>"
      ],
      "text/plain": [
       "            Total\n",
       "2025-01-01    300\n",
       "2025-01-02    320\n",
       "2025-01-03    340\n",
       "2025-01-04    310\n",
       "2025-01-05    305\n",
       "2025-01-06    330\n",
       "2025-01-07    360"
      ]
     },
     "execution_count": 106,
     "metadata": {},
     "output_type": "execute_result"
    }
   ],
   "source": [
    "ts = pd.DataFrame({\n",
    "    \"Total\": [300, 320, 340, 310, 305, 330, 360]\n",
    "}, index=pd.date_range(\"2025-01-01\", periods=7, freq=\"D\"))\n",
    "ts"
   ]
  },
  {
   "cell_type": "code",
   "execution_count": 107,
   "id": "bfae49bb-c270-4f67-877f-7bd376eb6b88",
   "metadata": {},
   "outputs": [
    {
     "data": {
      "text/plain": [
       "2025-01-01    300.000000\n",
       "2025-01-02    310.000000\n",
       "2025-01-03    320.000000\n",
       "2025-01-04    323.333333\n",
       "2025-01-05    318.333333\n",
       "2025-01-06    315.000000\n",
       "2025-01-07    331.666667\n",
       "Freq: D, Name: Total, dtype: float64"
      ]
     },
     "execution_count": 107,
     "metadata": {},
     "output_type": "execute_result"
    }
   ],
   "source": [
    "roll_mean = ts[\"Total\"].rolling(window=3, min_periods=1).mean()\n",
    "roll_mean"
   ]
  },
  {
   "cell_type": "markdown",
   "id": "62803e90-4fd3-42a1-a523-1913d641fc03",
   "metadata": {},
   "source": [
    "# ✏️ Renaming Columns and Rows\n",
    "\n",
    "Sometimes you need to **rename columns or row labels** to make your dataset clearer or standardized.\n",
    "In Pandas, we use **`.rename()`** for this.\n",
    "\n",
    "## 🔎 Key Notes\n",
    "\n",
    "* **`.rename(columns={...})`** → rename columns.\n",
    "* **`.rename(index={...})`** → rename rows (index).\n",
    "* You can also use `df.columns = [...]` to rename all columns at once.\n",
    "\n",
    "---\n",
    "\n",
    "## ⚡ Renaming Columns"
   ]
  },
  {
   "cell_type": "code",
   "execution_count": 108,
   "id": "546d6470-d653-44de-908a-69679e1f7dc5",
   "metadata": {},
   "outputs": [
    {
     "name": "stdout",
     "output_type": "stream",
     "text": [
      "Before renaming:\n",
      "        Sol  Wnd  Hyd\n",
      "Day 1  120  200  300\n",
      "Day 2  135  210  310\n",
      "Day 3  150  190  305\n",
      "Day 4  160  220  295\n",
      "\n",
      "After renaming:\n",
      "        Solar  Wind  Hydro\n",
      "Day 1    120   200    300\n",
      "Day 2    135   210    310\n",
      "Day 3    150   190    305\n",
      "Day 4    160   220    295\n"
     ]
    }
   ],
   "source": [
    "# Energy production dataset (MWh)\n",
    "df = pd.DataFrame({\n",
    "    \"Sol\": [120, 135, 150, 160],\n",
    "    \"Wnd\": [200, 210, 190, 220],\n",
    "    \"Hyd\": [300, 310, 305, 295]\n",
    "}, index=[\"Day 1\", \"Day 2\", \"Day 3\", \"Day 4\"])\n",
    "\n",
    "print(\"Before renaming:\\n\", df)\n",
    "\n",
    "# Rename columns\n",
    "df = df.rename(columns={\"Sol\": \"Solar\", \"Wnd\": \"Wind\", \"Hyd\": \"Hydro\"})\n",
    "print(\"\\nAfter renaming:\\n\", df)"
   ]
  },
  {
   "cell_type": "markdown",
   "id": "3f4fff95-47c9-43ca-baa3-1d198d7d397e",
   "metadata": {},
   "source": [
    "---\n",
    "\n",
    "## ⚡ Renaming Rows (Index)"
   ]
  },
  {
   "cell_type": "code",
   "execution_count": 109,
   "id": "390c3dcc-ee58-4600-abe3-200618ce6a73",
   "metadata": {},
   "outputs": [
    {
     "name": "stdout",
     "output_type": "stream",
     "text": [
      "         Solar  Wind  Hydro\n",
      "Monday     120   200    300\n",
      "Tuesday    135   210    310\n",
      "Day 3      150   190    305\n",
      "Day 4      160   220    295\n"
     ]
    }
   ],
   "source": [
    "# Rename index labels (rows)\n",
    "df = df.rename(index={\"Day 1\": \"Monday\", \"Day 2\": \"Tuesday\"})\n",
    "print(df)"
   ]
  },
  {
   "cell_type": "code",
   "execution_count": null,
   "id": "ed5748a7-3430-4874-85de-201fff02a2a0",
   "metadata": {},
   "outputs": [],
   "source": []
  },
  {
   "cell_type": "code",
   "execution_count": null,
   "id": "aa3e4aa6-8d62-4af0-bddd-7f17ceb58038",
   "metadata": {},
   "outputs": [],
   "source": []
  },
  {
   "cell_type": "code",
   "execution_count": null,
   "id": "7d8faef8-d4d8-4c4f-a084-b52685c462f7",
   "metadata": {},
   "outputs": [],
   "source": []
  },
  {
   "cell_type": "code",
   "execution_count": null,
   "id": "e23982c5-7b35-4b06-823b-a75830e26c66",
   "metadata": {},
   "outputs": [],
   "source": []
  }
 ],
 "metadata": {
  "kernelspec": {
   "display_name": "Python 3 (ipykernel)",
   "language": "python",
   "name": "python3"
  },
  "language_info": {
   "codemirror_mode": {
    "name": "ipython",
    "version": 3
   },
   "file_extension": ".py",
   "mimetype": "text/x-python",
   "name": "python",
   "nbconvert_exporter": "python",
   "pygments_lexer": "ipython3",
   "version": "3.12.2"
  }
 },
 "nbformat": 4,
 "nbformat_minor": 5
}
