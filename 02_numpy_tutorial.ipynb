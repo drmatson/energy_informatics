{
 "cells": [
  {
   "cell_type": "markdown",
   "id": "76b89460",
   "metadata": {},
   "source": [
    "\n",
    "# 🔢 NumPy  \n",
    "\n",
    "## 📦 Installation  \n",
    "If NumPy is not installed, you can add it using:  \n",
    "\n",
    "```bash\n",
    "pip install numpy\n",
    "```  \n",
    "\n",
    "or (if using Anaconda):  \n",
    "\n",
    "```bash\n",
    "conda install numpy\n",
    "```  \n",
    "\n",
    "---\n",
    "\n",
    "## ❓ What is NumPy?  \n",
    "**NumPy** (Numerical Python) is the core library for **scientific computing** in Python.  \n",
    "- Provides powerful **N-dimensional arrays**.  \n",
    "- Supports **vectorized operations** (fast math on arrays).  \n",
    "- Contains tools for **statistics, linear algebra, random numbers**.  \n",
    "- Forms the base for many libraries: Pandas, scikit-learn, TensorFlow, PyTorch.  \n"
   ]
  },
  {
   "cell_type": "code",
   "execution_count": 1,
   "id": "9dfa6d6e",
   "metadata": {},
   "outputs": [],
   "source": [
    "import numpy as np"
   ]
  },
  {
   "cell_type": "markdown",
   "id": "6a3badff",
   "metadata": {},
   "source": [
    "# ✨ Creating NumPy Arrays\n",
    "\n",
    "👉 Just like a plain list of numbers, NumPy arrays make it easy to store and process energy production values (or any dataset).\n",
    "\n",
    "\n",
    "-----\n",
    "\n",
    "## From list"
   ]
  },
  {
   "cell_type": "code",
   "execution_count": 2,
   "id": "0974864a",
   "metadata": {},
   "outputs": [
    {
     "name": "stdout",
     "output_type": "stream",
     "text": [
      "[120 135 150 160]\n"
     ]
    }
   ],
   "source": [
    "# Daily solar energy production in kWh\n",
    "energy_data = [120, 135, 150, 160]\n",
    "energy_arr = np.array(energy_data)\n",
    "\n",
    "print(energy_arr)\n",
    "# [120 135 150 160]"
   ]
  },
  {
   "cell_type": "markdown",
   "id": "55767dc4-cfa8-441c-af3e-7d668dd62549",
   "metadata": {},
   "source": [
    "---\n",
    "## 🔎 Range, linspace\n",
    "\n",
    "* **`np.arange(start, stop, step)`**\n",
    "  Generates numbers starting at `start`, up to (but not including) `stop`, stepping by `step`.\n",
    "  Useful for **time intervals, indexes, or sequences with fixed steps**.\n",
    "\n",
    "* **`np.linspace(start, stop, num)`**\n",
    "  Generates `num` evenly spaced values from `start` to `stop` (inclusive).\n",
    "  Useful for **smooth scales, plotting, or dividing a range evenly**.\n",
    "\n",
    "\n",
    "* 👉 `arange()` = *“steps by interval”*\n",
    "* 👉 `linspace()` = *“split into equal parts”*\n",
    "\n"
   ]
  },
  {
   "cell_type": "code",
   "execution_count": 3,
   "id": "2baa5232-1d6e-459b-82dc-67d2dfbbaf2e",
   "metadata": {},
   "outputs": [
    {
     "name": "stdout",
     "output_type": "stream",
     "text": [
      "Measurement hours: [0 2 4 6 8]\n",
      "Efficiency levels: [0.   0.25 0.5  0.75 1.  ]\n"
     ]
    }
   ],
   "source": [
    "hours = np.arange(0, 10, 2)\n",
    "print(\"Measurement hours:\", hours)\n",
    "# [0 2 4 6 8]\n",
    "\n",
    "# np.linspace(start, stop, num)\n",
    "# Simulate 5 evenly spaced efficiency levels between 0% and 100%\n",
    "efficiency = np.linspace(0, 1, 5)\n",
    "print(\"Efficiency levels:\", efficiency)\n",
    "# [0.   0.25 0.5  0.75 1. ]"
   ]
  },
  {
   "cell_type": "markdown",
   "id": "efa971d8-5789-42b6-8f89-d5bd1589d2a4",
   "metadata": {},
   "source": [
    "\n",
    "# 🎲 Random Numbers in NumPy\n",
    "\n",
    "NumPy has several functions to **generate random numbers** useful for simulations in data science and energy analytics ⚡.\n",
    "\n",
    "👉 With these, you can model **efficiency 🌞, noise 📉, and output ⚡** to make your simulations more realistic.\n",
    "\n",
    "---\n",
    "\n",
    "### 🌞 `np.random.rand(n)` → Uniform distribution \\[0, 1)\n",
    "\n",
    "Generates `n` random numbers between **0 and 1**, all equally likely.\n",
    "✅ Use: simulate **efficiencies, probabilities, or fractions**."
   ]
  },
  {
   "cell_type": "code",
   "execution_count": 4,
   "id": "2206c2a6-86d5-42fd-9cf5-affaac48cd01",
   "metadata": {},
   "outputs": [
    {
     "name": "stdout",
     "output_type": "stream",
     "text": [
      "Solar efficiency: [0.11107385 0.8043761  0.71664469]\n"
     ]
    }
   ],
   "source": [
    "# Example: simulate solar panel efficiency (random values between 0 and 1)\n",
    "efficiency = np.random.rand(3)\n",
    "print(\"Solar efficiency:\", efficiency)"
   ]
  },
  {
   "cell_type": "markdown",
   "id": "2d952c59-9bc2-48ae-8af4-0f9af41f4747",
   "metadata": {},
   "source": [
    "---\n",
    "\n",
    "### 📉 `np.random.randn(n)` → Standard normal distribution (mean=0, std=1)\n",
    "\n",
    "Generates `n` random numbers with a **bell-curve distribution** centered at 0.\n",
    "✅ Use: simulate **sensor noise, measurement errors, or fluctuations**."
   ]
  },
  {
   "cell_type": "code",
   "execution_count": 5,
   "id": "208c192d-daf5-496c-90cb-e4655f630702",
   "metadata": {},
   "outputs": [
    {
     "name": "stdout",
     "output_type": "stream",
     "text": [
      "Sensor noise: [ 0.54972407 -0.11752996  0.22364662]\n"
     ]
    }
   ],
   "source": [
    "# Example: simulate noise in sensor readings\n",
    "sensor_noise = np.random.randn(3)\n",
    "print(\"Sensor noise:\", sensor_noise)"
   ]
  },
  {
   "cell_type": "markdown",
   "id": "def76da7-d67d-48d6-8544-350b6dcf395b",
   "metadata": {},
   "source": [
    "---\n",
    "\n",
    "### ⚡ `np.random.randint(low, high, size)` → Random integers\n",
    "\n",
    "Generates random integers in the range `[low, high)`.\n",
    "✅ Use: simulate **discrete counts, daily power output, or events**."
   ]
  },
  {
   "cell_type": "code",
   "execution_count": 6,
   "id": "f735c493-7843-4aaa-9ddc-9a37a994c517",
   "metadata": {},
   "outputs": [
    {
     "name": "stdout",
     "output_type": "stream",
     "text": [
      "Daily output: [6 2 5 9 2]\n"
     ]
    }
   ],
   "source": [
    "# Example: simulate random daily power output (kWh) between 1 and 10\n",
    "daily_output = np.random.randint(1, 10, 5)\n",
    "print(\"Daily output:\", daily_output)"
   ]
  },
  {
   "cell_type": "markdown",
   "id": "d5ab6353-76dc-4ee8-b224-6a9bb35c912a",
   "metadata": {},
   "source": [
    "---\n",
    "### 🎲 Why Use `seed()`?\n",
    "\n",
    "* Ensures **consistent results** for experiments.\n",
    "* Makes it easier to **compare models** or share notebooks.\n",
    "* Useful when teaching or debugging so outputs don’t change randomly.\n",
    "\n",
    "👉 Think of `seed()` as setting the **starting point** for randomness 🎲.\n"
   ]
  },
  {
   "cell_type": "code",
   "execution_count": 7,
   "id": "97528889-8aeb-4940-a8fd-0dbe1effe163",
   "metadata": {},
   "outputs": [
    {
     "name": "stdout",
     "output_type": "stream",
     "text": [
      "Solar output (MWh): [166 192 198 117 183 157 186]\n",
      "Wind output (MWh): [247 246 197 223 182 196 246]\n"
     ]
    }
   ],
   "source": [
    "# Set seed to make results reproducible\n",
    "np.random.seed(123)\n",
    "\n",
    "# Simulate daily solar energy production (MWh) for 7 days\n",
    "solar_output = np.random.randint(100, 200, 7)\n",
    "\n",
    "# Simulate daily wind energy production (MWh) for 7 days\n",
    "wind_output = np.random.randint(150, 250, 7)\n",
    "\n",
    "print(\"Solar output (MWh):\", solar_output)\n",
    "print(\"Wind output (MWh):\", wind_output)"
   ]
  },
  {
   "cell_type": "markdown",
   "id": "f73ca253",
   "metadata": {},
   "source": [
    "---\n",
    "# 🔎 Attributes and Methods\n",
    "* **📐 `shape`** → dataset dimensions (🏭 plants × 📅 days).\n",
    "* **🔄 `reshape`** → reorganizes values into a new structure.\n",
    "* **📊 `max`** → finds the **peak production value**.\n",
    "* **🎯 `argmax`** → gives the index of that max value (in a flat array).\n",
    "* **🗺️ `np.unravel_index`** → converts flat index → (row, column), so you know **which plant 🏭** and **which day 📅** produced the maximum.\n",
    "\n",
    "👉 Useful for spotting **peak energy output days** 🌞💨💧 and reshaping datasets for analysis."
   ]
  },
  {
   "cell_type": "code",
   "execution_count": 8,
   "id": "aa0bb1c0-b97c-4630-886d-047ff9ec8f5e",
   "metadata": {},
   "outputs": [
    {
     "name": "stdout",
     "output_type": "stream",
     "text": [
      "[[120 121 122 123]\n",
      " [124 125 126 127]\n",
      " [128 129 130 131]]\n",
      "Shape: (3, 4)\n",
      "Reshape: [[120 121 122 123 124 125]\n",
      " [126 127 128 129 130 131]]\n",
      "Max: 131\n",
      "Index of Max: 11\n"
     ]
    }
   ],
   "source": [
    "# Energy production data (12 values) in MWh\n",
    "energy_data = np.arange(120, 132)   # 120,121,...,131\n",
    "energy_matrix = energy_data.reshape(3, 4)  # 3 plants × 4 days\n",
    "\n",
    "print(energy_matrix)\n",
    "print(\"Shape:\", energy_matrix.shape)        # 3 rows (plants) × 4 cols (days)\n",
    "print(\"Reshape:\", energy_matrix.reshape(2, 6))  # reshape into 2×6\n",
    "print(\"Max:\", energy_matrix.max())          # highest production value\n",
    "print(\"Index of Max:\", energy_matrix.argmax())  # index (flattened) of max"
   ]
  },
  {
   "cell_type": "code",
   "execution_count": 9,
   "id": "f5db8193-9271-4bf5-aff7-59401c5c1506",
   "metadata": {},
   "outputs": [
    {
     "name": "stdout",
     "output_type": "stream",
     "text": [
      "Max production at Plant 2, Day 3\n"
     ]
    }
   ],
   "source": [
    "# Convert flat index to row & column\n",
    "row, col = np.unravel_index(energy_matrix.argmax(), energy_matrix.shape)\n",
    "print(f\"Max production at Plant {row}, Day {col}\")"
   ]
  },
  {
   "cell_type": "markdown",
   "id": "14ef8fb1-b693-47fb-98ab-2b63050fa906",
   "metadata": {},
   "source": [
    "----\n",
    "### ⚡ Type\n",
    "\n",
    "* **`dtype`** → tells you the **data type** of elements inside a NumPy array.\n",
    "* Common types:\n",
    "\n",
    "  * **int** (integers, e.g. counts, whole kWh values)\n",
    "  * **float** (decimals, e.g. efficiency, percentages)\n",
    "  * **bool** (True/False, e.g. is\\_renewable)\n",
    "* NumPy arrays are **homogeneous** → all elements must have the same type (unlike Python lists).\n",
    "\n",
    "👉 `dtype` is critical in analytics because it affects **memory usage 💾** and **precision 🎯**."
   ]
  },
  {
   "cell_type": "code",
   "execution_count": 10,
   "id": "0d1706bd-7f5b-4191-b5da-bf2d4fbb7443",
   "metadata": {},
   "outputs": [
    {
     "name": "stdout",
     "output_type": "stream",
     "text": [
      "[120 135 150 160]\n",
      "Data type: int64\n"
     ]
    }
   ],
   "source": [
    "# Daily solar energy production (kWh)\n",
    "solar = np.array([120, 135, 150, 160])\n",
    "\n",
    "print(solar)\n",
    "print(\"Data type:\", solar.dtype)"
   ]
  },
  {
   "cell_type": "code",
   "execution_count": 11,
   "id": "47ba5316-e206-47fd-baf7-2d6ed617aee4",
   "metadata": {},
   "outputs": [
    {
     "name": "stdout",
     "output_type": "stream",
     "text": [
      "[0.85 0.9  0.88 0.92]\n",
      "Data type: float64\n"
     ]
    }
   ],
   "source": [
    "# Efficiency values (as percentages)\n",
    "efficiency = np.array([0.85, 0.90, 0.88, 0.92])\n",
    "\n",
    "print(efficiency)\n",
    "print(\"Data type:\", efficiency.dtype)"
   ]
  },
  {
   "cell_type": "markdown",
   "id": "1140166d",
   "metadata": {},
   "source": [
    "---\n",
    "# 🎯 Indexing and Selection\n",
    "\n",
    "* arr[0] → first element (Day 1 🌞).\n",
    "* arr[1:4] → slice Days 2–4 📅.\n",
    "* arr[-1] → last element (most recent day ⏳).\n",
    "* arr[-2:] → last 2 days of production 🔋.\n",
    "\n",
    "👉 Negative indexing is super handy when you want to quickly access the latest data points in time series."
   ]
  },
  {
   "cell_type": "code",
   "execution_count": 12,
   "id": "659a9b94",
   "metadata": {},
   "outputs": [
    {
     "name": "stdout",
     "output_type": "stream",
     "text": [
      "100\n",
      "[120 140 160]\n",
      "180\n",
      "[160 180]\n"
     ]
    }
   ],
   "source": [
    "# Energy production (in MWh) from a solar plant over 5 days\n",
    "production = np.array([100, 120, 140, 160, 180])\n",
    "\n",
    "print(production[0])     # First day's production\n",
    "print(production[1:4])   # Days 2–4 production\n",
    "print(production[-1])     # Last day's production\n",
    "print(production[-2:])    # Last 2 days' production\n"
   ]
  },
  {
   "cell_type": "markdown",
   "id": "38d4b2c3",
   "metadata": {},
   "source": [
    "---\n",
    "# 📡 Broadcasting\n",
    "\n",
    "NumPy allows **broadcasting**: applying operations to arrays of different shapes or applying the same operation to all elements.\n",
    "\n",
    "No need for loops → fast & clean 🚀."
   ]
  },
  {
   "cell_type": "code",
   "execution_count": 13,
   "id": "b8972d0e",
   "metadata": {},
   "outputs": [
    {
     "name": "stdout",
     "output_type": "stream",
     "text": [
      "[110 130 140]\n"
     ]
    }
   ],
   "source": [
    "# Base daily production values in MWh\n",
    "production = np.array([100, 120, 130])\n",
    "\n",
    "# Apply a constant 10 MWh bonus to each day\n",
    "adjusted_production = production + 10\n",
    "\n",
    "print(adjusted_production)"
   ]
  },
  {
   "cell_type": "code",
   "execution_count": 14,
   "id": "b97a5bae",
   "metadata": {},
   "outputs": [
    {
     "name": "stdout",
     "output_type": "stream",
     "text": [
      "[105.  126.  136.5]\n"
     ]
    }
   ],
   "source": [
    "consumption = np.array([100, 120, 130])\n",
    "increase = consumption * 1.05\n",
    "print(increase)"
   ]
  },
  {
   "cell_type": "markdown",
   "id": "bfa8adc5",
   "metadata": {},
   "source": [
    "### 📝 The Importance of `copy()`\n",
    "\n",
    "⚠️ In NumPy, simple assignments don’t create a new array, they create a **view**. To avoid this, use `.copy()`."
   ]
  },
  {
   "cell_type": "code",
   "execution_count": 15,
   "id": "f3a315c3",
   "metadata": {},
   "outputs": [
    {
     "name": "stdout",
     "output_type": "stream",
     "text": [
      "Solar after backup change: [99 15 18 20]\n",
      "Solar: [12 15 18 20]\n",
      "Safe copy: [99 15 18 20]\n"
     ]
    }
   ],
   "source": [
    "solar = np.array([12, 15, 18, 20])\n",
    "backup = solar\n",
    "backup[0] = 99\n",
    "print('Solar after backup change:', solar)\n",
    "\n",
    "solar = np.array([12, 15, 18, 20])\n",
    "safe_copy = solar.copy()\n",
    "safe_copy[0] = 99\n",
    "print('Solar:', solar)\n",
    "print('Safe copy:', safe_copy)"
   ]
  },
  {
   "cell_type": "markdown",
   "id": "a6627c75",
   "metadata": {},
   "source": [
    "----\n",
    "# 🏢 Matrices\n",
    "\n",
    "* arr[row, col] → pick a single value (plant × day).\n",
    "* arr[2] → all columns for row 2 (Hydro plant 💧).\n",
    "* arr[:, 1] → all rows for column 1 (all plants’ production on Day 2 📅).\n"
   ]
  },
  {
   "cell_type": "code",
   "execution_count": 16,
   "id": "c8fa7dd0-bab1-4de7-a2a8-869b7ea4a7a7",
   "metadata": {},
   "outputs": [
    {
     "name": "stdout",
     "output_type": "stream",
     "text": [
      "100\n",
      "190\n",
      "[300 310 305 295]\n",
      "[120 210 310]\n",
      "Shape: (3, 4)\n"
     ]
    }
   ],
   "source": [
    "# Energy production (MWh) for 3 plants over 4 days\n",
    "# Rows = plants, Columns = days\n",
    "production = np.array([\n",
    "    [100, 120, 130, 140],  # Solar 🌞\n",
    "    [200, 210, 190, 220],  # Wind 💨\n",
    "    [300, 310, 305, 295]   # Hydro 💧\n",
    "])\n",
    "\n",
    "print(production[0, 0])   # First plant, first day (Solar, Day 1)\n",
    "print(production[1, 2])   # Second plant, third day (Wind, Day 3)\n",
    "print(production[2])      # All days for Hydro plant\n",
    "print(production[:, 1])   # All plants on Day 2\n",
    "print('Shape:', production.shape)"
   ]
  },
  {
   "cell_type": "code",
   "execution_count": 17,
   "id": "fde9a3e2",
   "metadata": {},
   "outputs": [
    {
     "name": "stdout",
     "output_type": "stream",
     "text": [
      "Production matrix:\n",
      " [[120 130 125]\n",
      " [200 210 205]\n",
      " [300 310 295]]\n",
      "Transposed matrix:\n",
      " [[120 200 300]\n",
      " [130 210 310]\n",
      " [125 205 295]]\n"
     ]
    }
   ],
   "source": [
    "production = np.array([\n",
    "    [120, 130, 125],   # Solar 🌞\n",
    "    [200, 210, 205],   # Wind 💨\n",
    "    [300, 310, 295]    # Hydro 💧\n",
    "])\n",
    "\n",
    "print(\"Production matrix:\\n\", production)\n",
    "\n",
    "# Transpose the matrix (swap rows ↔ columns)\n",
    "print(\"Transposed matrix:\\n\", production.T)"
   ]
  },
  {
   "cell_type": "markdown",
   "id": "da9ee102",
   "metadata": {},
   "source": [
    "---\n",
    "# 🔎 Conditional Selection"
   ]
  },
  {
   "cell_type": "code",
   "execution_count": 18,
   "id": "c1ca1f12",
   "metadata": {},
   "outputs": [
    {
     "name": "stdout",
     "output_type": "stream",
     "text": [
      "[25 30]\n"
     ]
    }
   ],
   "source": [
    "consumption = np.array([12, 18, 25, 15, 30])\n",
    "high_usage = consumption[consumption > 20]\n",
    "print(high_usage)"
   ]
  },
  {
   "cell_type": "code",
   "execution_count": 19,
   "id": "0dd06b60-2d19-44f9-b38c-2e0a235e6790",
   "metadata": {},
   "outputs": [
    {
     "data": {
      "text/plain": [
       "array([False, False,  True, False,  True])"
      ]
     },
     "execution_count": 19,
     "metadata": {},
     "output_type": "execute_result"
    }
   ],
   "source": [
    "consumption>20"
   ]
  },
  {
   "cell_type": "code",
   "execution_count": 20,
   "id": "36fa4178-8c2a-4d67-b54c-8d53bbaf7818",
   "metadata": {},
   "outputs": [
    {
     "data": {
      "text/plain": [
       "array([False, False,  True, False,  True])"
      ]
     },
     "execution_count": 20,
     "metadata": {},
     "output_type": "execute_result"
    }
   ],
   "source": [
    "c_cond = consumption>20\n",
    "c_cond"
   ]
  },
  {
   "cell_type": "code",
   "execution_count": 21,
   "id": "99a58a2f-ba0e-48de-8913-cfe363156adc",
   "metadata": {},
   "outputs": [
    {
     "data": {
      "text/plain": [
       "array([25, 30])"
      ]
     },
     "execution_count": 21,
     "metadata": {},
     "output_type": "execute_result"
    }
   ],
   "source": [
    "high_usage = consumption[c_cond]\n",
    "high_usage"
   ]
  },
  {
   "cell_type": "markdown",
   "id": "3c6f5f73",
   "metadata": {},
   "source": [
    "---\n",
    "# ➕ Operations"
   ]
  },
  {
   "cell_type": "code",
   "execution_count": 22,
   "id": "a15a1517",
   "metadata": {},
   "outputs": [
    {
     "name": "stdout",
     "output_type": "stream",
     "text": [
      "[200 240 280 320]\n",
      "[10000 14400 19600 25600]\n",
      "[10.         10.95445115 11.83215957 12.64911064]\n"
     ]
    }
   ],
   "source": [
    "import numpy as np\n",
    "\n",
    "# Daily solar energy production (MWh) for 4 days\n",
    "production = np.array([100, 120, 140, 160])\n",
    "\n",
    "# Add production to itself (doubling)\n",
    "print(production + production)  \n",
    "\n",
    "# Multiply production by itself (element-wise square)\n",
    "print(production * production)  \n",
    "\n",
    "# Square root (useful for normalization/scaling)\n",
    "print(np.sqrt(production))\n"
   ]
  },
  {
   "cell_type": "markdown",
   "id": "46313d62-5a28-43cb-88e1-ce43a3f03372",
   "metadata": {},
   "source": [
    "---\n",
    "\n",
    "### ⚡  Matrix Multiplication\n",
    "* **Production matrix** → MWh produced (plants × days).\n",
    "* **Cost vector** → price per MWh for each plant.\n",
    "* **Matrix multiplication (`np.dot`)** → gives **daily revenues** across all plants.\n",
    "\n",
    "👉 This shows how **linear algebra** in NumPy can be directly applied to **energy economics 💶⚡**."
   ]
  },
  {
   "cell_type": "code",
   "execution_count": 23,
   "id": "bb2b1743-3340-4ebd-8388-6e42317f6b0f",
   "metadata": {},
   "outputs": [
    {
     "name": "stdout",
     "output_type": "stream",
     "text": [
      "Production matrix (MWh):\n",
      " [[120 130 125]\n",
      " [200 210 205]\n",
      " [300 310 295]]\n",
      "Cost per MWh (€): [50 40 30]\n",
      "Revenue per day (€): [23000 24200 23300]\n"
     ]
    }
   ],
   "source": [
    "production = np.array([\n",
    "    [120, 130, 125],   # Solar 🌞\n",
    "    [200, 210, 205],   # Wind 💨\n",
    "    [300, 310, 295]    # Hydro 💧\n",
    "])\n",
    "\n",
    "# Cost per MWh for each plant (€/MWh)\n",
    "cost_per_mwh = np.array([50, 40, 30])  # Solar=50€, Wind=40€, Hydro=30€\n",
    "\n",
    "# Total revenue per day = cost × production\n",
    "# Matrix multiplication: (1x3 costs) × (3x3 production) = (1x3 revenues per day)\n",
    "revenue = np.dot(cost_per_mwh, production)\n",
    "\n",
    "print(\"Production matrix (MWh):\\n\", production)\n",
    "print(\"Cost per MWh (€):\", cost_per_mwh)\n",
    "print(\"Revenue per day (€):\", revenue)"
   ]
  },
  {
   "cell_type": "code",
   "execution_count": 24,
   "id": "9caf8823-f3aa-4f9f-aae3-dc5f30fc344d",
   "metadata": {},
   "outputs": [
    {
     "name": "stdout",
     "output_type": "stream",
     "text": [
      "Revenue with np.dot (€): [23000 24200 23300]\n",
      "Revenue with @ (€): [23000 24200 23300]\n"
     ]
    }
   ],
   "source": [
    "# Using @ operator (preferred for readability)\n",
    "revenue_at = cost_per_mwh @ production\n",
    "\n",
    "print(\"Revenue with np.dot (€):\", revenue)\n",
    "print(\"Revenue with @ (€):\", revenue_at)\n"
   ]
  },
  {
   "cell_type": "markdown",
   "id": "5e27f1eb",
   "metadata": {},
   "source": [
    "---\n",
    "# 📊 Statistics\n",
    "\n",
    "\n",
    "* **📊 Mean (`np.mean`)** → the **average production** across days.\n",
    "* **📉 Standard Deviation (`np.std`)** → how much production varies from the average (higher = more fluctuations).\n",
    "* **📐 Variance (`np.var`)** → the squared measure of spread (basis of std dev)."
   ]
  },
  {
   "cell_type": "code",
   "execution_count": 25,
   "id": "4eece0ce",
   "metadata": {},
   "outputs": [
    {
     "name": "stdout",
     "output_type": "stream",
     "text": [
      "Mean: 125.0\n",
      "Std Dev: 18.027756377319946\n",
      "Var: 325.0\n"
     ]
    }
   ],
   "source": [
    "# Daily solar energy production (MWh) over 4 days\n",
    "production = np.array([100, 120, 130, 150])\n",
    "\n",
    "print(\"Mean:\", np.mean(production))      # 📊 Average daily production\n",
    "print(\"Std Dev:\", np.std(production))    # 📉 Variation in production\n",
    "print(\"Var:\", np.var(production))        # 📐 Spread of production"
   ]
  },
  {
   "cell_type": "markdown",
   "id": "eb7a355b",
   "metadata": {},
   "source": [
    "---\n",
    "# 🧭 Axes\n",
    "\n",
    "* **`axis=0` → down the rows (📅 column-wise)**\n",
    "\n",
    "  * Adds values **for each column**.\n",
    "  * Here: total energy produced by **all plants per day**.\n",
    "  * `[320, 340, 330]` → Day 1 total = 320 MWh, Day 2 = 340, Day 3 = 330.\n",
    "\n",
    "* **`axis=1` → across the columns (🏭 row-wise)**\n",
    "\n",
    "  * Adds values **for each row**.\n",
    "  * Here: total energy produced by **each plant over all days**.\n",
    "  * `[360, 630]` → Solar total = 360 MWh, Wind total = 630.\n",
    "\n",
    "\n",
    "👉 Think of **axis like a direction**:\n",
    "\n",
    "* `axis=0` → work **down** the rows.\n",
    "* `axis=1` → work **across** the columns.\n"
   ]
  },
  {
   "cell_type": "code",
   "execution_count": 26,
   "id": "70ea6a28",
   "metadata": {},
   "outputs": [
    {
     "name": "stdout",
     "output_type": "stream",
     "text": [
      "Daily totals: [320 340 330]\n",
      "Plant totals: [360 630]\n"
     ]
    }
   ],
   "source": [
    "energy_matrix = np.array([\n",
    "    [120, 130, 110],\n",
    "    [200, 210, 220]\n",
    "])\n",
    "\n",
    "print('Daily totals:', np.sum(energy_matrix, axis=0))\n",
    "print('Plant totals:', np.sum(energy_matrix, axis=1))"
   ]
  },
  {
   "cell_type": "markdown",
   "id": "6f5ce3ec-21f8-40ea-8987-f05e662af420",
   "metadata": {},
   "source": [
    "---\n",
    "\n",
    "# 🧮 Universal Functions (ufuncs)\n",
    "\n",
    "NumPy provides many built-in **mathematical functions** that apply **element-wise** to arrays (no loops needed 🚀).\n",
    "Common ones include:\n",
    "\n",
    "* `np.exp` → exponential\n",
    "* `np.log` → natural logarithm\n",
    "* `np.sin`, `np.cos` → trigonometric functions"
   ]
  },
  {
   "cell_type": "markdown",
   "id": "fcbc01a8-0864-4ca5-b261-ce613e6c23f6",
   "metadata": {},
   "source": [
    "✅ This creates a **sine wave curve** where:\n",
    "\n",
    "* Night hours → `0` (no solar).\n",
    "* Noon → **peak production**.\n",
    "* Evening → returns to `0`."
   ]
  },
  {
   "cell_type": "code",
   "execution_count": 27,
   "id": "289a123d-7572-4c35-8b27-5bf4aec8eeed",
   "metadata": {},
   "outputs": [
    {
     "name": "stdout",
     "output_type": "stream",
     "text": [
      "Solar output (MWh): [0.00000000e+00 0.00000000e+00 0.00000000e+00 0.00000000e+00\n",
      " 0.00000000e+00 0.00000000e+00 0.00000000e+00 2.58819045e+01\n",
      " 5.00000000e+01 7.07106781e+01 8.66025404e+01 9.65925826e+01\n",
      " 1.00000000e+02 9.65925826e+01 8.66025404e+01 7.07106781e+01\n",
      " 5.00000000e+01 2.58819045e+01 1.22464680e-14 0.00000000e+00\n",
      " 0.00000000e+00 0.00000000e+00 0.00000000e+00 0.00000000e+00]\n"
     ]
    },
    {
     "data": {
      "image/png": "[encoded data removed]",
      "text/plain": [
       "<Figure size 640x480 with 1 Axes>"
      ]
     },
     "metadata": {},
     "output_type": "display_data"
    }
   ],
   "source": [
    "import matplotlib.pyplot as plt\n",
    "\n",
    "# Hours in a day (0–23)\n",
    "hours = np.arange(0, 24)\n",
    "\n",
    "# Model solar production using a sine wave\n",
    "# Shifted so it's zero at night and peaks at noon\n",
    "solar_output = np.maximum(0, np.sin((hours - 6) * np.pi / 12)) * 100\n",
    "\n",
    "print(\"Solar output (MWh):\", solar_output)\n",
    "\n",
    "# Plot the solar cycle\n",
    "plt.plot(hours, solar_output, marker='o')\n",
    "plt.title(\"Solar Energy Production Over a Day\")\n",
    "plt.xlabel(\"Hour of Day\")\n",
    "plt.ylabel(\"Production (MWh)\")\n",
    "plt.grid(True)\n",
    "plt.show();"
   ]
  }
 ],
 "metadata": {
  "kernelspec": {
   "display_name": "Python 3 (ipykernel)",
   "language": "python",
   "name": "python3"
  },
  "language_info": {
   "codemirror_mode": {
    "name": "ipython",
    "version": 3
   },
   "file_extension": ".py",
   "mimetype": "text/x-python",
   "name": "python",
   "nbconvert_exporter": "python",
   "pygments_lexer": "ipython3",
   "version": "3.12.2"
  }
 },
 "nbformat": 4,
 "nbformat_minor": 5
}
