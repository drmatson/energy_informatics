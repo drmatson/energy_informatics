{
 "cells": [
  {
   "cell_type": "markdown",
   "id": "4397096d-6bab-4ac8-a461-b1e87a11ad79",
   "metadata": {},
   "source": [
    "# ⚙️ Interactive Controls in Jupyter (ipywidgets)\n",
    "\n",
    "Interactive widgets let you **play** with parameters (sliders, dropdowns, checkboxes) and **see results update instantly** — perfect for exploring energy data (demand vs. temperature, weekly profiles, generation mixes).\n",
    "\n",
    "---\n",
    "\n",
    "# Setup & Imports 🛠️\n",
    "\n",
    "```python\n",
    "# If needed:\n",
    "# !pip install ipywidgets"
   ]
  },
  {
   "cell_type": "code",
   "execution_count": 1,
   "id": "4ebedd8f-9051-4495-ab97-a1309126764d",
   "metadata": {},
   "outputs": [],
   "source": [
    "import numpy as np\n",
    "import pandas as pd\n",
    "import matplotlib.pyplot as plt\n",
    "from ipywidgets import interact, interactive, interactive_output\n",
    "import ipywidgets as widgets\n",
    "\n",
    "# For nicer plots\n",
    "plt.rcParams[\"figure.figsize\"] = (9, 4)\n",
    "plt.rcParams[\"axes.grid\"] = True"
   ]
  },
  {
   "cell_type": "markdown",
   "id": "a442aa22-044e-4035-a0b9-8091053b3c8e",
   "metadata": {},
   "source": [
    "# 🔹 Quick demo (no boilerplate)"
   ]
  },
  {
   "cell_type": "code",
   "execution_count": 2,
   "id": "7c2978b2-7d94-4a6e-b1fb-e9d67f85679e",
   "metadata": {},
   "outputs": [
    {
     "data": {
      "application/vnd.jupyter.widget-view+json": {
       "model_id": "a115eb3c2e004775a9621e064e0de21b",
       "version_major": 2,
       "version_minor": 0
      },
      "text/plain": [
       "interactive(children=(IntSlider(value=3, description='a', max=10), IntSlider(value=4, description='b', max=10)…"
      ]
     },
     "metadata": {},
     "output_type": "display_data"
    }
   ],
   "source": [
    "@interact(a=(0, 10, 1), b=(0, 10, 1))\n",
    "def add(a=3, b=4):\n",
    "    print(f\"{a} + {b} = {a+b}\")"
   ]
  },
  {
   "cell_type": "code",
   "execution_count": 3,
   "id": "f470538c-4cda-45ae-8ecc-3ae7b5ce5286",
   "metadata": {},
   "outputs": [
    {
     "data": {
      "application/vnd.jupyter.widget-view+json": {
       "model_id": "ba7eb8807bf34860acba44186bbc1596",
       "version_major": 2,
       "version_minor": 0
      },
      "text/plain": [
       "interactive(children=(Dropdown(description='source', options=('Solar', 'Wind', 'Hydro'), value='Solar'), Check…"
      ]
     },
     "metadata": {},
     "output_type": "display_data"
    }
   ],
   "source": [
    "@interact(source=[\"Solar\", \"Wind\", \"Hydro\"], normalized=False)\n",
    "def show_config(source=\"Solar\", normalized=False):\n",
    "    print(f\"Source: {source}, normalized={normalized}\")\n",
    "\n"
   ]
  },
  {
   "cell_type": "markdown",
   "id": "5eca2d66-283b-4455-baed-9c128e2a9424",
   "metadata": {},
   "source": [
    "# Energy Example: Demand vs Temperature (U-shape) 🌡️⚡\n",
    "\n",
    "Interactively explore how parameters change the curve.\n"
   ]
  },
  {
   "cell_type": "code",
   "execution_count": 4,
   "id": "6e20e65b-b0e2-4fb8-9084-a6ed6d164380",
   "metadata": {},
   "outputs": [
    {
     "data": {
      "application/vnd.jupyter.widget-view+json": {
       "model_id": "df9831a9386446d3b1cc386602df1723",
       "version_major": 2,
       "version_minor": 0
      },
      "text/plain": [
       "interactive(children=(IntSlider(value=15, description='center', max=25), IntSlider(value=6, description='scale…"
      ]
     },
     "metadata": {},
     "output_type": "display_data"
    }
   ],
   "source": [
    "x = np.linspace(-15, 32, 300)  # temperature °C\n",
    "\n",
    "@interact(center=(0, 25, 1), scale=(1, 15, 1), noise=(0.0, 100.0, 5.0))\n",
    "def demand_vs_temp(center=15, scale=6, noise=40.0):\n",
    "    rng = np.random.default_rng(42)\n",
    "    y = 1200 + scale*(x - center)**2 + rng.normal(0, noise, size=len(x))\n",
    "    plt.plot(x, y, label=\"Demand model\")\n",
    "    plt.title(\"Demand vs Temperature (interactive model)\")\n",
    "    plt.xlabel(\"Temp (°C)\"); plt.ylabel(\"Demand [MW]\")\n",
    "    plt.legend(); plt.show()"
   ]
  },
  {
   "cell_type": "markdown",
   "id": "29910258-293a-45a3-aa72-a4936a65e3d5",
   "metadata": {},
   "source": [
    "> 🧠 **Interpretation:** moving the **center** mimics comfort temperature; **scale** controls sensitivity; **noise** simulates unexplained variability.\n"
   ]
  },
  {
   "cell_type": "markdown",
   "id": "63ba51d4-bcf0-4e3c-aadb-751c5d0a6138",
   "metadata": {},
   "source": [
    "---\n",
    "\n",
    "# Interactive Time-Window Filter with DateRangeSlider ⏳\n",
    "\n",
    "Filter a synthetic hourly demand series by an adjustable date range."
   ]
  },
  {
   "cell_type": "code",
   "execution_count": 6,
   "id": "97fdf079-5423-4b38-8641-4922e4923229",
   "metadata": {},
   "outputs": [
    {
     "data": {
      "application/vnd.jupyter.widget-view+json": {
       "model_id": "31ee5d1515d04632ab9641dcb18a8387",
       "version_major": 2,
       "version_minor": 0
      },
      "text/plain": [
       "interactive(children=(SelectionRangeSlider(continuous_update=False, description='Window', index=(0, 1439), lay…"
      ]
     },
     "metadata": {},
     "output_type": "display_data"
    }
   ],
   "source": [
    "# Synthetic hourly demand for 60 days\n",
    "idx = pd.date_range(\"2024-01-01\", periods=24*60, freq=\"h\")\n",
    "demand = 1200 + 250*np.sin(2*np.pi*(idx.hour/24)) + np.random.normal(0, 45, len(idx))\n",
    "df = pd.DataFrame({\"time\": idx, \"demand\": demand}).set_index(\"time\")\n",
    "\n",
    "start = widgets.SelectionRangeSlider(\n",
    "    options=[pd.Timestamp(t) for t in df.index],\n",
    "    index=(0, len(df.index)-1),\n",
    "    description=\"Window\",\n",
    "    layout=widgets.Layout(width=\"95%\"),\n",
    "    continuous_update=False\n",
    ")\n",
    "\n",
    "def plot_window(window):\n",
    "    s, e = window\n",
    "    sub = df.loc[s:e]\n",
    "    sub.plot(y=\"demand\", legend=False)\n",
    "    plt.title(f\"Demand window: {s.date()} → {e.date()}\")\n",
    "    plt.xlabel(\"Time\"); plt.ylabel(\"Demand [MW]\")\n",
    "    plt.show()\n",
    "\n",
    "widgets.interact(plot_window, window=start);"
   ]
  },
  {
   "cell_type": "markdown",
   "id": "e7ef0bd9-f317-4f17-b4e2-df8fb1941936",
   "metadata": {},
   "source": [
    "> ⛽ **Tip:** `continuous_update=False` prevents constant redraw while dragging — smoother for big data."
   ]
  },
  {
   "cell_type": "markdown",
   "id": "98fa5eee-7f97-47b9-8ea0-702cc87f58b7",
   "metadata": {},
   "source": [
    "---\n",
    "\n",
    "# Generation Mix Playground (Checkboxes) 🌞💨💧\n",
    "\n",
    "Toggle sources on/off and scale them live."
   ]
  },
  {
   "cell_type": "code",
   "execution_count": 7,
   "id": "192813b8-86c7-4528-b888-89f48c8b00ed",
   "metadata": {},
   "outputs": [
    {
     "data": {
      "application/vnd.jupyter.widget-view+json": {
       "model_id": "760e2e506bbe4629b90d3b4bf3583d68",
       "version_major": 2,
       "version_minor": 0
      },
      "text/plain": [
       "HBox(children=(Checkbox(value=True, description='Solar'), Checkbox(value=True, description='Wind'), Checkbox(v…"
      ]
     },
     "metadata": {},
     "output_type": "display_data"
    },
    {
     "data": {
      "application/vnd.jupyter.widget-view+json": {
       "model_id": "e88988803dc64527b6bf7e3d1c272b07",
       "version_major": 2,
       "version_minor": 0
      },
      "text/plain": [
       "Output()"
      ]
     },
     "metadata": {},
     "output_type": "display_data"
    }
   ],
   "source": [
    "days = pd.date_range(\"2024-03-01\", periods=21, freq=\"D\")\n",
    "solar = np.clip(200 + 60*np.sin(2*np.pi*(days.dayofyear/365)), 120, 320)\n",
    "wind  = 300 + 120*np.sin(2*np.pi*(days.dayofyear/10) + 1)\n",
    "hydro = 500 + np.random.normal(0, 30, len(days))\n",
    "\n",
    "mix = pd.DataFrame({\"day\": days, \"Solar\": solar, \"Wind\": wind, \"Hydro\": hydro}).set_index(\"day\")\n",
    "\n",
    "use_solar = widgets.Checkbox(value=True, description=\"Solar\")\n",
    "use_wind  = widgets.Checkbox(value=True, description=\"Wind\")\n",
    "use_hydro = widgets.Checkbox(value=True, description=\"Hydro\")\n",
    "scale     = widgets.FloatSlider(value=1.0, min=0.5, max=1.5, step=0.05, description=\"Scale\", readout_format=\".2f\")\n",
    "\n",
    "def update(use_solar, use_wind, use_hydro, scale):\n",
    "    comp = []\n",
    "    if use_solar: comp.append(\"Solar\")\n",
    "    if use_wind:  comp.append(\"Wind\")\n",
    "    if use_hydro: comp.append(\"Hydro\")\n",
    "    if not comp:\n",
    "        plt.figure(); plt.title(\"No sources selected\"); plt.show(); return\n",
    "    (mix[comp]*scale).plot.area()\n",
    "    plt.title(\"Generation Mix (interactive)\")\n",
    "    plt.xlabel(\"Day\"); plt.ylabel(\"Energy [MWh]\")\n",
    "    plt.show()\n",
    "\n",
    "ui = widgets.HBox([use_solar, use_wind, use_hydro, scale])\n",
    "out = widgets.interactive_output(update, {\"use_solar\":use_solar, \"use_wind\":use_wind, \"use_hydro\":use_hydro, \"scale\":scale})\n",
    "display(ui, out)"
   ]
  },
  {
   "cell_type": "markdown",
   "id": "0028df03-4e07-4d7e-9394-1296ad84284e",
   "metadata": {},
   "source": [
    "> 🧩 **Pattern:** `interactive_output(function, controls_dict)` gives flexible layout control (widgets in one box, plot below)."
   ]
  },
  {
   "cell_type": "markdown",
   "id": "269684d2-ce21-452d-93cd-adf1ced87232",
   "metadata": {},
   "source": [
    "---\n",
    "\n",
    "# Weekday vs Weekend Load Profiles (ToggleButtons) 📅\n",
    "\n",
    "Switch profile type and smoothing window."
   ]
  },
  {
   "cell_type": "code",
   "execution_count": 8,
   "id": "0985b74a-4e3d-4e42-bd46-31cac4ed3369",
   "metadata": {},
   "outputs": [
    {
     "data": {
      "application/vnd.jupyter.widget-view+json": {
       "model_id": "43e8ec1752994d61a56898047a766796",
       "version_major": 2,
       "version_minor": 0
      },
      "text/plain": [
       "HBox(children=(ToggleButtons(description='Day type', options=('Weekday', 'Weekend'), value='Weekday'), IntSlid…"
      ]
     },
     "metadata": {},
     "output_type": "display_data"
    },
    {
     "data": {
      "application/vnd.jupyter.widget-view+json": {
       "model_id": "f1aab553740f40b9a06de04bb3fd16f5",
       "version_major": 2,
       "version_minor": 0
      },
      "text/plain": [
       "Output()"
      ]
     },
     "metadata": {},
     "output_type": "display_data"
    }
   ],
   "source": [
    "hours = np.arange(24)\n",
    "weekday = 900 + 220*np.exp(-0.5*((hours-8)/2.2)**2) + 260*np.exp(-0.5*((hours-18)/2.7)**2)\n",
    "weekend = 820 + 140*np.exp(-0.5*((hours-11)/3.1)**2) + 120*np.exp(-0.5*((hours-19)/3.6)**2)\n",
    "rng = np.random.default_rng(0)\n",
    "weekday += rng.normal(0, 15, size=24); weekend += rng.normal(0, 15, size=24)\n",
    "\n",
    "profile = pd.DataFrame({\"hour\": hours, \"Weekday\": weekday, \"Weekend\": weekend}).set_index(\"hour\")\n",
    "\n",
    "mode = widgets.ToggleButtons(options=[\"Weekday\",\"Weekend\"], description=\"Day type\")\n",
    "smooth = widgets.IntSlider(value=1, min=1, max=5, step=1, description=\"Smooth k\")\n",
    "\n",
    "def plot_profile(mode, smooth):\n",
    "    y = profile[mode].copy()\n",
    "    if smooth > 1:\n",
    "        y = pd.Series(y).rolling(smooth, min_periods=1, center=True).mean().values\n",
    "    plt.plot(hours, profile[mode], \"o-\", alpha=0.4, label=\"raw\")\n",
    "    plt.plot(hours, y, \"o-\", label=f\"smoothed (k={smooth})\")\n",
    "    plt.title(f\"{mode} Load Profile\")\n",
    "    plt.xlabel(\"Hour\"); plt.ylabel(\"Demand [MW]\"); plt.legend(); plt.show()\n",
    "\n",
    "display(widgets.HBox([mode, smooth]))\n",
    "out = widgets.interactive_output(plot_profile, {\"mode\":mode, \"smooth\":smooth})\n",
    "display(out)"
   ]
  },
  {
   "cell_type": "markdown",
   "id": "ea50f5d3-d023-4e12-a62c-27f21123ada4",
   "metadata": {},
   "source": [
    "---\n",
    "\n",
    "# Parameter Fitting Sandbox (Manual) 🧪\n",
    "\n",
    "Manually tune a simple linear model to see effects on residuals."
   ]
  },
  {
   "cell_type": "code",
   "execution_count": 10,
   "id": "404e1867-d21d-4790-9f16-aeceb6fd2338",
   "metadata": {},
   "outputs": [
    {
     "data": {
      "application/vnd.jupyter.widget-view+json": {
       "model_id": "50fa76e1aa084736a10eb5b6db06560e",
       "version_major": 2,
       "version_minor": 0
      },
      "text/plain": [
       "FloatSlider(value=1400.0, description='Intercept', max=1800.0, min=1000.0, step=10.0)"
      ]
     },
     "metadata": {},
     "output_type": "display_data"
    },
    {
     "data": {
      "application/vnd.jupyter.widget-view+json": {
       "model_id": "7f00076cbd274112aa5f7cfe232a71f6",
       "version_major": 2,
       "version_minor": 0
      },
      "text/plain": [
       "FloatSlider(value=-20.0, description='Slope', max=20.0, min=-60.0, step=2.0)"
      ]
     },
     "metadata": {},
     "output_type": "display_data"
    },
    {
     "data": {
      "application/vnd.jupyter.widget-view+json": {
       "model_id": "ab6d19ca1fa4460798088cd020a2219e",
       "version_major": 2,
       "version_minor": 0
      },
      "text/plain": [
       "Output()"
      ]
     },
     "metadata": {},
     "output_type": "display_data"
    }
   ],
   "source": [
    "# Synthetic: demand vs temp (roughly linear in a limited range)\n",
    "rng = np.random.default_rng(3)\n",
    "n = 300\n",
    "temp = rng.uniform(-5, 25, n)\n",
    "demand = 1400 - 20*temp + rng.normal(0, 40, n)\n",
    "df_lin = pd.DataFrame({\"temp\":temp, \"demand\":demand})\n",
    "\n",
    "alpha = widgets.FloatSlider(value=1400, min=1000, max=1800, step=10, description=\"Intercept\")\n",
    "beta  = widgets.FloatSlider(value=-20,  min=-60,  max=20,   step=2,  description=\"Slope\")\n",
    "\n",
    "def fit_demo(alpha, beta):\n",
    "    yhat = alpha + beta*df_lin[\"temp\"]\n",
    "    resid = df_lin[\"demand\"] - yhat\n",
    "    fig, ax = plt.subplots(1, 2, figsize=(12, 4))\n",
    "    ax[0].scatter(df_lin[\"temp\"], df_lin[\"demand\"], alpha=0.5, label=\"data\")\n",
    "    ax[0].plot(np.sort(df_lin[\"temp\"]), alpha + beta*np.sort(df_lin[\"temp\"]), color=\"red\", label=\"model\")\n",
    "    ax[0].set_title(\"Demand vs Temp (manual model)\"); ax[0].set_xlabel(\"Temp (°C)\"); ax[0].set_ylabel(\"Demand [MW]\"); ax[0].legend()\n",
    "    ax[1].hist(resid, bins=20)\n",
    "    ax[1].set_title(f\"Residuals (MAE={resid.abs().mean():.1f})\"); ax[1].set_xlabel(\"Error [MW]\")\n",
    "    plt.show()\n",
    "\n",
    "display(alpha, beta)\n",
    "out = widgets.interactive_output(fit_demo, {\"alpha\":alpha, \"beta\":beta})\n",
    "display(out)"
   ]
  },
  {
   "cell_type": "markdown",
   "id": "1c246570-bd8d-4b6a-99b0-44a6ab715100",
   "metadata": {},
   "source": [
    "\n",
    "---\n",
    "\n",
    "# Pro Tips for Smooth Interactivity 🚀\n",
    "\n",
    "* **Turn off live updates** while dragging heavy sliders: `continuous_update=False`.\n",
    "* **Debounce text inputs** with `Text(value=\"\", continuous_update=False)`.\n",
    "* **Cache data** outside the callback; only recompute what’s necessary inside.\n",
    "* **Prefer vectorized ops** (NumPy/Pandas) over Python loops in callbacks.\n",
    "* For large plots, consider **downsampling** or using Plotly for fast interactivity.\n",
    "\n",
    "---\n",
    "\n",
    "# Quick Widget Gallery 🎛️\n"
   ]
  },
  {
   "cell_type": "code",
   "execution_count": 11,
   "id": "66f8b38e-bc22-48d4-9063-3e864359dbf1",
   "metadata": {},
   "outputs": [
    {
     "data": {
      "application/vnd.jupyter.widget-view+json": {
       "model_id": "b9cd74d3244b4cff80bf97991d0bfb11",
       "version_major": 2,
       "version_minor": 0
      },
      "text/plain": [
       "VBox(children=(IntSlider(value=0, description='Int'), FloatSlider(value=0.0, description='Float'), Dropdown(de…"
      ]
     },
     "execution_count": 11,
     "metadata": {},
     "output_type": "execute_result"
    }
   ],
   "source": [
    "widgets.VBox([\n",
    "    widgets.IntSlider(description=\"Int\"),\n",
    "    widgets.FloatSlider(description=\"Float\", step=0.1),\n",
    "    widgets.Dropdown(options=[\"Solar\",\"Wind\",\"Hydro\"], description=\"Source\"),\n",
    "    widgets.RadioButtons(options=[\"MAE\",\"RMSE\",\"MAPE\"], description=\"Metric\"),\n",
    "    widgets.Checkbox(description=\"Normalize\", value=False),\n",
    "    widgets.Text(description=\"Label\"),\n",
    "    widgets.ColorPicker(concise=True, description=\"Color\"),\n",
    "])"
   ]
  },
  {
   "cell_type": "markdown",
   "id": "0e5e2e87-8613-4c82-b151-66b7ca87b147",
   "metadata": {},
   "source": [
    "> 📚 Docs: `help(widgets)` or the ipywidgets examples in Jupyter."
   ]
  },
  {
   "cell_type": "markdown",
   "id": "aadd7614-9338-4539-8cb6-ae4c935e57e1",
   "metadata": {},
   "source": [
    "----\n",
    "# Minimal Pattern to Reuse 🧩\n",
    "\n",
    "Structure your interactive cell like this:\n",
    "\n",
    "```python\n",
    "# 1) Build widgets\n",
    "w1 = widgets.FloatSlider(..., continuous_update=False)\n",
    "w2 = widgets.Dropdown(...)\n",
    "\n",
    "# 2) Define update function\n",
    "def update(param1, param2):\n",
    "    # compute / filter / plot\n",
    "    pass\n",
    "\n",
    "# 3) Wire up & display\n",
    "ui = widgets.HBox([w1, w2])\n",
    "out = widgets.interactive_output(update, {\"param1\": w1, \"param2\": w2})\n",
    "display(ui, out)\n",
    "```\n",
    "\n"
   ]
  }
 ],
 "metadata": {
  "kernelspec": {
   "display_name": "Python 3 (ipykernel)",
   "language": "python",
   "name": "python3"
  },
  "language_info": {
   "codemirror_mode": {
    "name": "ipython",
    "version": 3
   },
   "file_extension": ".py",
   "mimetype": "text/x-python",
   "name": "python",
   "nbconvert_exporter": "python",
   "pygments_lexer": "ipython3",
   "version": "3.12.2"
  }
 },
 "nbformat": 4,
 "nbformat_minor": 5
}
